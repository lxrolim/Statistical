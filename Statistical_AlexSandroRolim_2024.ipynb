{
 "cells": [
  {
   "cell_type": "code",
   "execution_count": 1,
   "id": "8068c9b9",
   "metadata": {},
   "outputs": [],
   "source": [
    "import pandas as pd\n",
    "import statistics as stats\n",
    "import numpy as np\n",
    "import matplotlib.pyplot as plt\n",
    "import seaborn as sns\n",
    "import statistics as stats"
   ]
  },
  {
   "cell_type": "code",
   "execution_count": 2,
   "id": "910e2af1",
   "metadata": {},
   "outputs": [],
   "source": [
    "business_dataset = pd.read_csv('CA1_business_dataset.csv')"
   ]
  },
  {
   "cell_type": "code",
   "execution_count": 3,
   "id": "9f8f8ccd",
   "metadata": {},
   "outputs": [
    {
     "data": {
      "text/html": [
       "<div>\n",
       "<style scoped>\n",
       "    .dataframe tbody tr th:only-of-type {\n",
       "        vertical-align: middle;\n",
       "    }\n",
       "\n",
       "    .dataframe tbody tr th {\n",
       "        vertical-align: top;\n",
       "    }\n",
       "\n",
       "    .dataframe thead th {\n",
       "        text-align: right;\n",
       "    }\n",
       "</style>\n",
       "<table border=\"1\" class=\"dataframe\">\n",
       "  <thead>\n",
       "    <tr style=\"text-align: right;\">\n",
       "      <th></th>\n",
       "      <th>Customer Satisfaction Score</th>\n",
       "      <th>Response Time</th>\n",
       "      <th>Daily User Logins</th>\n",
       "      <th>Average Session Duration</th>\n",
       "      <th>Survey Response Rate</th>\n",
       "      <th>Transaction Amount</th>\n",
       "      <th>Product Rating</th>\n",
       "      <th>Preferred Communication Channel</th>\n",
       "      <th>Membership Status</th>\n",
       "      <th>Product Category Preference</th>\n",
       "      <th>...</th>\n",
       "      <th>Referral Count</th>\n",
       "      <th>Account Age</th>\n",
       "      <th>Feedback Score</th>\n",
       "      <th>Product Return Rate</th>\n",
       "      <th>Marketing Email Click Rate</th>\n",
       "      <th>Subscription Status</th>\n",
       "      <th>Product Upsell Success</th>\n",
       "      <th>Customer Segment Group</th>\n",
       "      <th>Interest in New Product</th>\n",
       "      <th>Income Level</th>\n",
       "    </tr>\n",
       "  </thead>\n",
       "  <tbody>\n",
       "    <tr>\n",
       "      <th>0</th>\n",
       "      <td>37</td>\n",
       "      <td>95.07</td>\n",
       "      <td>73</td>\n",
       "      <td>59.87</td>\n",
       "      <td>15.60</td>\n",
       "      <td>15.60</td>\n",
       "      <td>6</td>\n",
       "      <td>Email</td>\n",
       "      <td>Yes</td>\n",
       "      <td>Basic</td>\n",
       "      <td>...</td>\n",
       "      <td>18</td>\n",
       "      <td>30</td>\n",
       "      <td>52</td>\n",
       "      <td>Yes</td>\n",
       "      <td>29.12</td>\n",
       "      <td>1</td>\n",
       "      <td>1</td>\n",
       "      <td>C</td>\n",
       "      <td>No</td>\n",
       "      <td>High</td>\n",
       "    </tr>\n",
       "    <tr>\n",
       "      <th>1</th>\n",
       "      <td>79</td>\n",
       "      <td>19.97</td>\n",
       "      <td>51</td>\n",
       "      <td>59.24</td>\n",
       "      <td>4.65</td>\n",
       "      <td>60.75</td>\n",
       "      <td>17</td>\n",
       "      <td>Phone</td>\n",
       "      <td>Yes</td>\n",
       "      <td>Gold</td>\n",
       "      <td>...</td>\n",
       "      <td>12</td>\n",
       "      <td>50</td>\n",
       "      <td>3</td>\n",
       "      <td>No</td>\n",
       "      <td>25.88</td>\n",
       "      <td>1</td>\n",
       "      <td>1</td>\n",
       "      <td>C</td>\n",
       "      <td>No</td>\n",
       "      <td>Low</td>\n",
       "    </tr>\n",
       "    <tr>\n",
       "      <th>2</th>\n",
       "      <td>97</td>\n",
       "      <td>77.51</td>\n",
       "      <td>94</td>\n",
       "      <td>89.48</td>\n",
       "      <td>59.79</td>\n",
       "      <td>92.19</td>\n",
       "      <td>9</td>\n",
       "      <td>SMS</td>\n",
       "      <td>Yes</td>\n",
       "      <td>Platinum</td>\n",
       "      <td>...</td>\n",
       "      <td>54</td>\n",
       "      <td>14</td>\n",
       "      <td>80</td>\n",
       "      <td>Yes</td>\n",
       "      <td>98.69</td>\n",
       "      <td>1</td>\n",
       "      <td>1</td>\n",
       "      <td>C</td>\n",
       "      <td>No</td>\n",
       "      <td>Low</td>\n",
       "    </tr>\n",
       "    <tr>\n",
       "      <th>3</th>\n",
       "      <td>73</td>\n",
       "      <td>77.13</td>\n",
       "      <td>7</td>\n",
       "      <td>35.85</td>\n",
       "      <td>11.59</td>\n",
       "      <td>86.31</td>\n",
       "      <td>62</td>\n",
       "      <td>Email</td>\n",
       "      <td>Yes</td>\n",
       "      <td>Platinum</td>\n",
       "      <td>...</td>\n",
       "      <td>12</td>\n",
       "      <td>71</td>\n",
       "      <td>76</td>\n",
       "      <td>No</td>\n",
       "      <td>77.10</td>\n",
       "      <td>0</td>\n",
       "      <td>1</td>\n",
       "      <td>C</td>\n",
       "      <td>No</td>\n",
       "      <td>Low</td>\n",
       "    </tr>\n",
       "    <tr>\n",
       "      <th>4</th>\n",
       "      <td>3</td>\n",
       "      <td>63.64</td>\n",
       "      <td>31</td>\n",
       "      <td>50.86</td>\n",
       "      <td>90.76</td>\n",
       "      <td>24.93</td>\n",
       "      <td>41</td>\n",
       "      <td>Phone</td>\n",
       "      <td>Yes</td>\n",
       "      <td>Platinum</td>\n",
       "      <td>...</td>\n",
       "      <td>87</td>\n",
       "      <td>80</td>\n",
       "      <td>19</td>\n",
       "      <td>No</td>\n",
       "      <td>53.93</td>\n",
       "      <td>1</td>\n",
       "      <td>0</td>\n",
       "      <td>D</td>\n",
       "      <td>Yes</td>\n",
       "      <td>Medium</td>\n",
       "    </tr>\n",
       "    <tr>\n",
       "      <th>5</th>\n",
       "      <td>43</td>\n",
       "      <td>81.80</td>\n",
       "      <td>86</td>\n",
       "      <td>0.70</td>\n",
       "      <td>51.07</td>\n",
       "      <td>41.74</td>\n",
       "      <td>22</td>\n",
       "      <td>SMS</td>\n",
       "      <td>Yes</td>\n",
       "      <td>Gold</td>\n",
       "      <td>...</td>\n",
       "      <td>96</td>\n",
       "      <td>25</td>\n",
       "      <td>50</td>\n",
       "      <td>No</td>\n",
       "      <td>28.48</td>\n",
       "      <td>1</td>\n",
       "      <td>1</td>\n",
       "      <td>D</td>\n",
       "      <td>No</td>\n",
       "      <td>High</td>\n",
       "    </tr>\n",
       "    <tr>\n",
       "      <th>6</th>\n",
       "      <td>91</td>\n",
       "      <td>23.96</td>\n",
       "      <td>14</td>\n",
       "      <td>48.95</td>\n",
       "      <td>49.61</td>\n",
       "      <td>50.25</td>\n",
       "      <td>50</td>\n",
       "      <td>Email</td>\n",
       "      <td>Yes</td>\n",
       "      <td>Gold</td>\n",
       "      <td>...</td>\n",
       "      <td>84</td>\n",
       "      <td>32</td>\n",
       "      <td>19</td>\n",
       "      <td>No</td>\n",
       "      <td>59.09</td>\n",
       "      <td>0</td>\n",
       "      <td>1</td>\n",
       "      <td>B</td>\n",
       "      <td>Yes</td>\n",
       "      <td>Low</td>\n",
       "    </tr>\n",
       "    <tr>\n",
       "      <th>7</th>\n",
       "      <td>17</td>\n",
       "      <td>69.09</td>\n",
       "      <td>39</td>\n",
       "      <td>93.67</td>\n",
       "      <td>49.61</td>\n",
       "      <td>50.25</td>\n",
       "      <td>50</td>\n",
       "      <td>Phone</td>\n",
       "      <td>Yes</td>\n",
       "      <td>Platinum</td>\n",
       "      <td>...</td>\n",
       "      <td>9</td>\n",
       "      <td>90</td>\n",
       "      <td>90</td>\n",
       "      <td>No</td>\n",
       "      <td>33.90</td>\n",
       "      <td>1</td>\n",
       "      <td>0</td>\n",
       "      <td>C</td>\n",
       "      <td>Yes</td>\n",
       "      <td>Low</td>\n",
       "    </tr>\n",
       "    <tr>\n",
       "      <th>8</th>\n",
       "      <td>64</td>\n",
       "      <td>8.41</td>\n",
       "      <td>16</td>\n",
       "      <td>89.86</td>\n",
       "      <td>60.64</td>\n",
       "      <td>0.92</td>\n",
       "      <td>10</td>\n",
       "      <td>SMS</td>\n",
       "      <td>Yes</td>\n",
       "      <td>Basic</td>\n",
       "      <td>...</td>\n",
       "      <td>24</td>\n",
       "      <td>33</td>\n",
       "      <td>75</td>\n",
       "      <td>No</td>\n",
       "      <td>84.92</td>\n",
       "      <td>0</td>\n",
       "      <td>1</td>\n",
       "      <td>D</td>\n",
       "      <td>Yes</td>\n",
       "      <td>Medium</td>\n",
       "    </tr>\n",
       "    <tr>\n",
       "      <th>9</th>\n",
       "      <td>24</td>\n",
       "      <td>97.30</td>\n",
       "      <td>39</td>\n",
       "      <td>89.20</td>\n",
       "      <td>49.61</td>\n",
       "      <td>50.25</td>\n",
       "      <td>50</td>\n",
       "      <td>Email</td>\n",
       "      <td>Yes</td>\n",
       "      <td>Gold</td>\n",
       "      <td>...</td>\n",
       "      <td>94</td>\n",
       "      <td>95</td>\n",
       "      <td>91</td>\n",
       "      <td>No</td>\n",
       "      <td>1.55</td>\n",
       "      <td>1</td>\n",
       "      <td>0</td>\n",
       "      <td>B</td>\n",
       "      <td>Yes</td>\n",
       "      <td>Low</td>\n",
       "    </tr>\n",
       "  </tbody>\n",
       "</table>\n",
       "<p>10 rows × 25 columns</p>\n",
       "</div>"
      ],
      "text/plain": [
       "   Customer Satisfaction Score  Response Time  Daily User Logins  \\\n",
       "0                           37          95.07                 73   \n",
       "1                           79          19.97                 51   \n",
       "2                           97          77.51                 94   \n",
       "3                           73          77.13                  7   \n",
       "4                            3          63.64                 31   \n",
       "5                           43          81.80                 86   \n",
       "6                           91          23.96                 14   \n",
       "7                           17          69.09                 39   \n",
       "8                           64           8.41                 16   \n",
       "9                           24          97.30                 39   \n",
       "\n",
       "   Average Session Duration  Survey Response Rate  Transaction Amount  \\\n",
       "0                     59.87                 15.60               15.60   \n",
       "1                     59.24                  4.65               60.75   \n",
       "2                     89.48                 59.79               92.19   \n",
       "3                     35.85                 11.59               86.31   \n",
       "4                     50.86                 90.76               24.93   \n",
       "5                      0.70                 51.07               41.74   \n",
       "6                     48.95                 49.61               50.25   \n",
       "7                     93.67                 49.61               50.25   \n",
       "8                     89.86                 60.64                0.92   \n",
       "9                     89.20                 49.61               50.25   \n",
       "\n",
       "   Product Rating Preferred Communication Channel Membership Status  \\\n",
       "0               6                           Email               Yes   \n",
       "1              17                           Phone               Yes   \n",
       "2               9                             SMS               Yes   \n",
       "3              62                           Email               Yes   \n",
       "4              41                           Phone               Yes   \n",
       "5              22                             SMS               Yes   \n",
       "6              50                           Email               Yes   \n",
       "7              50                           Phone               Yes   \n",
       "8              10                             SMS               Yes   \n",
       "9              50                           Email               Yes   \n",
       "\n",
       "  Product Category Preference  ...  Referral Count  Account Age  \\\n",
       "0                       Basic  ...              18           30   \n",
       "1                        Gold  ...              12           50   \n",
       "2                    Platinum  ...              54           14   \n",
       "3                    Platinum  ...              12           71   \n",
       "4                    Platinum  ...              87           80   \n",
       "5                        Gold  ...              96           25   \n",
       "6                        Gold  ...              84           32   \n",
       "7                    Platinum  ...               9           90   \n",
       "8                       Basic  ...              24           33   \n",
       "9                        Gold  ...              94           95   \n",
       "\n",
       "   Feedback Score  Product Return Rate  Marketing Email Click Rate  \\\n",
       "0              52                  Yes                       29.12   \n",
       "1               3                   No                       25.88   \n",
       "2              80                  Yes                       98.69   \n",
       "3              76                   No                       77.10   \n",
       "4              19                   No                       53.93   \n",
       "5              50                   No                       28.48   \n",
       "6              19                   No                       59.09   \n",
       "7              90                   No                       33.90   \n",
       "8              75                   No                       84.92   \n",
       "9              91                   No                        1.55   \n",
       "\n",
       "   Subscription Status  Product Upsell Success  Customer Segment Group  \\\n",
       "0                    1                       1                       C   \n",
       "1                    1                       1                       C   \n",
       "2                    1                       1                       C   \n",
       "3                    0                       1                       C   \n",
       "4                    1                       0                       D   \n",
       "5                    1                       1                       D   \n",
       "6                    0                       1                       B   \n",
       "7                    1                       0                       C   \n",
       "8                    0                       1                       D   \n",
       "9                    1                       0                       B   \n",
       "\n",
       "  Interest in New Product  Income Level  \n",
       "0                      No          High  \n",
       "1                      No           Low  \n",
       "2                      No           Low  \n",
       "3                      No           Low  \n",
       "4                     Yes        Medium  \n",
       "5                      No          High  \n",
       "6                     Yes           Low  \n",
       "7                     Yes           Low  \n",
       "8                     Yes        Medium  \n",
       "9                     Yes           Low  \n",
       "\n",
       "[10 rows x 25 columns]"
      ]
     },
     "execution_count": 3,
     "metadata": {},
     "output_type": "execute_result"
    }
   ],
   "source": [
    "business_dataset.head(10)"
   ]
  },
  {
   "cell_type": "code",
   "execution_count": 4,
   "id": "688e6835",
   "metadata": {},
   "outputs": [
    {
     "data": {
      "text/html": [
       "<div>\n",
       "<style scoped>\n",
       "    .dataframe tbody tr th:only-of-type {\n",
       "        vertical-align: middle;\n",
       "    }\n",
       "\n",
       "    .dataframe tbody tr th {\n",
       "        vertical-align: top;\n",
       "    }\n",
       "\n",
       "    .dataframe thead th {\n",
       "        text-align: right;\n",
       "    }\n",
       "</style>\n",
       "<table border=\"1\" class=\"dataframe\">\n",
       "  <thead>\n",
       "    <tr style=\"text-align: right;\">\n",
       "      <th></th>\n",
       "      <th>Customer Satisfaction Score</th>\n",
       "      <th>Response Time</th>\n",
       "      <th>Daily User Logins</th>\n",
       "      <th>Average Session Duration</th>\n",
       "      <th>Survey Response Rate</th>\n",
       "      <th>Transaction Amount</th>\n",
       "      <th>Product Rating</th>\n",
       "      <th>Preferred Communication Channel</th>\n",
       "      <th>Membership Status</th>\n",
       "      <th>Product Category Preference</th>\n",
       "      <th>High-Value Purchase Count</th>\n",
       "      <th>Customer Support Calls</th>\n",
       "      <th>Website Click-Through Rate</th>\n",
       "      <th>Newsletter Open Rate</th>\n",
       "      <th>Social Media Engagement Score</th>\n",
       "      <th>Referral Count</th>\n",
       "      <th>Account Age</th>\n",
       "      <th>Feedback Score</th>\n",
       "      <th>Product Return Rate</th>\n",
       "      <th>Marketing Email Click Rate</th>\n",
       "      <th>Subscription Status</th>\n",
       "      <th>Product Upsell Success</th>\n",
       "      <th>Customer Segment Group</th>\n",
       "      <th>Interest in New Product</th>\n",
       "      <th>Income Level</th>\n",
       "    </tr>\n",
       "  </thead>\n",
       "  <tbody>\n",
       "    <tr>\n",
       "      <th>0</th>\n",
       "      <td>37</td>\n",
       "      <td>95.07</td>\n",
       "      <td>73</td>\n",
       "      <td>59.87</td>\n",
       "      <td>15.60</td>\n",
       "      <td>15.60</td>\n",
       "      <td>6</td>\n",
       "      <td>Email</td>\n",
       "      <td>Yes</td>\n",
       "      <td>Basic</td>\n",
       "      <td>2.06</td>\n",
       "      <td>96.99</td>\n",
       "      <td>83</td>\n",
       "      <td>21.2</td>\n",
       "      <td>18.18</td>\n",
       "      <td>18</td>\n",
       "      <td>30</td>\n",
       "      <td>52</td>\n",
       "      <td>Yes</td>\n",
       "      <td>29.12</td>\n",
       "      <td>1</td>\n",
       "      <td>1</td>\n",
       "      <td>C</td>\n",
       "      <td>No</td>\n",
       "      <td>High</td>\n",
       "    </tr>\n",
       "    <tr>\n",
       "      <th>1</th>\n",
       "      <td>79</td>\n",
       "      <td>19.97</td>\n",
       "      <td>51</td>\n",
       "      <td>59.24</td>\n",
       "      <td>4.65</td>\n",
       "      <td>60.75</td>\n",
       "      <td>17</td>\n",
       "      <td>Phone</td>\n",
       "      <td>Yes</td>\n",
       "      <td>Gold</td>\n",
       "      <td>80.84</td>\n",
       "      <td>30.46</td>\n",
       "      <td>10</td>\n",
       "      <td>68.4</td>\n",
       "      <td>44.02</td>\n",
       "      <td>12</td>\n",
       "      <td>50</td>\n",
       "      <td>3</td>\n",
       "      <td>No</td>\n",
       "      <td>25.88</td>\n",
       "      <td>1</td>\n",
       "      <td>1</td>\n",
       "      <td>C</td>\n",
       "      <td>No</td>\n",
       "      <td>Low</td>\n",
       "    </tr>\n",
       "    <tr>\n",
       "      <th>2</th>\n",
       "      <td>97</td>\n",
       "      <td>77.51</td>\n",
       "      <td>94</td>\n",
       "      <td>89.48</td>\n",
       "      <td>59.79</td>\n",
       "      <td>92.19</td>\n",
       "      <td>9</td>\n",
       "      <td>SMS</td>\n",
       "      <td>Yes</td>\n",
       "      <td>Platinum</td>\n",
       "      <td>38.87</td>\n",
       "      <td>27.13</td>\n",
       "      <td>83</td>\n",
       "      <td>35.7</td>\n",
       "      <td>28.09</td>\n",
       "      <td>54</td>\n",
       "      <td>14</td>\n",
       "      <td>80</td>\n",
       "      <td>Yes</td>\n",
       "      <td>98.69</td>\n",
       "      <td>1</td>\n",
       "      <td>1</td>\n",
       "      <td>C</td>\n",
       "      <td>No</td>\n",
       "      <td>Low</td>\n",
       "    </tr>\n",
       "    <tr>\n",
       "      <th>3</th>\n",
       "      <td>73</td>\n",
       "      <td>77.13</td>\n",
       "      <td>7</td>\n",
       "      <td>35.85</td>\n",
       "      <td>11.59</td>\n",
       "      <td>86.31</td>\n",
       "      <td>62</td>\n",
       "      <td>Email</td>\n",
       "      <td>Yes</td>\n",
       "      <td>Platinum</td>\n",
       "      <td>32.52</td>\n",
       "      <td>72.96</td>\n",
       "      <td>64</td>\n",
       "      <td>88.7</td>\n",
       "      <td>47.22</td>\n",
       "      <td>12</td>\n",
       "      <td>71</td>\n",
       "      <td>76</td>\n",
       "      <td>No</td>\n",
       "      <td>77.10</td>\n",
       "      <td>0</td>\n",
       "      <td>1</td>\n",
       "      <td>C</td>\n",
       "      <td>No</td>\n",
       "      <td>Low</td>\n",
       "    </tr>\n",
       "    <tr>\n",
       "      <th>4</th>\n",
       "      <td>3</td>\n",
       "      <td>63.64</td>\n",
       "      <td>31</td>\n",
       "      <td>50.86</td>\n",
       "      <td>90.76</td>\n",
       "      <td>24.93</td>\n",
       "      <td>41</td>\n",
       "      <td>Phone</td>\n",
       "      <td>Yes</td>\n",
       "      <td>Platinum</td>\n",
       "      <td>28.98</td>\n",
       "      <td>16.12</td>\n",
       "      <td>93</td>\n",
       "      <td>80.8</td>\n",
       "      <td>63.34</td>\n",
       "      <td>87</td>\n",
       "      <td>80</td>\n",
       "      <td>19</td>\n",
       "      <td>No</td>\n",
       "      <td>53.93</td>\n",
       "      <td>1</td>\n",
       "      <td>0</td>\n",
       "      <td>D</td>\n",
       "      <td>Yes</td>\n",
       "      <td>Medium</td>\n",
       "    </tr>\n",
       "  </tbody>\n",
       "</table>\n",
       "</div>"
      ],
      "text/plain": [
       "   Customer Satisfaction Score  Response Time  Daily User Logins  \\\n",
       "0                           37          95.07                 73   \n",
       "1                           79          19.97                 51   \n",
       "2                           97          77.51                 94   \n",
       "3                           73          77.13                  7   \n",
       "4                            3          63.64                 31   \n",
       "\n",
       "   Average Session Duration  Survey Response Rate  Transaction Amount  \\\n",
       "0                     59.87                 15.60               15.60   \n",
       "1                     59.24                  4.65               60.75   \n",
       "2                     89.48                 59.79               92.19   \n",
       "3                     35.85                 11.59               86.31   \n",
       "4                     50.86                 90.76               24.93   \n",
       "\n",
       "   Product Rating Preferred Communication Channel Membership Status  \\\n",
       "0               6                           Email               Yes   \n",
       "1              17                           Phone               Yes   \n",
       "2               9                             SMS               Yes   \n",
       "3              62                           Email               Yes   \n",
       "4              41                           Phone               Yes   \n",
       "\n",
       "  Product Category Preference  High-Value Purchase Count  \\\n",
       "0                       Basic                       2.06   \n",
       "1                        Gold                      80.84   \n",
       "2                    Platinum                      38.87   \n",
       "3                    Platinum                      32.52   \n",
       "4                    Platinum                      28.98   \n",
       "\n",
       "   Customer Support Calls  Website Click-Through Rate  Newsletter Open Rate  \\\n",
       "0                   96.99                          83                  21.2   \n",
       "1                   30.46                          10                  68.4   \n",
       "2                   27.13                          83                  35.7   \n",
       "3                   72.96                          64                  88.7   \n",
       "4                   16.12                          93                  80.8   \n",
       "\n",
       "   Social Media Engagement Score  Referral Count  Account Age  Feedback Score  \\\n",
       "0                          18.18              18           30              52   \n",
       "1                          44.02              12           50               3   \n",
       "2                          28.09              54           14              80   \n",
       "3                          47.22              12           71              76   \n",
       "4                          63.34              87           80              19   \n",
       "\n",
       "  Product Return Rate  Marketing Email Click Rate  Subscription Status  \\\n",
       "0                 Yes                       29.12                    1   \n",
       "1                  No                       25.88                    1   \n",
       "2                 Yes                       98.69                    1   \n",
       "3                  No                       77.10                    0   \n",
       "4                  No                       53.93                    1   \n",
       "\n",
       "   Product Upsell Success Customer Segment Group Interest in New Product  \\\n",
       "0                       1                      C                      No   \n",
       "1                       1                      C                      No   \n",
       "2                       1                      C                      No   \n",
       "3                       1                      C                      No   \n",
       "4                       0                      D                     Yes   \n",
       "\n",
       "  Income Level  \n",
       "0         High  \n",
       "1          Low  \n",
       "2          Low  \n",
       "3          Low  \n",
       "4       Medium  "
      ]
     },
     "execution_count": 4,
     "metadata": {},
     "output_type": "execute_result"
    }
   ],
   "source": [
    "pd.set_option('display.max_columns', None)\n",
    "business_dataset.head()"
   ]
  },
  {
   "cell_type": "markdown",
   "id": "19cdf281",
   "metadata": {},
   "source": [
    "### First of all, it needs rename to header because there are some space and special chacarcters between the words which could happen to be unable to return some functions:"
   ]
  },
  {
   "cell_type": "code",
   "execution_count": 5,
   "id": "5c88e56f",
   "metadata": {},
   "outputs": [],
   "source": [
    "business_dataset.rename(columns={\"Customer Satisfaction Score\": \"Customer_Satisfaction_Score\"}, inplace=True)\n",
    "business_dataset.rename(columns={\"Survey Response Rate\": \"Survey_Response_Rate\"}, inplace=True)\n",
    "business_dataset.rename(columns={\"Transaction Amount\": \"Transaction_Amount\"}, inplace=True)\n",
    "business_dataset.rename(columns={\"Product Rating\": \"Product_Rating\"}, inplace=True)\n",
    "business_dataset.rename(columns={\"Product Category Preference\": \"Product_Category_Preference\"}, inplace=True)\n",
    "business_dataset.rename(columns={\"High-Value Purchase Count\": \"High_Value_Purchase_Count\"}, inplace=True)\n",
    "business_dataset.rename(columns={\"Website Click-Through Rate\": \"Website_Click_Through_Rate\"}, inplace=True)\n",
    "business_dataset.rename(columns={\"Transaction Amount\": \"Transaction_Amount\"}, inplace=True)\n",
    "business_dataset.rename(columns={\"Marketing Email Click Rate\": \"Marketing_Email_Click_Rate\"}, inplace=True)\n",
    "business_dataset.rename(columns={\"Social Media Engagement Score\": \"Social_Media_Engagement_Score\"}, inplace=True)\n",
    "business_dataset.rename(columns={\"Product Upsell Success\": \"Product_Upsell_Success\"}, inplace=True)\n",
    "business_dataset.rename(columns={\"Social Media Engagement Score\": \"Social_Media_Engagement_Score\"}, inplace=True)\n",
    "business_dataset.rename(columns={\"Website Click Through Rate\": \"Website_Click_Through_Rate\"}, inplace=True)\n",
    "business_dataset.rename(columns={\"Product Return Rate\": \"Product_Return_Rate\"}, inplace=True)\n",
    "business_dataset.rename(columns={\"Feedback Score\": \"Feedback_Score\"}, inplace=True)\n",
    "business_dataset.rename(columns={\"Interest in New Product\": \"Interest_in_New_Product\"}, inplace=True)\n",
    "business_dataset.rename(columns={\"Customer Segment Group\": \"Customer_Segment_Group\"}, inplace=True)\n",
    "business_dataset.rename(columns={\"Income Level\": \"Income_Level\"}, inplace=True)\n",
    "business_dataset.rename(columns={\"Subscription Status\": \"Subscription_Status\"}, inplace=True)\n",
    "business_dataset.rename(columns={\"Customer Age\": \"Customer_Age\"}, inplace=True)"
   ]
  },
  {
   "cell_type": "code",
   "execution_count": 6,
   "id": "64886708",
   "metadata": {},
   "outputs": [
    {
     "name": "stdout",
     "output_type": "stream",
     "text": [
      "<class 'pandas.core.frame.DataFrame'>\n",
      "RangeIndex: 8000 entries, 0 to 7999\n",
      "Data columns (total 25 columns):\n",
      " #   Column                           Non-Null Count  Dtype  \n",
      "---  ------                           --------------  -----  \n",
      " 0   Customer_Satisfaction_Score      8000 non-null   int64  \n",
      " 1   Response Time                    8000 non-null   float64\n",
      " 2   Daily User Logins                8000 non-null   int64  \n",
      " 3   Average Session Duration         8000 non-null   float64\n",
      " 4   Survey_Response_Rate             8000 non-null   float64\n",
      " 5   Transaction_Amount               8000 non-null   float64\n",
      " 6   Product_Rating                   8000 non-null   int64  \n",
      " 7   Preferred Communication Channel  8000 non-null   object \n",
      " 8   Membership Status                8000 non-null   object \n",
      " 9   Product_Category_Preference      8000 non-null   object \n",
      " 10  High_Value_Purchase_Count        8000 non-null   float64\n",
      " 11  Customer Support Calls           8000 non-null   float64\n",
      " 12  Website_Click_Through_Rate       8000 non-null   int64  \n",
      " 13  Newsletter Open Rate             8000 non-null   float64\n",
      " 14  Social_Media_Engagement_Score    8000 non-null   float64\n",
      " 15  Referral Count                   8000 non-null   int64  \n",
      " 16  Account Age                      8000 non-null   int64  \n",
      " 17  Feedback_Score                   8000 non-null   int64  \n",
      " 18  Product_Return_Rate              8000 non-null   object \n",
      " 19  Marketing_Email_Click_Rate       8000 non-null   float64\n",
      " 20  Subscription_Status              8000 non-null   int64  \n",
      " 21  Product_Upsell_Success           8000 non-null   int64  \n",
      " 22  Customer_Segment_Group           8000 non-null   object \n",
      " 23  Interest_in_New_Product          8000 non-null   object \n",
      " 24  Income_Level                     8000 non-null   object \n",
      "dtypes: float64(9), int64(9), object(7)\n",
      "memory usage: 1.5+ MB\n"
     ]
    }
   ],
   "source": [
    "business_dataset.info()"
   ]
  },
  {
   "cell_type": "code",
   "execution_count": 7,
   "id": "c8a8e22e",
   "metadata": {},
   "outputs": [
    {
     "data": {
      "text/plain": [
       "(8000, 25)"
      ]
     },
     "execution_count": 7,
     "metadata": {},
     "output_type": "execute_result"
    }
   ],
   "source": [
    "business_dataset.shape"
   ]
  },
  {
   "cell_type": "code",
   "execution_count": 8,
   "id": "b85ff984",
   "metadata": {},
   "outputs": [
    {
     "data": {
      "text/plain": [
       "Customer_Satisfaction_Score        0\n",
       "Response Time                      0\n",
       "Daily User Logins                  0\n",
       "Average Session Duration           0\n",
       "Survey_Response_Rate               0\n",
       "Transaction_Amount                 0\n",
       "Product_Rating                     0\n",
       "Preferred Communication Channel    0\n",
       "Membership Status                  0\n",
       "Product_Category_Preference        0\n",
       "High_Value_Purchase_Count          0\n",
       "Customer Support Calls             0\n",
       "Website_Click_Through_Rate         0\n",
       "Newsletter Open Rate               0\n",
       "Social_Media_Engagement_Score      0\n",
       "Referral Count                     0\n",
       "Account Age                        0\n",
       "Feedback_Score                     0\n",
       "Product_Return_Rate                0\n",
       "Marketing_Email_Click_Rate         0\n",
       "Subscription_Status                0\n",
       "Product_Upsell_Success             0\n",
       "Customer_Segment_Group             0\n",
       "Interest_in_New_Product            0\n",
       "Income_Level                       0\n",
       "dtype: int64"
      ]
     },
     "execution_count": 8,
     "metadata": {},
     "output_type": "execute_result"
    }
   ],
   "source": [
    "business_dataset.isnull().sum()"
   ]
  },
  {
   "cell_type": "code",
   "execution_count": 9,
   "id": "5fc59d98",
   "metadata": {
    "scrolled": false
   },
   "outputs": [
    {
     "data": {
      "text/html": [
       "<div>\n",
       "<style scoped>\n",
       "    .dataframe tbody tr th:only-of-type {\n",
       "        vertical-align: middle;\n",
       "    }\n",
       "\n",
       "    .dataframe tbody tr th {\n",
       "        vertical-align: top;\n",
       "    }\n",
       "\n",
       "    .dataframe thead th {\n",
       "        text-align: right;\n",
       "    }\n",
       "</style>\n",
       "<table border=\"1\" class=\"dataframe\">\n",
       "  <thead>\n",
       "    <tr style=\"text-align: right;\">\n",
       "      <th></th>\n",
       "      <th>Customer_Satisfaction_Score</th>\n",
       "      <th>Response Time</th>\n",
       "      <th>Daily User Logins</th>\n",
       "      <th>Average Session Duration</th>\n",
       "      <th>Survey_Response_Rate</th>\n",
       "      <th>Transaction_Amount</th>\n",
       "      <th>Product_Rating</th>\n",
       "      <th>High_Value_Purchase_Count</th>\n",
       "      <th>Customer Support Calls</th>\n",
       "      <th>Website_Click_Through_Rate</th>\n",
       "      <th>Newsletter Open Rate</th>\n",
       "      <th>Social_Media_Engagement_Score</th>\n",
       "      <th>Referral Count</th>\n",
       "      <th>Account Age</th>\n",
       "      <th>Feedback_Score</th>\n",
       "      <th>Marketing_Email_Click_Rate</th>\n",
       "      <th>Subscription_Status</th>\n",
       "      <th>Product_Upsell_Success</th>\n",
       "    </tr>\n",
       "  </thead>\n",
       "  <tbody>\n",
       "    <tr>\n",
       "      <th>count</th>\n",
       "      <td>8000.000000</td>\n",
       "      <td>8000.000000</td>\n",
       "      <td>8000.000000</td>\n",
       "      <td>8000.000000</td>\n",
       "      <td>8000.00000</td>\n",
       "      <td>8000.000000</td>\n",
       "      <td>8000.000000</td>\n",
       "      <td>8000.000000</td>\n",
       "      <td>8000.000000</td>\n",
       "      <td>8000.000000</td>\n",
       "      <td>8000.000000</td>\n",
       "      <td>8000.000000</td>\n",
       "      <td>8000.000000</td>\n",
       "      <td>8000.000000</td>\n",
       "      <td>8000.000000</td>\n",
       "      <td>8000.000000</td>\n",
       "      <td>8000.000000</td>\n",
       "      <td>8000.000000</td>\n",
       "    </tr>\n",
       "    <tr>\n",
       "      <th>mean</th>\n",
       "      <td>50.212000</td>\n",
       "      <td>49.856590</td>\n",
       "      <td>49.740750</td>\n",
       "      <td>50.498271</td>\n",
       "      <td>49.68128</td>\n",
       "      <td>50.281659</td>\n",
       "      <td>50.019625</td>\n",
       "      <td>57.124342</td>\n",
       "      <td>55.031480</td>\n",
       "      <td>56.785875</td>\n",
       "      <td>49.759737</td>\n",
       "      <td>50.521145</td>\n",
       "      <td>50.293250</td>\n",
       "      <td>49.403375</td>\n",
       "      <td>50.778125</td>\n",
       "      <td>49.413815</td>\n",
       "      <td>0.498250</td>\n",
       "      <td>0.497125</td>\n",
       "    </tr>\n",
       "    <tr>\n",
       "      <th>std</th>\n",
       "      <td>28.984204</td>\n",
       "      <td>28.890059</td>\n",
       "      <td>29.022191</td>\n",
       "      <td>28.828823</td>\n",
       "      <td>27.56277</td>\n",
       "      <td>27.280464</td>\n",
       "      <td>27.319000</td>\n",
       "      <td>85.944626</td>\n",
       "      <td>68.540857</td>\n",
       "      <td>81.386384</td>\n",
       "      <td>28.961474</td>\n",
       "      <td>28.759969</td>\n",
       "      <td>29.009579</td>\n",
       "      <td>28.566946</td>\n",
       "      <td>28.873026</td>\n",
       "      <td>28.729436</td>\n",
       "      <td>0.500028</td>\n",
       "      <td>0.500023</td>\n",
       "    </tr>\n",
       "    <tr>\n",
       "      <th>min</th>\n",
       "      <td>0.000000</td>\n",
       "      <td>0.000000</td>\n",
       "      <td>0.000000</td>\n",
       "      <td>0.010000</td>\n",
       "      <td>0.01000</td>\n",
       "      <td>0.010000</td>\n",
       "      <td>0.000000</td>\n",
       "      <td>0.000000</td>\n",
       "      <td>0.000000</td>\n",
       "      <td>0.000000</td>\n",
       "      <td>0.000000</td>\n",
       "      <td>0.000000</td>\n",
       "      <td>0.000000</td>\n",
       "      <td>0.000000</td>\n",
       "      <td>0.000000</td>\n",
       "      <td>0.010000</td>\n",
       "      <td>0.000000</td>\n",
       "      <td>0.000000</td>\n",
       "    </tr>\n",
       "    <tr>\n",
       "      <th>25%</th>\n",
       "      <td>25.000000</td>\n",
       "      <td>24.847500</td>\n",
       "      <td>24.750000</td>\n",
       "      <td>25.460000</td>\n",
       "      <td>26.59000</td>\n",
       "      <td>28.267500</td>\n",
       "      <td>28.000000</td>\n",
       "      <td>25.565000</td>\n",
       "      <td>24.817500</td>\n",
       "      <td>26.000000</td>\n",
       "      <td>24.400000</td>\n",
       "      <td>25.430000</td>\n",
       "      <td>25.000000</td>\n",
       "      <td>25.000000</td>\n",
       "      <td>26.000000</td>\n",
       "      <td>24.425000</td>\n",
       "      <td>0.000000</td>\n",
       "      <td>0.000000</td>\n",
       "    </tr>\n",
       "    <tr>\n",
       "      <th>50%</th>\n",
       "      <td>51.000000</td>\n",
       "      <td>49.705000</td>\n",
       "      <td>50.000000</td>\n",
       "      <td>51.000000</td>\n",
       "      <td>49.61000</td>\n",
       "      <td>50.250000</td>\n",
       "      <td>50.000000</td>\n",
       "      <td>50.765000</td>\n",
       "      <td>50.270000</td>\n",
       "      <td>51.000000</td>\n",
       "      <td>49.600000</td>\n",
       "      <td>50.705000</td>\n",
       "      <td>50.000000</td>\n",
       "      <td>49.000000</td>\n",
       "      <td>51.000000</td>\n",
       "      <td>49.345000</td>\n",
       "      <td>0.000000</td>\n",
       "      <td>0.000000</td>\n",
       "    </tr>\n",
       "    <tr>\n",
       "      <th>75%</th>\n",
       "      <td>76.000000</td>\n",
       "      <td>74.715000</td>\n",
       "      <td>75.000000</td>\n",
       "      <td>75.390000</td>\n",
       "      <td>72.35500</td>\n",
       "      <td>72.532500</td>\n",
       "      <td>72.000000</td>\n",
       "      <td>75.650000</td>\n",
       "      <td>76.012500</td>\n",
       "      <td>76.000000</td>\n",
       "      <td>74.900000</td>\n",
       "      <td>75.480000</td>\n",
       "      <td>76.000000</td>\n",
       "      <td>74.000000</td>\n",
       "      <td>76.000000</td>\n",
       "      <td>73.675000</td>\n",
       "      <td>1.000000</td>\n",
       "      <td>1.000000</td>\n",
       "    </tr>\n",
       "    <tr>\n",
       "      <th>max</th>\n",
       "      <td>100.000000</td>\n",
       "      <td>100.000000</td>\n",
       "      <td>100.000000</td>\n",
       "      <td>99.990000</td>\n",
       "      <td>100.00000</td>\n",
       "      <td>99.970000</td>\n",
       "      <td>100.000000</td>\n",
       "      <td>1476.420000</td>\n",
       "      <td>1179.480000</td>\n",
       "      <td>1297.000000</td>\n",
       "      <td>100.000000</td>\n",
       "      <td>100.000000</td>\n",
       "      <td>100.000000</td>\n",
       "      <td>100.000000</td>\n",
       "      <td>100.000000</td>\n",
       "      <td>99.970000</td>\n",
       "      <td>1.000000</td>\n",
       "      <td>1.000000</td>\n",
       "    </tr>\n",
       "  </tbody>\n",
       "</table>\n",
       "</div>"
      ],
      "text/plain": [
       "       Customer_Satisfaction_Score  Response Time  Daily User Logins  \\\n",
       "count                  8000.000000    8000.000000        8000.000000   \n",
       "mean                     50.212000      49.856590          49.740750   \n",
       "std                      28.984204      28.890059          29.022191   \n",
       "min                       0.000000       0.000000           0.000000   \n",
       "25%                      25.000000      24.847500          24.750000   \n",
       "50%                      51.000000      49.705000          50.000000   \n",
       "75%                      76.000000      74.715000          75.000000   \n",
       "max                     100.000000     100.000000         100.000000   \n",
       "\n",
       "       Average Session Duration  Survey_Response_Rate  Transaction_Amount  \\\n",
       "count               8000.000000            8000.00000         8000.000000   \n",
       "mean                  50.498271              49.68128           50.281659   \n",
       "std                   28.828823              27.56277           27.280464   \n",
       "min                    0.010000               0.01000            0.010000   \n",
       "25%                   25.460000              26.59000           28.267500   \n",
       "50%                   51.000000              49.61000           50.250000   \n",
       "75%                   75.390000              72.35500           72.532500   \n",
       "max                   99.990000             100.00000           99.970000   \n",
       "\n",
       "       Product_Rating  High_Value_Purchase_Count  Customer Support Calls  \\\n",
       "count     8000.000000                8000.000000             8000.000000   \n",
       "mean        50.019625                  57.124342               55.031480   \n",
       "std         27.319000                  85.944626               68.540857   \n",
       "min          0.000000                   0.000000                0.000000   \n",
       "25%         28.000000                  25.565000               24.817500   \n",
       "50%         50.000000                  50.765000               50.270000   \n",
       "75%         72.000000                  75.650000               76.012500   \n",
       "max        100.000000                1476.420000             1179.480000   \n",
       "\n",
       "       Website_Click_Through_Rate  Newsletter Open Rate  \\\n",
       "count                 8000.000000           8000.000000   \n",
       "mean                    56.785875             49.759737   \n",
       "std                     81.386384             28.961474   \n",
       "min                      0.000000              0.000000   \n",
       "25%                     26.000000             24.400000   \n",
       "50%                     51.000000             49.600000   \n",
       "75%                     76.000000             74.900000   \n",
       "max                   1297.000000            100.000000   \n",
       "\n",
       "       Social_Media_Engagement_Score  Referral Count  Account Age  \\\n",
       "count                    8000.000000     8000.000000  8000.000000   \n",
       "mean                       50.521145       50.293250    49.403375   \n",
       "std                        28.759969       29.009579    28.566946   \n",
       "min                         0.000000        0.000000     0.000000   \n",
       "25%                        25.430000       25.000000    25.000000   \n",
       "50%                        50.705000       50.000000    49.000000   \n",
       "75%                        75.480000       76.000000    74.000000   \n",
       "max                       100.000000      100.000000   100.000000   \n",
       "\n",
       "       Feedback_Score  Marketing_Email_Click_Rate  Subscription_Status  \\\n",
       "count     8000.000000                 8000.000000          8000.000000   \n",
       "mean        50.778125                   49.413815             0.498250   \n",
       "std         28.873026                   28.729436             0.500028   \n",
       "min          0.000000                    0.010000             0.000000   \n",
       "25%         26.000000                   24.425000             0.000000   \n",
       "50%         51.000000                   49.345000             0.000000   \n",
       "75%         76.000000                   73.675000             1.000000   \n",
       "max        100.000000                   99.970000             1.000000   \n",
       "\n",
       "       Product_Upsell_Success  \n",
       "count             8000.000000  \n",
       "mean                 0.497125  \n",
       "std                  0.500023  \n",
       "min                  0.000000  \n",
       "25%                  0.000000  \n",
       "50%                  0.000000  \n",
       "75%                  1.000000  \n",
       "max                  1.000000  "
      ]
     },
     "execution_count": 9,
     "metadata": {},
     "output_type": "execute_result"
    }
   ],
   "source": [
    "business_dataset.describe()"
   ]
  },
  {
   "cell_type": "markdown",
   "id": "be20ec63",
   "metadata": {},
   "source": [
    "## Task 1 and 2:"
   ]
  },
  {
   "cell_type": "markdown",
   "id": "f0143e0b",
   "metadata": {},
   "source": [
    "Before starting properly replying the questions it was observed through the function isnull it has been checked for any missing values, which returned False, what indicates that has not missing values on these features selected on it."
   ]
  },
  {
   "cell_type": "markdown",
   "id": "244a788c",
   "metadata": {},
   "source": [
    "## Purchase Frequency:\n",
    "transactions amount(Numerical), Product Category Preference(categorical), High Value Purchase Count(Numerical), Customer_Segment_Group(object)"
   ]
  },
  {
   "cell_type": "markdown",
   "id": "a5a8413c",
   "metadata": {},
   "source": [
    "## Campaign Response Rate: \n",
    "Marketing Email Click Rate(Numerical), Social Media Engagement Score(continuous numerical), Product Upsell Success(binary numerical), Interest in New Product (Binary categorical)         "
   ]
  },
  {
   "cell_type": "markdown",
   "id": "b32889df",
   "metadata": {},
   "source": [
    "## Customer Feedback Score: \n",
    "Product Rating, Feedback Score(Numerical), Social Media Engagement Score, Website Click Through Rate(Numerical), Product Return Rate(numerical)"
   ]
  },
  {
   "cell_type": "markdown",
   "id": "9b9065bf",
   "metadata": {},
   "source": [
    "## Purchase Frequency:\n",
    "\n",
    "transactions amount(Numerical), Product Category Preference(categorical), High Value Purchase Count(Numerical), Customer_Segment_Group(object)"
   ]
  },
  {
   "cell_type": "code",
   "execution_count": 10,
   "id": "23d266c6",
   "metadata": {},
   "outputs": [
    {
     "data": {
      "text/html": [
       "<div>\n",
       "<style scoped>\n",
       "    .dataframe tbody tr th:only-of-type {\n",
       "        vertical-align: middle;\n",
       "    }\n",
       "\n",
       "    .dataframe tbody tr th {\n",
       "        vertical-align: top;\n",
       "    }\n",
       "\n",
       "    .dataframe thead th {\n",
       "        text-align: right;\n",
       "    }\n",
       "</style>\n",
       "<table border=\"1\" class=\"dataframe\">\n",
       "  <thead>\n",
       "    <tr style=\"text-align: right;\">\n",
       "      <th></th>\n",
       "      <th>Transaction_Amount</th>\n",
       "      <th>High_Value_Purchase_Count</th>\n",
       "    </tr>\n",
       "  </thead>\n",
       "  <tbody>\n",
       "    <tr>\n",
       "      <th>count</th>\n",
       "      <td>8000.000000</td>\n",
       "      <td>8000.000000</td>\n",
       "    </tr>\n",
       "    <tr>\n",
       "      <th>mean</th>\n",
       "      <td>50.281659</td>\n",
       "      <td>57.124342</td>\n",
       "    </tr>\n",
       "    <tr>\n",
       "      <th>std</th>\n",
       "      <td>27.280464</td>\n",
       "      <td>85.944626</td>\n",
       "    </tr>\n",
       "    <tr>\n",
       "      <th>min</th>\n",
       "      <td>0.010000</td>\n",
       "      <td>0.000000</td>\n",
       "    </tr>\n",
       "    <tr>\n",
       "      <th>25%</th>\n",
       "      <td>28.267500</td>\n",
       "      <td>25.565000</td>\n",
       "    </tr>\n",
       "    <tr>\n",
       "      <th>50%</th>\n",
       "      <td>50.250000</td>\n",
       "      <td>50.765000</td>\n",
       "    </tr>\n",
       "    <tr>\n",
       "      <th>75%</th>\n",
       "      <td>72.532500</td>\n",
       "      <td>75.650000</td>\n",
       "    </tr>\n",
       "    <tr>\n",
       "      <th>max</th>\n",
       "      <td>99.970000</td>\n",
       "      <td>1476.420000</td>\n",
       "    </tr>\n",
       "  </tbody>\n",
       "</table>\n",
       "</div>"
      ],
      "text/plain": [
       "       Transaction_Amount  High_Value_Purchase_Count\n",
       "count         8000.000000                8000.000000\n",
       "mean            50.281659                  57.124342\n",
       "std             27.280464                  85.944626\n",
       "min              0.010000                   0.000000\n",
       "25%             28.267500                  25.565000\n",
       "50%             50.250000                  50.765000\n",
       "75%             72.532500                  75.650000\n",
       "max             99.970000                1476.420000"
      ]
     },
     "execution_count": 10,
     "metadata": {},
     "output_type": "execute_result"
    }
   ],
   "source": [
    "bd_features=business_dataset[['Transaction_Amount', 'Product_Category_Preference', 'High_Value_Purchase_Count']]\n",
    "bd_features.describe()"
   ]
  },
  {
   "cell_type": "code",
   "execution_count": 11,
   "id": "08d9b9a3",
   "metadata": {},
   "outputs": [
    {
     "data": {
      "text/plain": [
       "array([15.6 , 60.75, 92.19, ..., 97.67, 78.26, 65.48])"
      ]
     },
     "execution_count": 11,
     "metadata": {},
     "output_type": "execute_result"
    }
   ],
   "source": [
    "business_dataset['Transaction_Amount'].unique()"
   ]
  },
  {
   "cell_type": "code",
   "execution_count": 12,
   "id": "dbc4c7ab",
   "metadata": {},
   "outputs": [
    {
     "data": {
      "text/plain": [
       "False"
      ]
     },
     "execution_count": 12,
     "metadata": {},
     "output_type": "execute_result"
    }
   ],
   "source": [
    "zero_exist = (business_dataset['Transaction_Amount'] == 0).any()\n",
    "zero_exist"
   ]
  },
  {
   "cell_type": "code",
   "execution_count": 13,
   "id": "f4a7b343",
   "metadata": {},
   "outputs": [],
   "source": [
    "business_dataset_mean_transaction = business_dataset['Transaction_Amount'].mean()"
   ]
  },
  {
   "cell_type": "code",
   "execution_count": 14,
   "id": "74c2a0a1",
   "metadata": {},
   "outputs": [],
   "source": [
    "business_dataset['Transaction_Amount'] = business_dataset['Transaction_Amount'].replace(0, business_dataset_mean_transaction)"
   ]
  },
  {
   "cell_type": "code",
   "execution_count": 15,
   "id": "6064c2a8",
   "metadata": {},
   "outputs": [
    {
     "data": {
      "text/plain": [
       "Transaction_Amount\n",
       "50.25    801\n",
       "17.72      7\n",
       "36.26      6\n",
       "9.90       6\n",
       "93.15      6\n",
       "        ... \n",
       "51.78      1\n",
       "25.19      1\n",
       "36.16      1\n",
       "59.01      1\n",
       "65.48      1\n",
       "Name: count, Length: 5156, dtype: int64"
      ]
     },
     "execution_count": 15,
     "metadata": {},
     "output_type": "execute_result"
    }
   ],
   "source": [
    "value_counts = business_dataset['Transaction_Amount'].value_counts()\n",
    "value_counts"
   ]
  },
  {
   "cell_type": "code",
   "execution_count": 16,
   "id": "74c374fb",
   "metadata": {},
   "outputs": [
    {
     "data": {
      "text/plain": [
       "Transaction_Amount\n",
       "50.25    0.100125\n",
       "17.72    0.000875\n",
       "36.26    0.000750\n",
       "9.90     0.000750\n",
       "93.15    0.000750\n",
       "           ...   \n",
       "51.78    0.000125\n",
       "25.19    0.000125\n",
       "36.16    0.000125\n",
       "59.01    0.000125\n",
       "65.48    0.000125\n",
       "Name: count, Length: 5156, dtype: float64"
      ]
     },
     "execution_count": 16,
     "metadata": {},
     "output_type": "execute_result"
    }
   ],
   "source": [
    "relative_frequencies = value_counts/len(business_dataset)    #length\n",
    "relative_frequencies"
   ]
  },
  {
   "cell_type": "markdown",
   "id": "5f06f807",
   "metadata": {},
   "source": [
    "### Product_Category_Preference"
   ]
  },
  {
   "cell_type": "code",
   "execution_count": 17,
   "id": "6af8a3a8",
   "metadata": {},
   "outputs": [
    {
     "data": {
      "text/plain": [
       "Product_Category_Preference\n",
       "Gold        3162\n",
       "Platinum    2783\n",
       "Basic       2055\n",
       "Name: count, dtype: int64"
      ]
     },
     "execution_count": 17,
     "metadata": {},
     "output_type": "execute_result"
    }
   ],
   "source": [
    "value_counts1 = business_dataset['Product_Category_Preference'].value_counts()\n",
    "value_counts1"
   ]
  },
  {
   "cell_type": "code",
   "execution_count": 18,
   "id": "fbb35e63",
   "metadata": {},
   "outputs": [
    {
     "data": {
      "text/plain": [
       "Product_Category_Preference\n",
       "Gold        0.395250\n",
       "Platinum    0.347875\n",
       "Basic       0.256875\n",
       "Name: count, dtype: float64"
      ]
     },
     "execution_count": 18,
     "metadata": {},
     "output_type": "execute_result"
    }
   ],
   "source": [
    "relative_frequencies1 = value_counts1/len(business_dataset)   \n",
    "relative_frequencies1"
   ]
  },
  {
   "cell_type": "code",
   "execution_count": 19,
   "id": "2ddb11cf",
   "metadata": {},
   "outputs": [],
   "source": [
    "subtable1 = pd.DataFrame({'Product_Category_Preference': value_counts1.index,\n",
    "                        'Frequency': value_counts1.values,\n",
    "                        'Relative Frequency': relative_frequencies1.values})"
   ]
  },
  {
   "cell_type": "code",
   "execution_count": 20,
   "id": "2ca825cf",
   "metadata": {
    "scrolled": true
   },
   "outputs": [
    {
     "data": {
      "text/html": [
       "<div>\n",
       "<style scoped>\n",
       "    .dataframe tbody tr th:only-of-type {\n",
       "        vertical-align: middle;\n",
       "    }\n",
       "\n",
       "    .dataframe tbody tr th {\n",
       "        vertical-align: top;\n",
       "    }\n",
       "\n",
       "    .dataframe thead th {\n",
       "        text-align: right;\n",
       "    }\n",
       "</style>\n",
       "<table border=\"1\" class=\"dataframe\">\n",
       "  <thead>\n",
       "    <tr style=\"text-align: right;\">\n",
       "      <th></th>\n",
       "      <th>Product_Category_Preference</th>\n",
       "      <th>Frequency</th>\n",
       "      <th>Relative Frequency</th>\n",
       "    </tr>\n",
       "  </thead>\n",
       "  <tbody>\n",
       "    <tr>\n",
       "      <th>0</th>\n",
       "      <td>Gold</td>\n",
       "      <td>3162</td>\n",
       "      <td>0.395250</td>\n",
       "    </tr>\n",
       "    <tr>\n",
       "      <th>1</th>\n",
       "      <td>Platinum</td>\n",
       "      <td>2783</td>\n",
       "      <td>0.347875</td>\n",
       "    </tr>\n",
       "    <tr>\n",
       "      <th>2</th>\n",
       "      <td>Basic</td>\n",
       "      <td>2055</td>\n",
       "      <td>0.256875</td>\n",
       "    </tr>\n",
       "  </tbody>\n",
       "</table>\n",
       "</div>"
      ],
      "text/plain": [
       "  Product_Category_Preference  Frequency  Relative Frequency\n",
       "0                        Gold       3162            0.395250\n",
       "1                    Platinum       2783            0.347875\n",
       "2                       Basic       2055            0.256875"
      ]
     },
     "execution_count": 20,
     "metadata": {},
     "output_type": "execute_result"
    }
   ],
   "source": [
    "subtable1"
   ]
  },
  {
   "cell_type": "code",
   "execution_count": 35,
   "id": "b6d78ed1",
   "metadata": {},
   "outputs": [],
   "source": [
    "#sns.pairplot(business_dataset, hue='Product_Category_Preference')\n",
    "#plt.suptitle('Figure 1: Pairplot of cross-referenced')\n",
    "#plt.show()"
   ]
  },
  {
   "cell_type": "markdown",
   "id": "dc53307d",
   "metadata": {},
   "source": [
    "### Customer_Segment_Group"
   ]
  },
  {
   "cell_type": "code",
   "execution_count": 22,
   "id": "6f85dade",
   "metadata": {},
   "outputs": [
    {
     "data": {
      "text/plain": [
       "Customer_Segment_Group\n",
       "B    2028\n",
       "A    1998\n",
       "D    1996\n",
       "C    1978\n",
       "Name: count, dtype: int64"
      ]
     },
     "execution_count": 22,
     "metadata": {},
     "output_type": "execute_result"
    }
   ],
   "source": [
    "value_counts_product_category = business_dataset['Customer_Segment_Group'].value_counts()\n",
    "value_counts_product_category"
   ]
  },
  {
   "cell_type": "code",
   "execution_count": 23,
   "id": "e119a9bd",
   "metadata": {
    "scrolled": true
   },
   "outputs": [
    {
     "data": {
      "text/plain": [
       "Customer_Segment_Group\n",
       "B    0.25350\n",
       "A    0.24975\n",
       "D    0.24950\n",
       "C    0.24725\n",
       "Name: count, dtype: float64"
      ]
     },
     "execution_count": 23,
     "metadata": {},
     "output_type": "execute_result"
    }
   ],
   "source": [
    "relative_frequencies_product_category = value_counts_product_category/len(business_dataset) \n",
    "relative_frequencies_product_category"
   ]
  },
  {
   "cell_type": "code",
   "execution_count": 24,
   "id": "9ca3fd40",
   "metadata": {},
   "outputs": [],
   "source": [
    "subtable_product = pd.DataFrame({'Customer_Segment_Group': value_counts_product_category.index,\n",
    "                        'Frequency': value_counts_product_category.values,\n",
    "                        'Relative Frequency': relative_frequencies_product_category.values})"
   ]
  },
  {
   "cell_type": "code",
   "execution_count": 25,
   "id": "ccc5bb69",
   "metadata": {},
   "outputs": [
    {
     "data": {
      "text/html": [
       "<div>\n",
       "<style scoped>\n",
       "    .dataframe tbody tr th:only-of-type {\n",
       "        vertical-align: middle;\n",
       "    }\n",
       "\n",
       "    .dataframe tbody tr th {\n",
       "        vertical-align: top;\n",
       "    }\n",
       "\n",
       "    .dataframe thead th {\n",
       "        text-align: right;\n",
       "    }\n",
       "</style>\n",
       "<table border=\"1\" class=\"dataframe\">\n",
       "  <thead>\n",
       "    <tr style=\"text-align: right;\">\n",
       "      <th></th>\n",
       "      <th>Customer_Segment_Group</th>\n",
       "      <th>Frequency</th>\n",
       "      <th>Relative Frequency</th>\n",
       "    </tr>\n",
       "  </thead>\n",
       "  <tbody>\n",
       "    <tr>\n",
       "      <th>0</th>\n",
       "      <td>B</td>\n",
       "      <td>2028</td>\n",
       "      <td>0.25350</td>\n",
       "    </tr>\n",
       "    <tr>\n",
       "      <th>1</th>\n",
       "      <td>A</td>\n",
       "      <td>1998</td>\n",
       "      <td>0.24975</td>\n",
       "    </tr>\n",
       "    <tr>\n",
       "      <th>2</th>\n",
       "      <td>D</td>\n",
       "      <td>1996</td>\n",
       "      <td>0.24950</td>\n",
       "    </tr>\n",
       "    <tr>\n",
       "      <th>3</th>\n",
       "      <td>C</td>\n",
       "      <td>1978</td>\n",
       "      <td>0.24725</td>\n",
       "    </tr>\n",
       "  </tbody>\n",
       "</table>\n",
       "</div>"
      ],
      "text/plain": [
       "  Customer_Segment_Group  Frequency  Relative Frequency\n",
       "0                      B       2028             0.25350\n",
       "1                      A       1998             0.24975\n",
       "2                      D       1996             0.24950\n",
       "3                      C       1978             0.24725"
      ]
     },
     "execution_count": 25,
     "metadata": {},
     "output_type": "execute_result"
    }
   ],
   "source": [
    "subtable_product"
   ]
  },
  {
   "cell_type": "code",
   "execution_count": 26,
   "id": "2dbcc561",
   "metadata": {},
   "outputs": [
    {
     "data": {
      "image/png": "[encoded data removed]",
      "text/plain": [
       "<Figure size 600x600 with 1 Axes>"
      ]
     },
     "metadata": {},
     "output_type": "display_data"
    }
   ],
   "source": [
    "category_counts = business_dataset['Customer_Segment_Group'].value_counts()\n",
    "colors = ['pink', 'grey', 'green', 'orange'] \n",
    "\n",
    "plt.figure(figsize=(6, 6))\n",
    "plt.pie(category_counts, labels=category_counts.index, autopct='%1.1f%%', colors=colors)\n",
    "\n",
    "plt.title('Figure 0: Pie Chart for Category Counts')\n",
    "\n",
    "plt.show()"
   ]
  },
  {
   "cell_type": "markdown",
   "id": "ddeb11f3",
   "metadata": {},
   "source": [
    "## Income Level"
   ]
  },
  {
   "cell_type": "code",
   "execution_count": 27,
   "id": "d79b36c1",
   "metadata": {},
   "outputs": [
    {
     "data": {
      "text/plain": [
       "Income_Level\n",
       "Low       2720\n",
       "Medium    2666\n",
       "High      2614\n",
       "Name: count, dtype: int64"
      ]
     },
     "execution_count": 27,
     "metadata": {},
     "output_type": "execute_result"
    }
   ],
   "source": [
    "value_counts_segment = business_dataset['Income_Level'].value_counts()\n",
    "value_counts_segment"
   ]
  },
  {
   "cell_type": "code",
   "execution_count": 28,
   "id": "acbf8b84",
   "metadata": {},
   "outputs": [
    {
     "data": {
      "text/plain": [
       "Income_Level\n",
       "Low       0.34000\n",
       "Medium    0.33325\n",
       "High      0.32675\n",
       "Name: count, dtype: float64"
      ]
     },
     "execution_count": 28,
     "metadata": {},
     "output_type": "execute_result"
    }
   ],
   "source": [
    "relative_frequencies_segment = value_counts_segment/len(business_dataset)    #length\n",
    "relative_frequencies_segment"
   ]
  },
  {
   "cell_type": "code",
   "execution_count": 29,
   "id": "23da881e",
   "metadata": {},
   "outputs": [],
   "source": [
    "subtable_Segment = pd.DataFrame({'Income_Level': value_counts_segment.index,\n",
    "                        'Frequency': value_counts_segment.values,\n",
    "                        'Relative Frequency': relative_frequencies_segment.values})"
   ]
  },
  {
   "cell_type": "code",
   "execution_count": 30,
   "id": "a87cd1f4",
   "metadata": {},
   "outputs": [
    {
     "data": {
      "text/html": [
       "<div>\n",
       "<style scoped>\n",
       "    .dataframe tbody tr th:only-of-type {\n",
       "        vertical-align: middle;\n",
       "    }\n",
       "\n",
       "    .dataframe tbody tr th {\n",
       "        vertical-align: top;\n",
       "    }\n",
       "\n",
       "    .dataframe thead th {\n",
       "        text-align: right;\n",
       "    }\n",
       "</style>\n",
       "<table border=\"1\" class=\"dataframe\">\n",
       "  <thead>\n",
       "    <tr style=\"text-align: right;\">\n",
       "      <th></th>\n",
       "      <th>Income_Level</th>\n",
       "      <th>Frequency</th>\n",
       "      <th>Relative Frequency</th>\n",
       "    </tr>\n",
       "  </thead>\n",
       "  <tbody>\n",
       "    <tr>\n",
       "      <th>0</th>\n",
       "      <td>Low</td>\n",
       "      <td>2720</td>\n",
       "      <td>0.34000</td>\n",
       "    </tr>\n",
       "    <tr>\n",
       "      <th>1</th>\n",
       "      <td>Medium</td>\n",
       "      <td>2666</td>\n",
       "      <td>0.33325</td>\n",
       "    </tr>\n",
       "    <tr>\n",
       "      <th>2</th>\n",
       "      <td>High</td>\n",
       "      <td>2614</td>\n",
       "      <td>0.32675</td>\n",
       "    </tr>\n",
       "  </tbody>\n",
       "</table>\n",
       "</div>"
      ],
      "text/plain": [
       "  Income_Level  Frequency  Relative Frequency\n",
       "0          Low       2720             0.34000\n",
       "1       Medium       2666             0.33325\n",
       "2         High       2614             0.32675"
      ]
     },
     "execution_count": 30,
     "metadata": {},
     "output_type": "execute_result"
    }
   ],
   "source": [
    "subtable_Segment"
   ]
  },
  {
   "cell_type": "code",
   "execution_count": 31,
   "id": "7276c6fe",
   "metadata": {},
   "outputs": [
    {
     "data": {
      "text/plain": [
       "array([['Low'],\n",
       "       ['Medium'],\n",
       "       ['High']], dtype='<U6')"
      ]
     },
     "execution_count": 31,
     "metadata": {},
     "output_type": "execute_result"
    }
   ],
   "source": [
    "from sklearn.preprocessing import LabelEncoder\n",
    "from numpy import asarray\n",
    "data = asarray([['Low'], ['Medium'], ['High']])\n",
    "data"
   ]
  },
  {
   "cell_type": "code",
   "execution_count": 32,
   "id": "334c9008",
   "metadata": {},
   "outputs": [],
   "source": [
    "encoder = LabelEncoder()"
   ]
  },
  {
   "cell_type": "code",
   "execution_count": 33,
   "id": "749a3bc7",
   "metadata": {},
   "outputs": [
    {
     "name": "stderr",
     "output_type": "stream",
     "text": [
      "C:\\Users\\Admin\\anaconda3\\Lib\\site-packages\\sklearn\\preprocessing\\_label.py:114: DataConversionWarning: A column-vector y was passed when a 1d array was expected. Please change the shape of y to (n_samples, ), for example using ravel().\n",
      "  y = column_or_1d(y, warn=True)\n"
     ]
    },
    {
     "data": {
      "text/plain": [
       "array([1, 2, 0], dtype=int64)"
      ]
     },
     "execution_count": 33,
     "metadata": {},
     "output_type": "execute_result"
    }
   ],
   "source": [
    "result=encoder.fit_transform(data)\n",
    "result"
   ]
  },
  {
   "cell_type": "code",
   "execution_count": 34,
   "id": "f2be8769",
   "metadata": {},
   "outputs": [
    {
     "ename": "TypeError",
     "evalue": "OneHotEncoder.__init__() got an unexpected keyword argument 'sparse'",
     "output_type": "error",
     "traceback": [
      "\u001b[1;31m---------------------------------------------------------------------------\u001b[0m",
      "\u001b[1;31mTypeError\u001b[0m                                 Traceback (most recent call last)",
      "Cell \u001b[1;32mIn[34], line 2\u001b[0m\n\u001b[0;32m      1\u001b[0m \u001b[38;5;28;01mfrom\u001b[39;00m \u001b[38;5;21;01msklearn\u001b[39;00m\u001b[38;5;21;01m.\u001b[39;00m\u001b[38;5;21;01mpreprocessing\u001b[39;00m \u001b[38;5;28;01mimport\u001b[39;00m OneHotEncoder\n\u001b[1;32m----> 2\u001b[0m encoder \u001b[38;5;241m=\u001b[39m OneHotEncoder(sparse\u001b[38;5;241m=\u001b[39m\u001b[38;5;28;01mFalse\u001b[39;00m)\n\u001b[0;32m      3\u001b[0m result \u001b[38;5;241m=\u001b[39m encoder\u001b[38;5;241m.\u001b[39mfit_transform(data)\n\u001b[0;32m      4\u001b[0m result\n",
      "\u001b[1;31mTypeError\u001b[0m: OneHotEncoder.__init__() got an unexpected keyword argument 'sparse'"
     ]
    }
   ],
   "source": [
    "from sklearn.preprocessing import OneHotEncoder\n",
    "encoder = OneHotEncoder(sparse=False)\n",
    "result = encoder.fit_transform(data)\n",
    "result"
   ]
  },
  {
   "cell_type": "code",
   "execution_count": null,
   "id": "a46ef13a",
   "metadata": {
    "scrolled": false
   },
   "outputs": [],
   "source": [
    "business_dataset.Income_Level.value_counts().nlargest(10).plot(kind=\"bar\", figsize=(10,5), color='grey')\n",
    "plt.title(\"Income_Level\")\n",
    "plt.ylabel(\"Total\")\n",
    "plt.xlabel(\"Figure 2: Income_Leve\");"
   ]
  },
  {
   "cell_type": "code",
   "execution_count": null,
   "id": "aa556a73",
   "metadata": {},
   "outputs": [],
   "source": [
    "ax = sns.histplot(business_dataset.Income_Level, kde = True, color='grey')\n",
    "ax.set(xlabel = 'Income_Level', ylabel = 'Counts', title = 'Figure 3: Income Level Histogram')"
   ]
  },
  {
   "cell_type": "markdown",
   "id": "b7a0f4c5",
   "metadata": {},
   "source": [
    "### High Value Purchase Count"
   ]
  },
  {
   "cell_type": "code",
   "execution_count": null,
   "id": "3b0c4f02",
   "metadata": {},
   "outputs": [],
   "source": [
    "bd_features=business_dataset[['Transaction_Amount', 'Product_Category_Preference', 'High_Value_Purchase_Count']]\n",
    "bd_features.describe()"
   ]
  },
  {
   "cell_type": "code",
   "execution_count": null,
   "id": "117f71e0",
   "metadata": {},
   "outputs": [],
   "source": [
    "value_counts2 = business_dataset['High_Value_Purchase_Count'].value_counts()\n",
    "value_counts2"
   ]
  },
  {
   "cell_type": "code",
   "execution_count": null,
   "id": "1e95579e",
   "metadata": {},
   "outputs": [],
   "source": [
    "color = 'grey'\n",
    "High_Value_Purchase_Count_outlier = business_dataset['High_Value_Purchase_Count']\n",
    "\n",
    "sns.boxplot(y=High_Value_Purchase_Count_outlier, color=color)\n",
    "plt.xlabel('Figure 4: High_Value_Purchase')\n",
    "\n",
    "plt.show()"
   ]
  },
  {
   "cell_type": "markdown",
   "id": "b4498163",
   "metadata": {},
   "source": [
    "#### As the Marketing_Email_Click_Rate\tis Continuous numerical data indicating the click rate on marketing emails, in percentage. and some of them are 120, I am assuming there are sparse data. then will be used minmax scaler.\n",
    "\n",
    "### It was tested three differrent scaler models to be able which one was the best one:\n",
    "#'minmaxScaler', 'standardized', 'l2_normalize'"
   ]
  },
  {
   "cell_type": "code",
   "execution_count": null,
   "id": "21c5a91c",
   "metadata": {},
   "outputs": [],
   "source": [
    "import pandas as pd\n",
    "import seaborn as sns\n",
    "import sklearn.preprocessing as preproc\n",
    "from sklearn.preprocessing import MinMaxScaler"
   ]
  },
  {
   "cell_type": "code",
   "execution_count": null,
   "id": "91d367df",
   "metadata": {},
   "outputs": [],
   "source": [
    "sns.displot(data=business_dataset, x =\"High_Value_Purchase_Count\")"
   ]
  },
  {
   "cell_type": "code",
   "execution_count": null,
   "id": "ff1bdf41",
   "metadata": {},
   "outputs": [],
   "source": [
    "df = pd.read_csv(\"CA1_business_dataset.csv\", delimiter = \". \")"
   ]
  },
  {
   "cell_type": "code",
   "execution_count": null,
   "id": "7357de5a",
   "metadata": {},
   "outputs": [],
   "source": [
    "business_dataset[\"minmax\"]=preproc.minmax_scale(business_dataset[\"High_Value_Purchase_Count\"])"
   ]
  },
  {
   "cell_type": "code",
   "execution_count": null,
   "id": "d16c908b",
   "metadata": {},
   "outputs": [],
   "source": [
    "sns.displot(data=business_dataset, x = \"minmax\")"
   ]
  },
  {
   "cell_type": "code",
   "execution_count": null,
   "id": "b00bc7bb",
   "metadata": {},
   "outputs": [],
   "source": [
    "business_dataset[\"standardized\"]=preproc.StandardScaler().fit_transform(business_dataset[[\"High_Value_Purchase_Count\"]])"
   ]
  },
  {
   "cell_type": "code",
   "execution_count": null,
   "id": "ff2a21d1",
   "metadata": {},
   "outputs": [],
   "source": [
    "business_dataset[\"standardized\"]"
   ]
  },
  {
   "cell_type": "code",
   "execution_count": null,
   "id": "63c61a88",
   "metadata": {},
   "outputs": [],
   "source": [
    "business_dataset"
   ]
  },
  {
   "cell_type": "code",
   "execution_count": null,
   "id": "d08bcda1",
   "metadata": {},
   "outputs": [],
   "source": [
    "business_dataset[\"l2_normalize\"]=preproc.normalize(business_dataset[[\"High_Value_Purchase_Count\"]], axis=0)"
   ]
  },
  {
   "cell_type": "code",
   "execution_count": null,
   "id": "4b91ee4c",
   "metadata": {},
   "outputs": [],
   "source": [
    "business_dataset[\"l2_normalize\"]"
   ]
  },
  {
   "cell_type": "code",
   "execution_count": null,
   "id": "af8cb817",
   "metadata": {
    "scrolled": false
   },
   "outputs": [],
   "source": [
    "business_dataset.head()"
   ]
  },
  {
   "cell_type": "code",
   "execution_count": null,
   "id": "562dad69",
   "metadata": {
    "scrolled": true
   },
   "outputs": [],
   "source": [
    "bd_features=business_dataset[['minmax', 'standardized', 'l2_normalize']]\n",
    "bd_features.describe()"
   ]
  },
  {
   "cell_type": "code",
   "execution_count": null,
   "id": "efd71075",
   "metadata": {},
   "outputs": [],
   "source": [
    "top_10_modes = business_dataset['High_Value_Purchase_Count'].value_counts().head(10)\n",
    "\n",
    "print(top_10_modes)"
   ]
  },
  {
   "cell_type": "code",
   "execution_count": null,
   "id": "bd497607",
   "metadata": {},
   "outputs": [],
   "source": [
    "relative_frequencies2 = value_counts2/len(business_dataset)   \n",
    "relative_frequencies2"
   ]
  },
  {
   "cell_type": "code",
   "execution_count": null,
   "id": "32d4c47f",
   "metadata": {},
   "outputs": [],
   "source": [
    "subtable2 = pd.DataFrame({'High_Value_Purchase_Count': value_counts2.index,\n",
    "                        'Frequency': value_counts2.values,\n",
    "                        'Relative Frequency': relative_frequencies2.values})"
   ]
  },
  {
   "cell_type": "code",
   "execution_count": null,
   "id": "c58de68a",
   "metadata": {},
   "outputs": [],
   "source": [
    "subtable2"
   ]
  },
  {
   "cell_type": "code",
   "execution_count": null,
   "id": "7c43f4d2",
   "metadata": {},
   "outputs": [],
   "source": [
    "value_counts_minmax = business_dataset['minmax'].value_counts()\n",
    "value_counts_minmax"
   ]
  },
  {
   "cell_type": "code",
   "execution_count": null,
   "id": "a24ed719",
   "metadata": {},
   "outputs": [],
   "source": [
    "relative_frequencies_minmax = value_counts_minmax/len(business_dataset)  \n",
    "relative_frequencies_minmax"
   ]
  },
  {
   "cell_type": "code",
   "execution_count": null,
   "id": "f12401d2",
   "metadata": {},
   "outputs": [],
   "source": [
    "subtable_minmax = pd.DataFrame({'High_Value_Purchase_Count': value_counts_minmax.index,\n",
    "                        'Frequency': value_counts_minmax.values,\n",
    "                        'Relative Frequency': relative_frequencies_minmax.values})"
   ]
  },
  {
   "cell_type": "code",
   "execution_count": null,
   "id": "697c219b",
   "metadata": {},
   "outputs": [],
   "source": [
    "subtable_minmax"
   ]
  },
  {
   "cell_type": "code",
   "execution_count": null,
   "id": "89826ef8",
   "metadata": {},
   "outputs": [],
   "source": [
    "color = 'grey'\n",
    "min_max_no_outliers = business_dataset['minmax']\n",
    "sns.boxplot(y=min_max_no_outliers, color=color)\n",
    "plt.ylabel('minmax_count')\n",
    "plt.xlabel('Figure 5: minmax')\n",
    "plt.show()"
   ]
  },
  {
   "cell_type": "code",
   "execution_count": null,
   "id": "69dc3495",
   "metadata": {},
   "outputs": [],
   "source": [
    "plt.figure(figsize=(8, 6))\n",
    "plt.scatter(business_dataset['minmax'], range(len(business_dataset)), alpha=0.5, color='grey') \n",
    "plt.title('Scatter Plot of High_Value_Purchase_Count')\n",
    "plt.xlabel('Figure 6: High_Value_Purchase_Count') \n",
    "plt.ylabel('Index')\n",
    "plt.grid(True)\n",
    "plt.show()"
   ]
  },
  {
   "cell_type": "code",
   "execution_count": null,
   "id": "31674b01",
   "metadata": {},
   "outputs": [],
   "source": [
    "business_dataset['Product_Category_Preference'].unique()"
   ]
  },
  {
   "cell_type": "code",
   "execution_count": null,
   "id": "4720ce9f",
   "metadata": {},
   "outputs": [],
   "source": [
    "total_sales_by_product_category = business_dataset.groupby('Product_Category_Preference')['Transaction_Amount'].sum()"
   ]
  },
  {
   "cell_type": "code",
   "execution_count": null,
   "id": "acb7ef9d",
   "metadata": {},
   "outputs": [],
   "source": [
    "colors1 = ['grey', 'pink', 'orange',]\n",
    "\n",
    "plt.figure(figsize=(4, 4))\n",
    "plt.pie(total_sales_by_product_category, labels=total_sales_by_product_category.index, autopct='%1.1f%%', colors=colors1)\n",
    "plt.title('Figure 7: Proportion by Product Category')\n",
    "plt.show()"
   ]
  },
  {
   "cell_type": "code",
   "execution_count": null,
   "id": "f64d16d1",
   "metadata": {},
   "outputs": [],
   "source": [
    "palette = ['grey', 'pink', 'orange',]\n",
    "\n",
    "sns.boxplot(x = 'Product_Category_Preference', y = 'Transaction_Amount', data = business_dataset, hue = 'Product_Category_Preference', palette=palette)\n",
    "plt.title('Figure 8: Product_Category_Preference and Transaction_Amount', fontsize = 14)\n",
    "plt.legend([], [],frameon = False)\n",
    "plt.show()"
   ]
  },
  {
   "cell_type": "code",
   "execution_count": null,
   "id": "b5887718",
   "metadata": {},
   "outputs": [],
   "source": [
    "ax = sns.histplot(business_dataset.Product_Category_Preference, kde = True, color = 'grey')\n",
    "ax.set(xlabel = 'Transaction_Amount', ylabel = 'Product_Category_Preference', title = 'Figure 9: Transaction_Amount Histogram')"
   ]
  },
  {
   "cell_type": "code",
   "execution_count": null,
   "id": "f29f306d",
   "metadata": {},
   "outputs": [],
   "source": [
    "plt.figure(figsize=(8, 6))\n",
    "plt.scatter(business_dataset['Transaction_Amount'], business_dataset['High_Value_Purchase_Count'], alpha=0.5, c='grey')\n",
    "plt.title('Scatter Plot High_Value_Purchase_Count and Transaction_Amount')\n",
    "plt.xlabel('Figure 10: Transaction_Amount')\n",
    "plt.ylabel('High_Value_Purchase_Count')\n",
    "plt.grid(True)\n",
    "plt.show()"
   ]
  },
  {
   "cell_type": "code",
   "execution_count": null,
   "id": "75bed0ca",
   "metadata": {},
   "outputs": [],
   "source": [
    "ax = sns.histplot(business_dataset['Transaction_Amount'], kde=True, color ='grey')\n",
    "ax.set(xlabel='Amount', ylabel='Transactions', title =' Figure 11: Sales Histogram')"
   ]
  },
  {
   "cell_type": "code",
   "execution_count": null,
   "id": "3bffe415",
   "metadata": {},
   "outputs": [],
   "source": [
    "color3 = 'grey'\n",
    "\n",
    "sns.boxplot(data=business_dataset, x='Transaction_Amount', palette=[color3])\n",
    "plt.xlabel('Figure 12: Transaction_Amount')"
   ]
  },
  {
   "cell_type": "markdown",
   "id": "bc34e1dc",
   "metadata": {},
   "source": [
    "## Campaign Response Rate:\n"
   ]
  },
  {
   "cell_type": "markdown",
   "id": "c74b808a",
   "metadata": {},
   "source": [
    "#### Now, we gonna look at on representing by Marketing Email Click Rate(Numerical), Social Media Engagement Score(continuous numerical), Product Upsell Success(binary numerical), Interest in New Product (Binary categorical)."
   ]
  },
  {
   "cell_type": "code",
   "execution_count": null,
   "id": "15cdb75a",
   "metadata": {},
   "outputs": [],
   "source": [
    "bd_features=business_dataset[['Marketing_Email_Click_Rate', 'Social_Media_Engagement_Score', 'Product_Upsell_Success', 'Interest_in_New_Product']]\n",
    "bd_features.describe()"
   ]
  },
  {
   "cell_type": "code",
   "execution_count": null,
   "id": "e782441d",
   "metadata": {},
   "outputs": [],
   "source": [
    "value_counts3 = business_dataset['Marketing_Email_Click_Rate'].value_counts()\n",
    "value_counts3"
   ]
  },
  {
   "cell_type": "code",
   "execution_count": null,
   "id": "71599251",
   "metadata": {},
   "outputs": [],
   "source": [
    "relative_frequencies3 = value_counts3/len(business_dataset)\n",
    "relative_frequencies3"
   ]
  },
  {
   "cell_type": "code",
   "execution_count": null,
   "id": "ac1e21d8",
   "metadata": {},
   "outputs": [],
   "source": [
    "subtable3 = pd.DataFrame({'Marketing_Email_Click_Rate': value_counts3.index,\n",
    "                        'Frequency': value_counts3.values,\n",
    "                        'Relative Frequency': relative_frequencies3.values})"
   ]
  },
  {
   "cell_type": "code",
   "execution_count": null,
   "id": "b53abb2e",
   "metadata": {},
   "outputs": [],
   "source": [
    "subtable3"
   ]
  },
  {
   "cell_type": "markdown",
   "id": "df52f0d5",
   "metadata": {},
   "source": [
    "### Social Media Engagement Score"
   ]
  },
  {
   "cell_type": "code",
   "execution_count": null,
   "id": "210ee56b",
   "metadata": {},
   "outputs": [],
   "source": [
    "value_counts4 = business_dataset['Social_Media_Engagement_Score'].value_counts()\n",
    "value_counts4"
   ]
  },
  {
   "cell_type": "code",
   "execution_count": null,
   "id": "d5459dcb",
   "metadata": {},
   "outputs": [],
   "source": [
    "relative_frequencies4 = value_counts4/len(business_dataset)\n",
    "relative_frequencies4"
   ]
  },
  {
   "cell_type": "code",
   "execution_count": null,
   "id": "526878d4",
   "metadata": {},
   "outputs": [],
   "source": [
    "subtable4 = pd.DataFrame({'Social_Media_Engagement_Score': value_counts4.index,\n",
    "                        'Frequency': value_counts4.values,\n",
    "                        'Relative Frequency': relative_frequencies4.values})"
   ]
  },
  {
   "cell_type": "code",
   "execution_count": null,
   "id": "37f77947",
   "metadata": {},
   "outputs": [],
   "source": [
    "subtable4"
   ]
  },
  {
   "cell_type": "code",
   "execution_count": null,
   "id": "24728070",
   "metadata": {},
   "outputs": [],
   "source": [
    "color3 = ['pink', 'grey']\n",
    "\n",
    "sns.boxplot(x = 'Product_Upsell_Success', y = 'Social_Media_Engagement_Score', data = business_dataset, hue = 'Product_Upsell_Success', palette=color3)\n",
    "plt.title('Figure 13: Product_Upsell_Success and Social_Media_Engagement_Score', fontsize = 14)\n",
    "plt.legend([], [],frameon = False)\n",
    "plt.show()"
   ]
  },
  {
   "cell_type": "code",
   "execution_count": null,
   "id": "13e70ee0",
   "metadata": {},
   "outputs": [],
   "source": [
    "color3 = ['pink', 'grey']\n",
    "\n",
    "sns.boxplot(x = 'Product_Upsell_Success', y = 'Marketing_Email_Click_Rate', data = business_dataset, hue = 'Product_Upsell_Success', palette=color3)\n",
    "plt.title('Figure 14: Product_Upsell_Success x Marketing_Email_Click_Rate', fontsize = 14)\n",
    "plt.legend([], [],frameon = False)\n",
    "plt.show()"
   ]
  },
  {
   "cell_type": "markdown",
   "id": "adbae9c5",
   "metadata": {},
   "source": [
    "### Product Upsell Success\n",
    "#### Upselling é uma estratégia de vendas na qual o vendedor sugere ao cliente a compra de produtos ou serviços adicionais, geralmente de maior valor ou com maior margem de lucro, em conjunto com o produto ou serviço original que o cliente já está interessado em adquiri"
   ]
  },
  {
   "cell_type": "code",
   "execution_count": null,
   "id": "46dfe426",
   "metadata": {},
   "outputs": [],
   "source": [
    "value_counts5 = business_dataset['Product_Upsell_Success'].value_counts()\n",
    "value_counts5"
   ]
  },
  {
   "cell_type": "code",
   "execution_count": null,
   "id": "7378f08a",
   "metadata": {},
   "outputs": [],
   "source": [
    "relative_frequencies5 = value_counts5/len(business_dataset) \n",
    "relative_frequencies5"
   ]
  },
  {
   "cell_type": "code",
   "execution_count": null,
   "id": "9563a110",
   "metadata": {},
   "outputs": [],
   "source": [
    "subtable5 = pd.DataFrame({'Product_Upsell_Success': value_counts5.index,\n",
    "                        'Frequency': value_counts5.values,\n",
    "                        'Relative Frequency': relative_frequencies5.values})"
   ]
  },
  {
   "cell_type": "code",
   "execution_count": null,
   "id": "e857315d",
   "metadata": {},
   "outputs": [],
   "source": [
    "subtable5"
   ]
  },
  {
   "cell_type": "code",
   "execution_count": null,
   "id": "4559e390",
   "metadata": {},
   "outputs": [],
   "source": [
    "colors = ['pink', 'grey']\n",
    "\n",
    "plt.figure(figsize = (5, 5))\n",
    "plt.pie(value_counts5, labels = value_counts5.index, autopct = '%1.2f%%', startangle = 140, colors=colors)\n",
    "plt.title('Figure 15: Product_Upsell_Success')"
   ]
  },
  {
   "cell_type": "markdown",
   "id": "59275b73",
   "metadata": {},
   "source": [
    "###  Interest in New Product"
   ]
  },
  {
   "cell_type": "code",
   "execution_count": null,
   "id": "523951e8",
   "metadata": {},
   "outputs": [],
   "source": [
    "value_counts6 = business_dataset['Interest_in_New_Product'].value_counts()\n",
    "value_counts6"
   ]
  },
  {
   "cell_type": "code",
   "execution_count": null,
   "id": "d0d75ba3",
   "metadata": {},
   "outputs": [],
   "source": [
    "relative_frequencies6 = value_counts6/len(business_dataset) \n",
    "relative_frequencies6"
   ]
  },
  {
   "cell_type": "code",
   "execution_count": null,
   "id": "569ca47a",
   "metadata": {},
   "outputs": [],
   "source": [
    "subtable6 = pd.DataFrame({'Interest_in_New_Product': value_counts6.index,\n",
    "                        'Frequency': value_counts6.values,\n",
    "                        'Relative Frequency': relative_frequencies6.values})"
   ]
  },
  {
   "cell_type": "code",
   "execution_count": null,
   "id": "b3521428",
   "metadata": {
    "scrolled": true
   },
   "outputs": [],
   "source": [
    "subtable6"
   ]
  },
  {
   "cell_type": "code",
   "execution_count": null,
   "id": "3f33b3fa",
   "metadata": {},
   "outputs": [],
   "source": [
    "colors = ['pink', 'grey']\n",
    "\n",
    "plt.figure(figsize = (5, 5))\n",
    "plt.pie(value_counts6, labels = value_counts6.index, autopct = '%1.2f%%', startangle = 140, colors=colors)\n",
    "plt.title('Figure 16: Percentage who has Interest in New Product')"
   ]
  },
  {
   "cell_type": "markdown",
   "id": "7d7c1776",
   "metadata": {},
   "source": [
    "## Customer Feedback Score:\n",
    "Product Rating and Customer Satisfaction Score"
   ]
  },
  {
   "cell_type": "markdown",
   "id": "e93ce647",
   "metadata": {},
   "source": [
    "As the Product Rating has missing values as described on the Data Dictionary, its beeing considerated the zero as those missing values. However the zero will be transformed through the mean of the variable, on this case 50.01.    Then after realised this point it has been transformed the scale of 1 to 100 in 1 to 5 considering 1, 2 , 3, 4 and 5."
   ]
  },
  {
   "cell_type": "code",
   "execution_count": null,
   "id": "54ab90c6",
   "metadata": {},
   "outputs": [],
   "source": [
    "columns = ['Product_Rating', 'Customer_Satisfaction_Score'] \n",
    "description_multiple_columns = business_dataset[columns].describe()\n",
    "\n",
    "print(description_multiple_columns)"
   ]
  },
  {
   "cell_type": "code",
   "execution_count": null,
   "id": "a956b343",
   "metadata": {},
   "outputs": [],
   "source": [
    "business_dataset['Product_Rating'].unique()"
   ]
  },
  {
   "cell_type": "code",
   "execution_count": null,
   "id": "642ff190",
   "metadata": {},
   "outputs": [],
   "source": [
    "business_dataset_counts = business_dataset['Product_Rating'].value_counts()\n",
    "business_dataset_counts"
   ]
  },
  {
   "cell_type": "markdown",
   "id": "50bc3890",
   "metadata": {},
   "source": [
    "#### Define the mean for then replace the zeros one below:"
   ]
  },
  {
   "cell_type": "code",
   "execution_count": null,
   "id": "d2969be7",
   "metadata": {},
   "outputs": [],
   "source": [
    "business_dataset_median_product = business_dataset['Product_Rating'].median()"
   ]
  },
  {
   "cell_type": "code",
   "execution_count": null,
   "id": "04ddc8ef",
   "metadata": {},
   "outputs": [],
   "source": [
    "business_dataset['Product_Rating'] = business_dataset['Product_Rating'].replace(0, business_dataset_median_product)"
   ]
  },
  {
   "cell_type": "code",
   "execution_count": null,
   "id": "1ae3f822",
   "metadata": {},
   "outputs": [],
   "source": [
    "#tranforming 1-100 in 1 to 5 scale.\n",
    "def transform_rating(rating):\n",
    "    if rating <= 20:\n",
    "        return 1\n",
    "    elif rating <= 40:\n",
    "        return 2\n",
    "    elif rating <= 60:\n",
    "        return 3\n",
    "    elif rating <= 80:\n",
    "        return 4\n",
    "    else:\n",
    "        return 5\n",
    "business_dataset['Product_Rating'] = business_dataset['Product_Rating'].apply(transform_rating)"
   ]
  },
  {
   "cell_type": "code",
   "execution_count": null,
   "id": "9af091ad",
   "metadata": {},
   "outputs": [],
   "source": [
    "business_dataset['Product_Rating'].unique()"
   ]
  },
  {
   "cell_type": "code",
   "execution_count": null,
   "id": "49ec982d",
   "metadata": {
    "scrolled": true
   },
   "outputs": [],
   "source": [
    "business_dataset_counts_product = business_dataset['Product_Rating'].value_counts()\n",
    "business_dataset_counts_product"
   ]
  },
  {
   "cell_type": "code",
   "execution_count": null,
   "id": "51556ad8",
   "metadata": {},
   "outputs": [],
   "source": [
    "relative_frequencies_products = business_dataset_counts_product/len(business_dataset)  \n",
    "relative_frequencies_products"
   ]
  },
  {
   "cell_type": "code",
   "execution_count": null,
   "id": "025061af",
   "metadata": {},
   "outputs": [],
   "source": [
    "subtable_products = pd.DataFrame({'Product_Rating': business_dataset_counts_product.index,\n",
    "                        'Frequency': business_dataset_counts_product.values,\n",
    "                        'Relative Frequency': relative_frequencies_products.values})"
   ]
  },
  {
   "cell_type": "code",
   "execution_count": null,
   "id": "2485e7c4",
   "metadata": {},
   "outputs": [],
   "source": [
    "subtable_products"
   ]
  },
  {
   "cell_type": "code",
   "execution_count": null,
   "id": "65227569",
   "metadata": {},
   "outputs": [],
   "source": [
    "business_dataset['Product_Rating'].isnull().values.any()"
   ]
  },
  {
   "cell_type": "code",
   "execution_count": null,
   "id": "ee88544b",
   "metadata": {
    "scrolled": true
   },
   "outputs": [],
   "source": [
    "zero_exist = (business_dataset['Product_Rating'] == 0).any()\n",
    "zero_exist"
   ]
  },
  {
   "cell_type": "code",
   "execution_count": null,
   "id": "3875ab8d",
   "metadata": {
    "scrolled": false
   },
   "outputs": [],
   "source": [
    "sns.boxplot(x = 'Product_Rating', y = 'Customer_Satisfaction_Score', data = business_dataset, hue = 'Product_Rating')\n",
    "plt.title('Figure 17: Product_Rating and Customer_Satisfaction_Score', fontsize = 16)\n",
    "plt.legend([], [],frameon = False)\n",
    "plt.show()"
   ]
  },
  {
   "cell_type": "code",
   "execution_count": null,
   "id": "f3bb55eb",
   "metadata": {},
   "outputs": [],
   "source": [
    "sns.boxplot(x = 'Product_Rating', y = 'Transaction_Amount', data = business_dataset, hue = 'Product_Rating')\n",
    "plt.title('Figure 18: Product_Rating and Transaction_Amount', fontsize = 16)\n",
    "plt.legend([], [],frameon = False)"
   ]
  },
  {
   "cell_type": "code",
   "execution_count": null,
   "id": "e69b9306",
   "metadata": {},
   "outputs": [],
   "source": [
    "business_dataset['Product_Rating'].value_counts().sort_index().plot(kind=\"bar\", figsize=(8,4), color='grey')\n",
    "\n",
    "plt.title(\"Average Product Rating\")\n",
    "plt.ylabel(\"Count\")\n",
    "plt.xlabel(\"Figure 19: Product Rating\")\n",
    "plt.show()"
   ]
  },
  {
   "cell_type": "code",
   "execution_count": null,
   "id": "2488188b",
   "metadata": {},
   "outputs": [],
   "source": [
    "ax = sns.histplot(business_dataset.Product_Rating, kde = True, color='grey')\n",
    "ax.set(xlabel = 'Product Rating', ylabel = 'Count', title = 'Figure 20: Product_Rating')"
   ]
  },
  {
   "cell_type": "code",
   "execution_count": null,
   "id": "a95575cb",
   "metadata": {},
   "outputs": [],
   "source": [
    "import plotly.express as px\n",
    "Product_Rating_order = ['1', '2', '3', '4', '5']"
   ]
  },
  {
   "cell_type": "code",
   "execution_count": null,
   "id": "1eb55d28",
   "metadata": {},
   "outputs": [],
   "source": [
    "plt.figure(figsize=(7, 5))\n",
    "plt.boxplot(business_dataset['Product_Rating'])\n",
    "plt.title('Figure 21: Boxplot to Product_Rating')\n",
    "plt.ylabel('Product Rating Count')\n",
    "plt.xlabel('Product_Rating')\n",
    "plt.show()"
   ]
  },
  {
   "cell_type": "markdown",
   "id": "c8404e45",
   "metadata": {},
   "source": [
    "### Customer Satisfaction Score"
   ]
  },
  {
   "cell_type": "code",
   "execution_count": null,
   "id": "2a4e3959",
   "metadata": {
    "scrolled": true
   },
   "outputs": [],
   "source": [
    "business_dataset_counts = business_dataset['Customer_Satisfaction_Score'].value_counts()\n",
    "business_dataset_counts"
   ]
  },
  {
   "cell_type": "code",
   "execution_count": null,
   "id": "e2f245f5",
   "metadata": {
    "scrolled": false
   },
   "outputs": [],
   "source": [
    "business_dataset['Customer_Satisfaction_Score'].unique()"
   ]
  },
  {
   "cell_type": "code",
   "execution_count": null,
   "id": "644a7905",
   "metadata": {},
   "outputs": [],
   "source": [
    "business_dataset['Customer_Satisfaction_Score'].isnull().values.any()"
   ]
  },
  {
   "cell_type": "code",
   "execution_count": null,
   "id": "5ec07861",
   "metadata": {},
   "outputs": [],
   "source": [
    "color3 = 'grey'\n",
    "sns.boxplot(data=business_dataset, x='Customer_Satisfaction_Score', palette=[color3])\n",
    "plt.xlabel('Figure 22: Customer Satisfaction Score')"
   ]
  },
  {
   "cell_type": "code",
   "execution_count": null,
   "id": "4397c0af",
   "metadata": {
    "scrolled": false
   },
   "outputs": [],
   "source": [
    "business_dataset.Customer_Satisfaction_Score.value_counts().nlargest(50).plot(kind=\"bar\", figsize=(8,4), color='pink')\n",
    "plt.title(\"Figure 23: Customer_Satisfaction_Score\")\n",
    "plt.ylabel(\"Count\")\n",
    "plt.xlabel(\"Satisfaction Score\");"
   ]
  },
  {
   "cell_type": "markdown",
   "id": "d43d0b3e",
   "metadata": {},
   "source": [
    "## Task 3 and 4:"
   ]
  },
  {
   "cell_type": "markdown",
   "id": "1f599894",
   "metadata": {},
   "source": [
    "#### The process of choosen was select just the categorical, because the continuous would be hard to understand a pattern of probability of customers who responded the new marketing initiatives based on historical data."
   ]
  },
  {
   "cell_type": "markdown",
   "id": "bd6c05e2",
   "metadata": {},
   "source": [
    "### Choosen through of the task 1:\n",
    "Product_Category_Preference, Customer_Segment_Group, Interest_in_New_Product, Product_Rating"
   ]
  },
  {
   "cell_type": "markdown",
   "id": "e2e91131",
   "metadata": {},
   "source": [
    "\n",
    "## Customer_Segment_Group x Product_Category_Preference"
   ]
  },
  {
   "cell_type": "markdown",
   "id": "d81357cf",
   "metadata": {},
   "source": [
    "It will be considerated for the questions below:\n",
    "\n",
    "k= % of the sample, n=sample size and p=probability"
   ]
  },
  {
   "cell_type": "code",
   "execution_count": null,
   "id": "4bfacd60",
   "metadata": {},
   "outputs": [],
   "source": [
    "import statistics as stats\n",
    "from scipy.stats import binom"
   ]
  },
  {
   "cell_type": "code",
   "execution_count": null,
   "id": "e7156693",
   "metadata": {},
   "outputs": [],
   "source": [
    "cross_tab = pd.crosstab(index=business_dataset['Product_Category_Preference'], columns=business_dataset['Customer_Segment_Group'])\n",
    "\n",
    "print(cross_tab)"
   ]
  },
  {
   "cell_type": "markdown",
   "id": "35b577f0",
   "metadata": {},
   "source": [
    "#### Segment 'B' interesting in Gold products:"
   ]
  },
  {
   "cell_type": "code",
   "execution_count": null,
   "id": "2dfabfa6",
   "metadata": {},
   "outputs": [],
   "source": [
    "(765 / 1998)"
   ]
  },
  {
   "cell_type": "code",
   "execution_count": null,
   "id": "9e815d64",
   "metadata": {},
   "outputs": [],
   "source": [
    "binom.cdf(k =40 , n = 102  , p = 0.3828) "
   ]
  },
  {
   "cell_type": "code",
   "execution_count": null,
   "id": "36ce1199",
   "metadata": {},
   "outputs": [],
   "source": [
    "binom.cdf(k =50 , n = 102  , p = 0.3828) "
   ]
  },
  {
   "cell_type": "markdown",
   "id": "7a9e5939",
   "metadata": {},
   "source": [
    "## Customer_Segment_Group x Subscription_Status"
   ]
  },
  {
   "cell_type": "code",
   "execution_count": null,
   "id": "e68b8504",
   "metadata": {},
   "outputs": [],
   "source": [
    "cross_tab = pd.crosstab(index=business_dataset['Subscription_Status'], columns=business_dataset['Customer_Segment_Group'])\n",
    "\n",
    "print(cross_tab)"
   ]
  },
  {
   "cell_type": "markdown",
   "id": "e1524d42",
   "metadata": {},
   "source": [
    "#### Who are subscribed by segment A:"
   ]
  },
  {
   "cell_type": "code",
   "execution_count": null,
   "id": "c56230ad",
   "metadata": {},
   "outputs": [],
   "source": [
    "(1008 / 1998)"
   ]
  },
  {
   "cell_type": "markdown",
   "id": "6e26aef4",
   "metadata": {},
   "source": [
    "#### Calculate probability between 50 and 60 inclusive, it was substract from P(x=<60) - P(x=<50):"
   ]
  },
  {
   "cell_type": "code",
   "execution_count": null,
   "id": "20123e8e",
   "metadata": {},
   "outputs": [],
   "source": [
    "binom.cdf(k =60 , n = 100 , p = 0.5045) - binom.cdf(k =49 , n = 100 , p = 0.5045)"
   ]
  },
  {
   "cell_type": "markdown",
   "id": "3ce92431",
   "metadata": {},
   "source": [
    "#### Calculate probability between 50 and 70 inclusive, it was substract from P(x=<70) - P(x=<50):"
   ]
  },
  {
   "cell_type": "code",
   "execution_count": null,
   "id": "16f29894",
   "metadata": {},
   "outputs": [],
   "source": [
    "binom.cdf(k =70 , n = 100 , p = 0.5045) - binom.cdf(k =49 , n = 100 , p = 0.5045)"
   ]
  },
  {
   "cell_type": "markdown",
   "id": "88b261e7",
   "metadata": {},
   "source": [
    "## Customer_Segment_Group x Interest_in_New_Product"
   ]
  },
  {
   "cell_type": "code",
   "execution_count": null,
   "id": "a1b38904",
   "metadata": {},
   "outputs": [],
   "source": [
    "cross_tab = pd.crosstab(index=business_dataset['Interest_in_New_Product'], columns=business_dataset['Customer_Segment_Group'])\n",
    "\n",
    "print(cross_tab)"
   ]
  },
  {
   "cell_type": "markdown",
   "id": "b383c20e",
   "metadata": {},
   "source": [
    "#### Who has interesting on the product by the segment B:"
   ]
  },
  {
   "cell_type": "code",
   "execution_count": null,
   "id": "04a46deb",
   "metadata": {},
   "outputs": [],
   "source": [
    "(1048 / 1998)"
   ]
  },
  {
   "cell_type": "markdown",
   "id": "a3988030",
   "metadata": {},
   "source": [
    "#### Calculate probability between 50 and 60 inclusive, it was substract from P(x=<60) - P(x=<49):"
   ]
  },
  {
   "cell_type": "code",
   "execution_count": null,
   "id": "5c529425",
   "metadata": {},
   "outputs": [],
   "source": [
    "binom.cdf(k =60 , n = 102 , p = 0.52002) - binom.cdf(k =49 , n = 102 , p = 0.5245)"
   ]
  },
  {
   "cell_type": "markdown",
   "id": "ea3f9b3b",
   "metadata": {},
   "source": [
    "#### Calculate probability between 50 and 80 inclusive, it was substract from P(x=<80) - P(x=<49):"
   ]
  },
  {
   "cell_type": "code",
   "execution_count": null,
   "id": "c8a2db4a",
   "metadata": {},
   "outputs": [],
   "source": [
    "binom.cdf(k =80 , n = 102 , p = 0.52002) - binom.cdf(k =49 , n = 102 , p = 0.5245)"
   ]
  },
  {
   "cell_type": "markdown",
   "id": "7a61cce7",
   "metadata": {},
   "source": [
    "## Task 5:\n",
    "#### Customer_Satisfaction_Score"
   ]
  },
  {
   "cell_type": "markdown",
   "id": "6ea0cff3",
   "metadata": {},
   "source": [
    "Optou-se por associar Customer_Satisfaction_Score com o High_Value_Purchase_Count, neste caso o minmaxScaler pois ouve uma reducao de dimensionalidade em decorrencia de outliers."
   ]
  },
  {
   "cell_type": "code",
   "execution_count": null,
   "id": "f5f09cac",
   "metadata": {},
   "outputs": [],
   "source": [
    "bd_features=business_dataset[['minmax', 'Customer_Satisfaction_Score']]\n",
    "bd_features.describe()"
   ]
  },
  {
   "cell_type": "code",
   "execution_count": null,
   "id": "66f3fd96",
   "metadata": {},
   "outputs": [],
   "source": [
    "from scipy.stats import norm"
   ]
  },
  {
   "cell_type": "code",
   "execution_count": null,
   "id": "acc19494",
   "metadata": {},
   "outputs": [],
   "source": [
    "µ = mu\n",
    "σ = sigma"
   ]
  },
  {
   "cell_type": "code",
   "execution_count": null,
   "id": "a1c0e890",
   "metadata": {},
   "outputs": [],
   "source": [
    "mu = 50.212000            \n",
    "sigma = 28.984204         "
   ]
  },
  {
   "cell_type": "markdown",
   "id": "cf25cf14",
   "metadata": {},
   "source": [
    "#### Calculate the satisfaction score lower than 40 points --> P(x < 40):"
   ]
  },
  {
   "cell_type": "code",
   "execution_count": null,
   "id": "789586c5",
   "metadata": {},
   "outputs": [],
   "source": [
    "norm.cdf(40, mu, sigma)"
   ]
  },
  {
   "cell_type": "markdown",
   "id": "0c3b66d9",
   "metadata": {},
   "source": [
    "#### We calculate the satisfaction score  greater than 40 points --> P(X > 40):"
   ]
  },
  {
   "cell_type": "code",
   "execution_count": null,
   "id": "d33f498b",
   "metadata": {},
   "outputs": [],
   "source": [
    "norm.sf(40, mu, sigma)"
   ]
  },
  {
   "cell_type": "markdown",
   "id": "8d6b2dbf",
   "metadata": {},
   "source": [
    "#### Calculate between 50 and 80 points --> P(x<50) - P(x<80):"
   ]
  },
  {
   "cell_type": "code",
   "execution_count": null,
   "id": "9051867e",
   "metadata": {},
   "outputs": [],
   "source": [
    "norm.cdf(80, mu, sigma) - norm.cdf(50, mu, sigma)"
   ]
  },
  {
   "cell_type": "code",
   "execution_count": null,
   "id": "55f111c8",
   "metadata": {},
   "outputs": [],
   "source": [
    "import matplotlib.pyplot as plt"
   ]
  },
  {
   "cell_type": "code",
   "execution_count": null,
   "id": "b099250b",
   "metadata": {},
   "outputs": [],
   "source": [
    "x = np.linspace(0, 100, 500)       \n",
    "\n",
    "pdf_values = norm.pdf(x, mu, sigma)"
   ]
  },
  {
   "cell_type": "code",
   "execution_count": null,
   "id": "02f7ab21",
   "metadata": {},
   "outputs": [],
   "source": [
    "plt.figure(figsize=(8,4))\n",
    "plt.plot(x, pdf_values, label = 'Customer_Satisfaction_Score', color = 'blue')\n",
    "\n",
    "\n",
    "plt.fill_between(x, pdf_values, where = (x<40), color = 'red', alpha = 0.05, label = 'X <40')\n",
    "\n",
    "plt.title('Customer_Satisfaction_Score')\n",
    "plt.xlabel('Figure 24: X<50')\n",
    "plt.ylabel('Probabilities of Customer_Satisfaction_Score')\n",
    "plt.grid(True)\n",
    "plt.show()"
   ]
  }
 ],
 "metadata": {
  "kernelspec": {
   "display_name": "Python 3 (ipykernel)",
   "language": "python",
   "name": "python3"
  },
  "language_info": {
   "codemirror_mode": {
    "name": "ipython",
    "version": 3
   },
   "file_extension": ".py",
   "mimetype": "text/x-python",
   "name": "python",
   "nbconvert_exporter": "python",
   "pygments_lexer": "ipython3",
   "version": "3.11.5"
  }
 },
 "nbformat": 4,
 "nbformat_minor": 5
}
