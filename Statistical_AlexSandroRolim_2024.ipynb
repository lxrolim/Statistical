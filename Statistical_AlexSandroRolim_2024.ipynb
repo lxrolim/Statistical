{
 "cells": [
  {
   "cell_type": "code",
   "execution_count": 1,
   "id": "8068c9b9",
   "metadata": {},
   "outputs": [],
   "source": [
    "import pandas as pd\n",
    "import statistics as stats\n",
    "import numpy as np\n",
    "import matplotlib.pyplot as plt\n",
    "import seaborn as sns\n",
    "import statistics as stats"
   ]
  },
  {
   "cell_type": "code",
   "execution_count": 2,
   "id": "910e2af1",
   "metadata": {},
   "outputs": [],
   "source": [
    "business_dataset = pd.read_csv('CA1_business_dataset.csv')"
   ]
  },
  {
   "cell_type": "code",
   "execution_count": 3,
   "id": "9f8f8ccd",
   "metadata": {},
   "outputs": [
    {
     "data": {
      "text/html": [
       "<div>\n",
       "<style scoped>\n",
       "    .dataframe tbody tr th:only-of-type {\n",
       "        vertical-align: middle;\n",
       "    }\n",
       "\n",
       "    .dataframe tbody tr th {\n",
       "        vertical-align: top;\n",
       "    }\n",
       "\n",
       "    .dataframe thead th {\n",
       "        text-align: right;\n",
       "    }\n",
       "</style>\n",
       "<table border=\"1\" class=\"dataframe\">\n",
       "  <thead>\n",
       "    <tr style=\"text-align: right;\">\n",
       "      <th></th>\n",
       "      <th>Customer Satisfaction Score</th>\n",
       "      <th>Response Time</th>\n",
       "      <th>Daily User Logins</th>\n",
       "      <th>Average Session Duration</th>\n",
       "      <th>Survey Response Rate</th>\n",
       "      <th>Transaction Amount</th>\n",
       "      <th>Product Rating</th>\n",
       "      <th>Preferred Communication Channel</th>\n",
       "      <th>Membership Status</th>\n",
       "      <th>Product Category Preference</th>\n",
       "      <th>...</th>\n",
       "      <th>Referral Count</th>\n",
       "      <th>Account Age</th>\n",
       "      <th>Feedback Score</th>\n",
       "      <th>Product Return Rate</th>\n",
       "      <th>Marketing Email Click Rate</th>\n",
       "      <th>Subscription Status</th>\n",
       "      <th>Product Upsell Success</th>\n",
       "      <th>Customer Segment Group</th>\n",
       "      <th>Interest in New Product</th>\n",
       "      <th>Income Level</th>\n",
       "    </tr>\n",
       "  </thead>\n",
       "  <tbody>\n",
       "    <tr>\n",
       "      <th>0</th>\n",
       "      <td>37</td>\n",
       "      <td>95.07</td>\n",
       "      <td>73</td>\n",
       "      <td>59.87</td>\n",
       "      <td>15.60</td>\n",
       "      <td>15.60</td>\n",
       "      <td>6</td>\n",
       "      <td>Email</td>\n",
       "      <td>Yes</td>\n",
       "      <td>Basic</td>\n",
       "      <td>...</td>\n",
       "      <td>18</td>\n",
       "      <td>30</td>\n",
       "      <td>52</td>\n",
       "      <td>Yes</td>\n",
       "      <td>29.12</td>\n",
       "      <td>1</td>\n",
       "      <td>1</td>\n",
       "      <td>C</td>\n",
       "      <td>No</td>\n",
       "      <td>High</td>\n",
       "    </tr>\n",
       "    <tr>\n",
       "      <th>1</th>\n",
       "      <td>79</td>\n",
       "      <td>19.97</td>\n",
       "      <td>51</td>\n",
       "      <td>59.24</td>\n",
       "      <td>4.65</td>\n",
       "      <td>60.75</td>\n",
       "      <td>17</td>\n",
       "      <td>Phone</td>\n",
       "      <td>Yes</td>\n",
       "      <td>Gold</td>\n",
       "      <td>...</td>\n",
       "      <td>12</td>\n",
       "      <td>50</td>\n",
       "      <td>3</td>\n",
       "      <td>No</td>\n",
       "      <td>25.88</td>\n",
       "      <td>1</td>\n",
       "      <td>1</td>\n",
       "      <td>C</td>\n",
       "      <td>No</td>\n",
       "      <td>Low</td>\n",
       "    </tr>\n",
       "    <tr>\n",
       "      <th>2</th>\n",
       "      <td>97</td>\n",
       "      <td>77.51</td>\n",
       "      <td>94</td>\n",
       "      <td>89.48</td>\n",
       "      <td>59.79</td>\n",
       "      <td>92.19</td>\n",
       "      <td>9</td>\n",
       "      <td>SMS</td>\n",
       "      <td>Yes</td>\n",
       "      <td>Platinum</td>\n",
       "      <td>...</td>\n",
       "      <td>54</td>\n",
       "      <td>14</td>\n",
       "      <td>80</td>\n",
       "      <td>Yes</td>\n",
       "      <td>98.69</td>\n",
       "      <td>1</td>\n",
       "      <td>1</td>\n",
       "      <td>C</td>\n",
       "      <td>No</td>\n",
       "      <td>Low</td>\n",
       "    </tr>\n",
       "    <tr>\n",
       "      <th>3</th>\n",
       "      <td>73</td>\n",
       "      <td>77.13</td>\n",
       "      <td>7</td>\n",
       "      <td>35.85</td>\n",
       "      <td>11.59</td>\n",
       "      <td>86.31</td>\n",
       "      <td>62</td>\n",
       "      <td>Email</td>\n",
       "      <td>Yes</td>\n",
       "      <td>Platinum</td>\n",
       "      <td>...</td>\n",
       "      <td>12</td>\n",
       "      <td>71</td>\n",
       "      <td>76</td>\n",
       "      <td>No</td>\n",
       "      <td>77.10</td>\n",
       "      <td>0</td>\n",
       "      <td>1</td>\n",
       "      <td>C</td>\n",
       "      <td>No</td>\n",
       "      <td>Low</td>\n",
       "    </tr>\n",
       "    <tr>\n",
       "      <th>4</th>\n",
       "      <td>3</td>\n",
       "      <td>63.64</td>\n",
       "      <td>31</td>\n",
       "      <td>50.86</td>\n",
       "      <td>90.76</td>\n",
       "      <td>24.93</td>\n",
       "      <td>41</td>\n",
       "      <td>Phone</td>\n",
       "      <td>Yes</td>\n",
       "      <td>Platinum</td>\n",
       "      <td>...</td>\n",
       "      <td>87</td>\n",
       "      <td>80</td>\n",
       "      <td>19</td>\n",
       "      <td>No</td>\n",
       "      <td>53.93</td>\n",
       "      <td>1</td>\n",
       "      <td>0</td>\n",
       "      <td>D</td>\n",
       "      <td>Yes</td>\n",
       "      <td>Medium</td>\n",
       "    </tr>\n",
       "    <tr>\n",
       "      <th>5</th>\n",
       "      <td>43</td>\n",
       "      <td>81.80</td>\n",
       "      <td>86</td>\n",
       "      <td>0.70</td>\n",
       "      <td>51.07</td>\n",
       "      <td>41.74</td>\n",
       "      <td>22</td>\n",
       "      <td>SMS</td>\n",
       "      <td>Yes</td>\n",
       "      <td>Gold</td>\n",
       "      <td>...</td>\n",
       "      <td>96</td>\n",
       "      <td>25</td>\n",
       "      <td>50</td>\n",
       "      <td>No</td>\n",
       "      <td>28.48</td>\n",
       "      <td>1</td>\n",
       "      <td>1</td>\n",
       "      <td>D</td>\n",
       "      <td>No</td>\n",
       "      <td>High</td>\n",
       "    </tr>\n",
       "    <tr>\n",
       "      <th>6</th>\n",
       "      <td>91</td>\n",
       "      <td>23.96</td>\n",
       "      <td>14</td>\n",
       "      <td>48.95</td>\n",
       "      <td>49.61</td>\n",
       "      <td>50.25</td>\n",
       "      <td>50</td>\n",
       "      <td>Email</td>\n",
       "      <td>Yes</td>\n",
       "      <td>Gold</td>\n",
       "      <td>...</td>\n",
       "      <td>84</td>\n",
       "      <td>32</td>\n",
       "      <td>19</td>\n",
       "      <td>No</td>\n",
       "      <td>59.09</td>\n",
       "      <td>0</td>\n",
       "      <td>1</td>\n",
       "      <td>B</td>\n",
       "      <td>Yes</td>\n",
       "      <td>Low</td>\n",
       "    </tr>\n",
       "    <tr>\n",
       "      <th>7</th>\n",
       "      <td>17</td>\n",
       "      <td>69.09</td>\n",
       "      <td>39</td>\n",
       "      <td>93.67</td>\n",
       "      <td>49.61</td>\n",
       "      <td>50.25</td>\n",
       "      <td>50</td>\n",
       "      <td>Phone</td>\n",
       "      <td>Yes</td>\n",
       "      <td>Platinum</td>\n",
       "      <td>...</td>\n",
       "      <td>9</td>\n",
       "      <td>90</td>\n",
       "      <td>90</td>\n",
       "      <td>No</td>\n",
       "      <td>33.90</td>\n",
       "      <td>1</td>\n",
       "      <td>0</td>\n",
       "      <td>C</td>\n",
       "      <td>Yes</td>\n",
       "      <td>Low</td>\n",
       "    </tr>\n",
       "    <tr>\n",
       "      <th>8</th>\n",
       "      <td>64</td>\n",
       "      <td>8.41</td>\n",
       "      <td>16</td>\n",
       "      <td>89.86</td>\n",
       "      <td>60.64</td>\n",
       "      <td>0.92</td>\n",
       "      <td>10</td>\n",
       "      <td>SMS</td>\n",
       "      <td>Yes</td>\n",
       "      <td>Basic</td>\n",
       "      <td>...</td>\n",
       "      <td>24</td>\n",
       "      <td>33</td>\n",
       "      <td>75</td>\n",
       "      <td>No</td>\n",
       "      <td>84.92</td>\n",
       "      <td>0</td>\n",
       "      <td>1</td>\n",
       "      <td>D</td>\n",
       "      <td>Yes</td>\n",
       "      <td>Medium</td>\n",
       "    </tr>\n",
       "    <tr>\n",
       "      <th>9</th>\n",
       "      <td>24</td>\n",
       "      <td>97.30</td>\n",
       "      <td>39</td>\n",
       "      <td>89.20</td>\n",
       "      <td>49.61</td>\n",
       "      <td>50.25</td>\n",
       "      <td>50</td>\n",
       "      <td>Email</td>\n",
       "      <td>Yes</td>\n",
       "      <td>Gold</td>\n",
       "      <td>...</td>\n",
       "      <td>94</td>\n",
       "      <td>95</td>\n",
       "      <td>91</td>\n",
       "      <td>No</td>\n",
       "      <td>1.55</td>\n",
       "      <td>1</td>\n",
       "      <td>0</td>\n",
       "      <td>B</td>\n",
       "      <td>Yes</td>\n",
       "      <td>Low</td>\n",
       "    </tr>\n",
       "  </tbody>\n",
       "</table>\n",
       "<p>10 rows × 25 columns</p>\n",
       "</div>"
      ],
      "text/plain": [
       "   Customer Satisfaction Score  Response Time  Daily User Logins  \\\n",
       "0                           37          95.07                 73   \n",
       "1                           79          19.97                 51   \n",
       "2                           97          77.51                 94   \n",
       "3                           73          77.13                  7   \n",
       "4                            3          63.64                 31   \n",
       "5                           43          81.80                 86   \n",
       "6                           91          23.96                 14   \n",
       "7                           17          69.09                 39   \n",
       "8                           64           8.41                 16   \n",
       "9                           24          97.30                 39   \n",
       "\n",
       "   Average Session Duration  Survey Response Rate  Transaction Amount  \\\n",
       "0                     59.87                 15.60               15.60   \n",
       "1                     59.24                  4.65               60.75   \n",
       "2                     89.48                 59.79               92.19   \n",
       "3                     35.85                 11.59               86.31   \n",
       "4                     50.86                 90.76               24.93   \n",
       "5                      0.70                 51.07               41.74   \n",
       "6                     48.95                 49.61               50.25   \n",
       "7                     93.67                 49.61               50.25   \n",
       "8                     89.86                 60.64                0.92   \n",
       "9                     89.20                 49.61               50.25   \n",
       "\n",
       "   Product Rating Preferred Communication Channel Membership Status  \\\n",
       "0               6                           Email               Yes   \n",
       "1              17                           Phone               Yes   \n",
       "2               9                             SMS               Yes   \n",
       "3              62                           Email               Yes   \n",
       "4              41                           Phone               Yes   \n",
       "5              22                             SMS               Yes   \n",
       "6              50                           Email               Yes   \n",
       "7              50                           Phone               Yes   \n",
       "8              10                             SMS               Yes   \n",
       "9              50                           Email               Yes   \n",
       "\n",
       "  Product Category Preference  ...  Referral Count  Account Age  \\\n",
       "0                       Basic  ...              18           30   \n",
       "1                        Gold  ...              12           50   \n",
       "2                    Platinum  ...              54           14   \n",
       "3                    Platinum  ...              12           71   \n",
       "4                    Platinum  ...              87           80   \n",
       "5                        Gold  ...              96           25   \n",
       "6                        Gold  ...              84           32   \n",
       "7                    Platinum  ...               9           90   \n",
       "8                       Basic  ...              24           33   \n",
       "9                        Gold  ...              94           95   \n",
       "\n",
       "   Feedback Score  Product Return Rate  Marketing Email Click Rate  \\\n",
       "0              52                  Yes                       29.12   \n",
       "1               3                   No                       25.88   \n",
       "2              80                  Yes                       98.69   \n",
       "3              76                   No                       77.10   \n",
       "4              19                   No                       53.93   \n",
       "5              50                   No                       28.48   \n",
       "6              19                   No                       59.09   \n",
       "7              90                   No                       33.90   \n",
       "8              75                   No                       84.92   \n",
       "9              91                   No                        1.55   \n",
       "\n",
       "   Subscription Status  Product Upsell Success  Customer Segment Group  \\\n",
       "0                    1                       1                       C   \n",
       "1                    1                       1                       C   \n",
       "2                    1                       1                       C   \n",
       "3                    0                       1                       C   \n",
       "4                    1                       0                       D   \n",
       "5                    1                       1                       D   \n",
       "6                    0                       1                       B   \n",
       "7                    1                       0                       C   \n",
       "8                    0                       1                       D   \n",
       "9                    1                       0                       B   \n",
       "\n",
       "  Interest in New Product  Income Level  \n",
       "0                      No          High  \n",
       "1                      No           Low  \n",
       "2                      No           Low  \n",
       "3                      No           Low  \n",
       "4                     Yes        Medium  \n",
       "5                      No          High  \n",
       "6                     Yes           Low  \n",
       "7                     Yes           Low  \n",
       "8                     Yes        Medium  \n",
       "9                     Yes           Low  \n",
       "\n",
       "[10 rows x 25 columns]"
      ]
     },
     "execution_count": 3,
     "metadata": {},
     "output_type": "execute_result"
    }
   ],
   "source": [
    "business_dataset.head(10)"
   ]
  },
  {
   "cell_type": "code",
   "execution_count": 4,
   "id": "688e6835",
   "metadata": {},
   "outputs": [
    {
     "data": {
      "text/html": [
       "<div>\n",
       "<style scoped>\n",
       "    .dataframe tbody tr th:only-of-type {\n",
       "        vertical-align: middle;\n",
       "    }\n",
       "\n",
       "    .dataframe tbody tr th {\n",
       "        vertical-align: top;\n",
       "    }\n",
       "\n",
       "    .dataframe thead th {\n",
       "        text-align: right;\n",
       "    }\n",
       "</style>\n",
       "<table border=\"1\" class=\"dataframe\">\n",
       "  <thead>\n",
       "    <tr style=\"text-align: right;\">\n",
       "      <th></th>\n",
       "      <th>Customer Satisfaction Score</th>\n",
       "      <th>Response Time</th>\n",
       "      <th>Daily User Logins</th>\n",
       "      <th>Average Session Duration</th>\n",
       "      <th>Survey Response Rate</th>\n",
       "      <th>Transaction Amount</th>\n",
       "      <th>Product Rating</th>\n",
       "      <th>Preferred Communication Channel</th>\n",
       "      <th>Membership Status</th>\n",
       "      <th>Product Category Preference</th>\n",
       "      <th>High-Value Purchase Count</th>\n",
       "      <th>Customer Support Calls</th>\n",
       "      <th>Website Click-Through Rate</th>\n",
       "      <th>Newsletter Open Rate</th>\n",
       "      <th>Social Media Engagement Score</th>\n",
       "      <th>Referral Count</th>\n",
       "      <th>Account Age</th>\n",
       "      <th>Feedback Score</th>\n",
       "      <th>Product Return Rate</th>\n",
       "      <th>Marketing Email Click Rate</th>\n",
       "      <th>Subscription Status</th>\n",
       "      <th>Product Upsell Success</th>\n",
       "      <th>Customer Segment Group</th>\n",
       "      <th>Interest in New Product</th>\n",
       "      <th>Income Level</th>\n",
       "    </tr>\n",
       "  </thead>\n",
       "  <tbody>\n",
       "    <tr>\n",
       "      <th>0</th>\n",
       "      <td>37</td>\n",
       "      <td>95.07</td>\n",
       "      <td>73</td>\n",
       "      <td>59.87</td>\n",
       "      <td>15.60</td>\n",
       "      <td>15.60</td>\n",
       "      <td>6</td>\n",
       "      <td>Email</td>\n",
       "      <td>Yes</td>\n",
       "      <td>Basic</td>\n",
       "      <td>2.06</td>\n",
       "      <td>96.99</td>\n",
       "      <td>83</td>\n",
       "      <td>21.2</td>\n",
       "      <td>18.18</td>\n",
       "      <td>18</td>\n",
       "      <td>30</td>\n",
       "      <td>52</td>\n",
       "      <td>Yes</td>\n",
       "      <td>29.12</td>\n",
       "      <td>1</td>\n",
       "      <td>1</td>\n",
       "      <td>C</td>\n",
       "      <td>No</td>\n",
       "      <td>High</td>\n",
       "    </tr>\n",
       "    <tr>\n",
       "      <th>1</th>\n",
       "      <td>79</td>\n",
       "      <td>19.97</td>\n",
       "      <td>51</td>\n",
       "      <td>59.24</td>\n",
       "      <td>4.65</td>\n",
       "      <td>60.75</td>\n",
       "      <td>17</td>\n",
       "      <td>Phone</td>\n",
       "      <td>Yes</td>\n",
       "      <td>Gold</td>\n",
       "      <td>80.84</td>\n",
       "      <td>30.46</td>\n",
       "      <td>10</td>\n",
       "      <td>68.4</td>\n",
       "      <td>44.02</td>\n",
       "      <td>12</td>\n",
       "      <td>50</td>\n",
       "      <td>3</td>\n",
       "      <td>No</td>\n",
       "      <td>25.88</td>\n",
       "      <td>1</td>\n",
       "      <td>1</td>\n",
       "      <td>C</td>\n",
       "      <td>No</td>\n",
       "      <td>Low</td>\n",
       "    </tr>\n",
       "    <tr>\n",
       "      <th>2</th>\n",
       "      <td>97</td>\n",
       "      <td>77.51</td>\n",
       "      <td>94</td>\n",
       "      <td>89.48</td>\n",
       "      <td>59.79</td>\n",
       "      <td>92.19</td>\n",
       "      <td>9</td>\n",
       "      <td>SMS</td>\n",
       "      <td>Yes</td>\n",
       "      <td>Platinum</td>\n",
       "      <td>38.87</td>\n",
       "      <td>27.13</td>\n",
       "      <td>83</td>\n",
       "      <td>35.7</td>\n",
       "      <td>28.09</td>\n",
       "      <td>54</td>\n",
       "      <td>14</td>\n",
       "      <td>80</td>\n",
       "      <td>Yes</td>\n",
       "      <td>98.69</td>\n",
       "      <td>1</td>\n",
       "      <td>1</td>\n",
       "      <td>C</td>\n",
       "      <td>No</td>\n",
       "      <td>Low</td>\n",
       "    </tr>\n",
       "    <tr>\n",
       "      <th>3</th>\n",
       "      <td>73</td>\n",
       "      <td>77.13</td>\n",
       "      <td>7</td>\n",
       "      <td>35.85</td>\n",
       "      <td>11.59</td>\n",
       "      <td>86.31</td>\n",
       "      <td>62</td>\n",
       "      <td>Email</td>\n",
       "      <td>Yes</td>\n",
       "      <td>Platinum</td>\n",
       "      <td>32.52</td>\n",
       "      <td>72.96</td>\n",
       "      <td>64</td>\n",
       "      <td>88.7</td>\n",
       "      <td>47.22</td>\n",
       "      <td>12</td>\n",
       "      <td>71</td>\n",
       "      <td>76</td>\n",
       "      <td>No</td>\n",
       "      <td>77.10</td>\n",
       "      <td>0</td>\n",
       "      <td>1</td>\n",
       "      <td>C</td>\n",
       "      <td>No</td>\n",
       "      <td>Low</td>\n",
       "    </tr>\n",
       "    <tr>\n",
       "      <th>4</th>\n",
       "      <td>3</td>\n",
       "      <td>63.64</td>\n",
       "      <td>31</td>\n",
       "      <td>50.86</td>\n",
       "      <td>90.76</td>\n",
       "      <td>24.93</td>\n",
       "      <td>41</td>\n",
       "      <td>Phone</td>\n",
       "      <td>Yes</td>\n",
       "      <td>Platinum</td>\n",
       "      <td>28.98</td>\n",
       "      <td>16.12</td>\n",
       "      <td>93</td>\n",
       "      <td>80.8</td>\n",
       "      <td>63.34</td>\n",
       "      <td>87</td>\n",
       "      <td>80</td>\n",
       "      <td>19</td>\n",
       "      <td>No</td>\n",
       "      <td>53.93</td>\n",
       "      <td>1</td>\n",
       "      <td>0</td>\n",
       "      <td>D</td>\n",
       "      <td>Yes</td>\n",
       "      <td>Medium</td>\n",
       "    </tr>\n",
       "  </tbody>\n",
       "</table>\n",
       "</div>"
      ],
      "text/plain": [
       "   Customer Satisfaction Score  Response Time  Daily User Logins  \\\n",
       "0                           37          95.07                 73   \n",
       "1                           79          19.97                 51   \n",
       "2                           97          77.51                 94   \n",
       "3                           73          77.13                  7   \n",
       "4                            3          63.64                 31   \n",
       "\n",
       "   Average Session Duration  Survey Response Rate  Transaction Amount  \\\n",
       "0                     59.87                 15.60               15.60   \n",
       "1                     59.24                  4.65               60.75   \n",
       "2                     89.48                 59.79               92.19   \n",
       "3                     35.85                 11.59               86.31   \n",
       "4                     50.86                 90.76               24.93   \n",
       "\n",
       "   Product Rating Preferred Communication Channel Membership Status  \\\n",
       "0               6                           Email               Yes   \n",
       "1              17                           Phone               Yes   \n",
       "2               9                             SMS               Yes   \n",
       "3              62                           Email               Yes   \n",
       "4              41                           Phone               Yes   \n",
       "\n",
       "  Product Category Preference  High-Value Purchase Count  \\\n",
       "0                       Basic                       2.06   \n",
       "1                        Gold                      80.84   \n",
       "2                    Platinum                      38.87   \n",
       "3                    Platinum                      32.52   \n",
       "4                    Platinum                      28.98   \n",
       "\n",
       "   Customer Support Calls  Website Click-Through Rate  Newsletter Open Rate  \\\n",
       "0                   96.99                          83                  21.2   \n",
       "1                   30.46                          10                  68.4   \n",
       "2                   27.13                          83                  35.7   \n",
       "3                   72.96                          64                  88.7   \n",
       "4                   16.12                          93                  80.8   \n",
       "\n",
       "   Social Media Engagement Score  Referral Count  Account Age  Feedback Score  \\\n",
       "0                          18.18              18           30              52   \n",
       "1                          44.02              12           50               3   \n",
       "2                          28.09              54           14              80   \n",
       "3                          47.22              12           71              76   \n",
       "4                          63.34              87           80              19   \n",
       "\n",
       "  Product Return Rate  Marketing Email Click Rate  Subscription Status  \\\n",
       "0                 Yes                       29.12                    1   \n",
       "1                  No                       25.88                    1   \n",
       "2                 Yes                       98.69                    1   \n",
       "3                  No                       77.10                    0   \n",
       "4                  No                       53.93                    1   \n",
       "\n",
       "   Product Upsell Success Customer Segment Group Interest in New Product  \\\n",
       "0                       1                      C                      No   \n",
       "1                       1                      C                      No   \n",
       "2                       1                      C                      No   \n",
       "3                       1                      C                      No   \n",
       "4                       0                      D                     Yes   \n",
       "\n",
       "  Income Level  \n",
       "0         High  \n",
       "1          Low  \n",
       "2          Low  \n",
       "3          Low  \n",
       "4       Medium  "
      ]
     },
     "execution_count": 4,
     "metadata": {},
     "output_type": "execute_result"
    }
   ],
   "source": [
    "pd.set_option('display.max_columns', None)\n",
    "business_dataset.head()"
   ]
  },
  {
   "cell_type": "markdown",
   "id": "19cdf281",
   "metadata": {},
   "source": [
    "### First of all, it needs rename to header because there are some space and special chacarcters between the words which could happen to be unable to return some functions:"
   ]
  },
  {
   "cell_type": "code",
   "execution_count": 5,
   "id": "5c88e56f",
   "metadata": {},
   "outputs": [],
   "source": [
    "business_dataset.rename(columns={\"Customer Satisfaction Score\": \"Customer_Satisfaction_Score\"}, inplace=True)\n",
    "business_dataset.rename(columns={\"Survey Response Rate\": \"Survey_Response_Rate\"}, inplace=True)\n",
    "business_dataset.rename(columns={\"Transaction Amount\": \"Transaction_Amount\"}, inplace=True)\n",
    "business_dataset.rename(columns={\"Product Rating\": \"Product_Rating\"}, inplace=True)\n",
    "business_dataset.rename(columns={\"Product Category Preference\": \"Product_Category_Preference\"}, inplace=True)\n",
    "business_dataset.rename(columns={\"High-Value Purchase Count\": \"High_Value_Purchase_Count\"}, inplace=True)\n",
    "business_dataset.rename(columns={\"Website Click-Through Rate\": \"Website_Click_Through_Rate\"}, inplace=True)\n",
    "business_dataset.rename(columns={\"Transaction Amount\": \"Transaction_Amount\"}, inplace=True)\n",
    "business_dataset.rename(columns={\"Marketing Email Click Rate\": \"Marketing_Email_Click_Rate\"}, inplace=True)\n",
    "business_dataset.rename(columns={\"Social Media Engagement Score\": \"Social_Media_Engagement_Score\"}, inplace=True)\n",
    "business_dataset.rename(columns={\"Product Upsell Success\": \"Product_Upsell_Success\"}, inplace=True)\n",
    "business_dataset.rename(columns={\"Social Media Engagement Score\": \"Social_Media_Engagement_Score\"}, inplace=True)\n",
    "business_dataset.rename(columns={\"Website Click Through Rate\": \"Website_Click_Through_Rate\"}, inplace=True)\n",
    "business_dataset.rename(columns={\"Product Return Rate\": \"Product_Return_Rate\"}, inplace=True)\n",
    "business_dataset.rename(columns={\"Feedback Score\": \"Feedback_Score\"}, inplace=True)\n",
    "business_dataset.rename(columns={\"Interest in New Product\": \"Interest_in_New_Product\"}, inplace=True)\n",
    "business_dataset.rename(columns={\"Customer Segment Group\": \"Customer_Segment_Group\"}, inplace=True)\n",
    "business_dataset.rename(columns={\"Income Level\": \"Income_Level\"}, inplace=True)\n",
    "business_dataset.rename(columns={\"Subscription Status\": \"Subscription_Status\"}, inplace=True)\n",
    "business_dataset.rename(columns={\"Customer Age\": \"Customer_Age\"}, inplace=True)"
   ]
  },
  {
   "cell_type": "code",
   "execution_count": 6,
   "id": "64886708",
   "metadata": {},
   "outputs": [
    {
     "name": "stdout",
     "output_type": "stream",
     "text": [
      "<class 'pandas.core.frame.DataFrame'>\n",
      "RangeIndex: 8000 entries, 0 to 7999\n",
      "Data columns (total 25 columns):\n",
      " #   Column                           Non-Null Count  Dtype  \n",
      "---  ------                           --------------  -----  \n",
      " 0   Customer_Satisfaction_Score      8000 non-null   int64  \n",
      " 1   Response Time                    8000 non-null   float64\n",
      " 2   Daily User Logins                8000 non-null   int64  \n",
      " 3   Average Session Duration         8000 non-null   float64\n",
      " 4   Survey_Response_Rate             8000 non-null   float64\n",
      " 5   Transaction_Amount               8000 non-null   float64\n",
      " 6   Product_Rating                   8000 non-null   int64  \n",
      " 7   Preferred Communication Channel  8000 non-null   object \n",
      " 8   Membership Status                8000 non-null   object \n",
      " 9   Product_Category_Preference      8000 non-null   object \n",
      " 10  High_Value_Purchase_Count        8000 non-null   float64\n",
      " 11  Customer Support Calls           8000 non-null   float64\n",
      " 12  Website_Click_Through_Rate       8000 non-null   int64  \n",
      " 13  Newsletter Open Rate             8000 non-null   float64\n",
      " 14  Social_Media_Engagement_Score    8000 non-null   float64\n",
      " 15  Referral Count                   8000 non-null   int64  \n",
      " 16  Account Age                      8000 non-null   int64  \n",
      " 17  Feedback_Score                   8000 non-null   int64  \n",
      " 18  Product_Return_Rate              8000 non-null   object \n",
      " 19  Marketing_Email_Click_Rate       8000 non-null   float64\n",
      " 20  Subscription_Status              8000 non-null   int64  \n",
      " 21  Product_Upsell_Success           8000 non-null   int64  \n",
      " 22  Customer_Segment_Group           8000 non-null   object \n",
      " 23  Interest_in_New_Product          8000 non-null   object \n",
      " 24  Income_Level                     8000 non-null   object \n",
      "dtypes: float64(9), int64(9), object(7)\n",
      "memory usage: 1.5+ MB\n"
     ]
    }
   ],
   "source": [
    "business_dataset.info()"
   ]
  },
  {
   "cell_type": "code",
   "execution_count": 7,
   "id": "c8a8e22e",
   "metadata": {},
   "outputs": [
    {
     "data": {
      "text/plain": [
       "(8000, 25)"
      ]
     },
     "execution_count": 7,
     "metadata": {},
     "output_type": "execute_result"
    }
   ],
   "source": [
    "business_dataset.shape"
   ]
  },
  {
   "cell_type": "code",
   "execution_count": 8,
   "id": "b85ff984",
   "metadata": {},
   "outputs": [
    {
     "data": {
      "text/plain": [
       "Customer_Satisfaction_Score        0\n",
       "Response Time                      0\n",
       "Daily User Logins                  0\n",
       "Average Session Duration           0\n",
       "Survey_Response_Rate               0\n",
       "Transaction_Amount                 0\n",
       "Product_Rating                     0\n",
       "Preferred Communication Channel    0\n",
       "Membership Status                  0\n",
       "Product_Category_Preference        0\n",
       "High_Value_Purchase_Count          0\n",
       "Customer Support Calls             0\n",
       "Website_Click_Through_Rate         0\n",
       "Newsletter Open Rate               0\n",
       "Social_Media_Engagement_Score      0\n",
       "Referral Count                     0\n",
       "Account Age                        0\n",
       "Feedback_Score                     0\n",
       "Product_Return_Rate                0\n",
       "Marketing_Email_Click_Rate         0\n",
       "Subscription_Status                0\n",
       "Product_Upsell_Success             0\n",
       "Customer_Segment_Group             0\n",
       "Interest_in_New_Product            0\n",
       "Income_Level                       0\n",
       "dtype: int64"
      ]
     },
     "execution_count": 8,
     "metadata": {},
     "output_type": "execute_result"
    }
   ],
   "source": [
    "business_dataset.isnull().sum()"
   ]
  },
  {
   "cell_type": "code",
   "execution_count": 9,
   "id": "5fc59d98",
   "metadata": {
    "scrolled": false
   },
   "outputs": [
    {
     "data": {
      "text/html": [
       "<div>\n",
       "<style scoped>\n",
       "    .dataframe tbody tr th:only-of-type {\n",
       "        vertical-align: middle;\n",
       "    }\n",
       "\n",
       "    .dataframe tbody tr th {\n",
       "        vertical-align: top;\n",
       "    }\n",
       "\n",
       "    .dataframe thead th {\n",
       "        text-align: right;\n",
       "    }\n",
       "</style>\n",
       "<table border=\"1\" class=\"dataframe\">\n",
       "  <thead>\n",
       "    <tr style=\"text-align: right;\">\n",
       "      <th></th>\n",
       "      <th>Customer_Satisfaction_Score</th>\n",
       "      <th>Response Time</th>\n",
       "      <th>Daily User Logins</th>\n",
       "      <th>Average Session Duration</th>\n",
       "      <th>Survey_Response_Rate</th>\n",
       "      <th>Transaction_Amount</th>\n",
       "      <th>Product_Rating</th>\n",
       "      <th>High_Value_Purchase_Count</th>\n",
       "      <th>Customer Support Calls</th>\n",
       "      <th>Website_Click_Through_Rate</th>\n",
       "      <th>Newsletter Open Rate</th>\n",
       "      <th>Social_Media_Engagement_Score</th>\n",
       "      <th>Referral Count</th>\n",
       "      <th>Account Age</th>\n",
       "      <th>Feedback_Score</th>\n",
       "      <th>Marketing_Email_Click_Rate</th>\n",
       "      <th>Subscription_Status</th>\n",
       "      <th>Product_Upsell_Success</th>\n",
       "    </tr>\n",
       "  </thead>\n",
       "  <tbody>\n",
       "    <tr>\n",
       "      <th>count</th>\n",
       "      <td>8000.000000</td>\n",
       "      <td>8000.000000</td>\n",
       "      <td>8000.000000</td>\n",
       "      <td>8000.000000</td>\n",
       "      <td>8000.00000</td>\n",
       "      <td>8000.000000</td>\n",
       "      <td>8000.000000</td>\n",
       "      <td>8000.000000</td>\n",
       "      <td>8000.000000</td>\n",
       "      <td>8000.000000</td>\n",
       "      <td>8000.000000</td>\n",
       "      <td>8000.000000</td>\n",
       "      <td>8000.000000</td>\n",
       "      <td>8000.000000</td>\n",
       "      <td>8000.000000</td>\n",
       "      <td>8000.000000</td>\n",
       "      <td>8000.000000</td>\n",
       "      <td>8000.000000</td>\n",
       "    </tr>\n",
       "    <tr>\n",
       "      <th>mean</th>\n",
       "      <td>50.212000</td>\n",
       "      <td>49.856590</td>\n",
       "      <td>49.740750</td>\n",
       "      <td>50.498271</td>\n",
       "      <td>49.68128</td>\n",
       "      <td>50.281659</td>\n",
       "      <td>50.019625</td>\n",
       "      <td>57.124342</td>\n",
       "      <td>55.031480</td>\n",
       "      <td>56.785875</td>\n",
       "      <td>49.759737</td>\n",
       "      <td>50.521145</td>\n",
       "      <td>50.293250</td>\n",
       "      <td>49.403375</td>\n",
       "      <td>50.778125</td>\n",
       "      <td>49.413815</td>\n",
       "      <td>0.498250</td>\n",
       "      <td>0.497125</td>\n",
       "    </tr>\n",
       "    <tr>\n",
       "      <th>std</th>\n",
       "      <td>28.984204</td>\n",
       "      <td>28.890059</td>\n",
       "      <td>29.022191</td>\n",
       "      <td>28.828823</td>\n",
       "      <td>27.56277</td>\n",
       "      <td>27.280464</td>\n",
       "      <td>27.319000</td>\n",
       "      <td>85.944626</td>\n",
       "      <td>68.540857</td>\n",
       "      <td>81.386384</td>\n",
       "      <td>28.961474</td>\n",
       "      <td>28.759969</td>\n",
       "      <td>29.009579</td>\n",
       "      <td>28.566946</td>\n",
       "      <td>28.873026</td>\n",
       "      <td>28.729436</td>\n",
       "      <td>0.500028</td>\n",
       "      <td>0.500023</td>\n",
       "    </tr>\n",
       "    <tr>\n",
       "      <th>min</th>\n",
       "      <td>0.000000</td>\n",
       "      <td>0.000000</td>\n",
       "      <td>0.000000</td>\n",
       "      <td>0.010000</td>\n",
       "      <td>0.01000</td>\n",
       "      <td>0.010000</td>\n",
       "      <td>0.000000</td>\n",
       "      <td>0.000000</td>\n",
       "      <td>0.000000</td>\n",
       "      <td>0.000000</td>\n",
       "      <td>0.000000</td>\n",
       "      <td>0.000000</td>\n",
       "      <td>0.000000</td>\n",
       "      <td>0.000000</td>\n",
       "      <td>0.000000</td>\n",
       "      <td>0.010000</td>\n",
       "      <td>0.000000</td>\n",
       "      <td>0.000000</td>\n",
       "    </tr>\n",
       "    <tr>\n",
       "      <th>25%</th>\n",
       "      <td>25.000000</td>\n",
       "      <td>24.847500</td>\n",
       "      <td>24.750000</td>\n",
       "      <td>25.460000</td>\n",
       "      <td>26.59000</td>\n",
       "      <td>28.267500</td>\n",
       "      <td>28.000000</td>\n",
       "      <td>25.565000</td>\n",
       "      <td>24.817500</td>\n",
       "      <td>26.000000</td>\n",
       "      <td>24.400000</td>\n",
       "      <td>25.430000</td>\n",
       "      <td>25.000000</td>\n",
       "      <td>25.000000</td>\n",
       "      <td>26.000000</td>\n",
       "      <td>24.425000</td>\n",
       "      <td>0.000000</td>\n",
       "      <td>0.000000</td>\n",
       "    </tr>\n",
       "    <tr>\n",
       "      <th>50%</th>\n",
       "      <td>51.000000</td>\n",
       "      <td>49.705000</td>\n",
       "      <td>50.000000</td>\n",
       "      <td>51.000000</td>\n",
       "      <td>49.61000</td>\n",
       "      <td>50.250000</td>\n",
       "      <td>50.000000</td>\n",
       "      <td>50.765000</td>\n",
       "      <td>50.270000</td>\n",
       "      <td>51.000000</td>\n",
       "      <td>49.600000</td>\n",
       "      <td>50.705000</td>\n",
       "      <td>50.000000</td>\n",
       "      <td>49.000000</td>\n",
       "      <td>51.000000</td>\n",
       "      <td>49.345000</td>\n",
       "      <td>0.000000</td>\n",
       "      <td>0.000000</td>\n",
       "    </tr>\n",
       "    <tr>\n",
       "      <th>75%</th>\n",
       "      <td>76.000000</td>\n",
       "      <td>74.715000</td>\n",
       "      <td>75.000000</td>\n",
       "      <td>75.390000</td>\n",
       "      <td>72.35500</td>\n",
       "      <td>72.532500</td>\n",
       "      <td>72.000000</td>\n",
       "      <td>75.650000</td>\n",
       "      <td>76.012500</td>\n",
       "      <td>76.000000</td>\n",
       "      <td>74.900000</td>\n",
       "      <td>75.480000</td>\n",
       "      <td>76.000000</td>\n",
       "      <td>74.000000</td>\n",
       "      <td>76.000000</td>\n",
       "      <td>73.675000</td>\n",
       "      <td>1.000000</td>\n",
       "      <td>1.000000</td>\n",
       "    </tr>\n",
       "    <tr>\n",
       "      <th>max</th>\n",
       "      <td>100.000000</td>\n",
       "      <td>100.000000</td>\n",
       "      <td>100.000000</td>\n",
       "      <td>99.990000</td>\n",
       "      <td>100.00000</td>\n",
       "      <td>99.970000</td>\n",
       "      <td>100.000000</td>\n",
       "      <td>1476.420000</td>\n",
       "      <td>1179.480000</td>\n",
       "      <td>1297.000000</td>\n",
       "      <td>100.000000</td>\n",
       "      <td>100.000000</td>\n",
       "      <td>100.000000</td>\n",
       "      <td>100.000000</td>\n",
       "      <td>100.000000</td>\n",
       "      <td>99.970000</td>\n",
       "      <td>1.000000</td>\n",
       "      <td>1.000000</td>\n",
       "    </tr>\n",
       "  </tbody>\n",
       "</table>\n",
       "</div>"
      ],
      "text/plain": [
       "       Customer_Satisfaction_Score  Response Time  Daily User Logins  \\\n",
       "count                  8000.000000    8000.000000        8000.000000   \n",
       "mean                     50.212000      49.856590          49.740750   \n",
       "std                      28.984204      28.890059          29.022191   \n",
       "min                       0.000000       0.000000           0.000000   \n",
       "25%                      25.000000      24.847500          24.750000   \n",
       "50%                      51.000000      49.705000          50.000000   \n",
       "75%                      76.000000      74.715000          75.000000   \n",
       "max                     100.000000     100.000000         100.000000   \n",
       "\n",
       "       Average Session Duration  Survey_Response_Rate  Transaction_Amount  \\\n",
       "count               8000.000000            8000.00000         8000.000000   \n",
       "mean                  50.498271              49.68128           50.281659   \n",
       "std                   28.828823              27.56277           27.280464   \n",
       "min                    0.010000               0.01000            0.010000   \n",
       "25%                   25.460000              26.59000           28.267500   \n",
       "50%                   51.000000              49.61000           50.250000   \n",
       "75%                   75.390000              72.35500           72.532500   \n",
       "max                   99.990000             100.00000           99.970000   \n",
       "\n",
       "       Product_Rating  High_Value_Purchase_Count  Customer Support Calls  \\\n",
       "count     8000.000000                8000.000000             8000.000000   \n",
       "mean        50.019625                  57.124342               55.031480   \n",
       "std         27.319000                  85.944626               68.540857   \n",
       "min          0.000000                   0.000000                0.000000   \n",
       "25%         28.000000                  25.565000               24.817500   \n",
       "50%         50.000000                  50.765000               50.270000   \n",
       "75%         72.000000                  75.650000               76.012500   \n",
       "max        100.000000                1476.420000             1179.480000   \n",
       "\n",
       "       Website_Click_Through_Rate  Newsletter Open Rate  \\\n",
       "count                 8000.000000           8000.000000   \n",
       "mean                    56.785875             49.759737   \n",
       "std                     81.386384             28.961474   \n",
       "min                      0.000000              0.000000   \n",
       "25%                     26.000000             24.400000   \n",
       "50%                     51.000000             49.600000   \n",
       "75%                     76.000000             74.900000   \n",
       "max                   1297.000000            100.000000   \n",
       "\n",
       "       Social_Media_Engagement_Score  Referral Count  Account Age  \\\n",
       "count                    8000.000000     8000.000000  8000.000000   \n",
       "mean                       50.521145       50.293250    49.403375   \n",
       "std                        28.759969       29.009579    28.566946   \n",
       "min                         0.000000        0.000000     0.000000   \n",
       "25%                        25.430000       25.000000    25.000000   \n",
       "50%                        50.705000       50.000000    49.000000   \n",
       "75%                        75.480000       76.000000    74.000000   \n",
       "max                       100.000000      100.000000   100.000000   \n",
       "\n",
       "       Feedback_Score  Marketing_Email_Click_Rate  Subscription_Status  \\\n",
       "count     8000.000000                 8000.000000          8000.000000   \n",
       "mean        50.778125                   49.413815             0.498250   \n",
       "std         28.873026                   28.729436             0.500028   \n",
       "min          0.000000                    0.010000             0.000000   \n",
       "25%         26.000000                   24.425000             0.000000   \n",
       "50%         51.000000                   49.345000             0.000000   \n",
       "75%         76.000000                   73.675000             1.000000   \n",
       "max        100.000000                   99.970000             1.000000   \n",
       "\n",
       "       Product_Upsell_Success  \n",
       "count             8000.000000  \n",
       "mean                 0.497125  \n",
       "std                  0.500023  \n",
       "min                  0.000000  \n",
       "25%                  0.000000  \n",
       "50%                  0.000000  \n",
       "75%                  1.000000  \n",
       "max                  1.000000  "
      ]
     },
     "execution_count": 9,
     "metadata": {},
     "output_type": "execute_result"
    }
   ],
   "source": [
    "business_dataset.describe()"
   ]
  },
  {
   "cell_type": "markdown",
   "id": "be20ec63",
   "metadata": {},
   "source": [
    "## Task 1 and 2:"
   ]
  },
  {
   "cell_type": "markdown",
   "id": "f0143e0b",
   "metadata": {},
   "source": [
    "Before starting properly replying the questions it was observed through the function isnull it has been checked for any missing values, which returned False, what indicates that has not missing values on these features selected on it."
   ]
  },
  {
   "cell_type": "markdown",
   "id": "244a788c",
   "metadata": {},
   "source": [
    "## Purchase Frequency:\n",
    "transactions amount(Numerical), Product Category Preference(categorical), High Value Purchase Count(Numerical), Customer_Segment_Group(object)"
   ]
  },
  {
   "cell_type": "markdown",
   "id": "a5a8413c",
   "metadata": {},
   "source": [
    "## Campaign Response Rate: \n",
    "Marketing Email Click Rate(Numerical), Social Media Engagement Score(continuous numerical), Product Upsell Success(binary numerical), Interest in New Product (Binary categorical)         "
   ]
  },
  {
   "cell_type": "markdown",
   "id": "b32889df",
   "metadata": {},
   "source": [
    "## Customer Feedback Score: \n",
    "Product Rating, Feedback Score(Numerical), Social Media Engagement Score, Website Click Through Rate(Numerical), Product Return Rate(numerical)"
   ]
  },
  {
   "cell_type": "markdown",
   "id": "9b9065bf",
   "metadata": {},
   "source": [
    "## Purchase Frequency:\n",
    "\n",
    "transactions amount(Numerical), Product Category Preference(categorical), High Value Purchase Count(Numerical), Customer_Segment_Group(object)"
   ]
  },
  {
   "cell_type": "code",
   "execution_count": 10,
   "id": "23d266c6",
   "metadata": {},
   "outputs": [
    {
     "data": {
      "text/html": [
       "<div>\n",
       "<style scoped>\n",
       "    .dataframe tbody tr th:only-of-type {\n",
       "        vertical-align: middle;\n",
       "    }\n",
       "\n",
       "    .dataframe tbody tr th {\n",
       "        vertical-align: top;\n",
       "    }\n",
       "\n",
       "    .dataframe thead th {\n",
       "        text-align: right;\n",
       "    }\n",
       "</style>\n",
       "<table border=\"1\" class=\"dataframe\">\n",
       "  <thead>\n",
       "    <tr style=\"text-align: right;\">\n",
       "      <th></th>\n",
       "      <th>Transaction_Amount</th>\n",
       "      <th>High_Value_Purchase_Count</th>\n",
       "    </tr>\n",
       "  </thead>\n",
       "  <tbody>\n",
       "    <tr>\n",
       "      <th>count</th>\n",
       "      <td>8000.000000</td>\n",
       "      <td>8000.000000</td>\n",
       "    </tr>\n",
       "    <tr>\n",
       "      <th>mean</th>\n",
       "      <td>50.281659</td>\n",
       "      <td>57.124342</td>\n",
       "    </tr>\n",
       "    <tr>\n",
       "      <th>std</th>\n",
       "      <td>27.280464</td>\n",
       "      <td>85.944626</td>\n",
       "    </tr>\n",
       "    <tr>\n",
       "      <th>min</th>\n",
       "      <td>0.010000</td>\n",
       "      <td>0.000000</td>\n",
       "    </tr>\n",
       "    <tr>\n",
       "      <th>25%</th>\n",
       "      <td>28.267500</td>\n",
       "      <td>25.565000</td>\n",
       "    </tr>\n",
       "    <tr>\n",
       "      <th>50%</th>\n",
       "      <td>50.250000</td>\n",
       "      <td>50.765000</td>\n",
       "    </tr>\n",
       "    <tr>\n",
       "      <th>75%</th>\n",
       "      <td>72.532500</td>\n",
       "      <td>75.650000</td>\n",
       "    </tr>\n",
       "    <tr>\n",
       "      <th>max</th>\n",
       "      <td>99.970000</td>\n",
       "      <td>1476.420000</td>\n",
       "    </tr>\n",
       "  </tbody>\n",
       "</table>\n",
       "</div>"
      ],
      "text/plain": [
       "       Transaction_Amount  High_Value_Purchase_Count\n",
       "count         8000.000000                8000.000000\n",
       "mean            50.281659                  57.124342\n",
       "std             27.280464                  85.944626\n",
       "min              0.010000                   0.000000\n",
       "25%             28.267500                  25.565000\n",
       "50%             50.250000                  50.765000\n",
       "75%             72.532500                  75.650000\n",
       "max             99.970000                1476.420000"
      ]
     },
     "execution_count": 10,
     "metadata": {},
     "output_type": "execute_result"
    }
   ],
   "source": [
    "bd_features=business_dataset[['Transaction_Amount', 'Product_Category_Preference', 'High_Value_Purchase_Count']]\n",
    "bd_features.describe()"
   ]
  },
  {
   "cell_type": "code",
   "execution_count": 11,
   "id": "08d9b9a3",
   "metadata": {},
   "outputs": [
    {
     "data": {
      "text/plain": [
       "array([15.6 , 60.75, 92.19, ..., 97.67, 78.26, 65.48])"
      ]
     },
     "execution_count": 11,
     "metadata": {},
     "output_type": "execute_result"
    }
   ],
   "source": [
    "business_dataset['Transaction_Amount'].unique()"
   ]
  },
  {
   "cell_type": "code",
   "execution_count": 12,
   "id": "dbc4c7ab",
   "metadata": {},
   "outputs": [
    {
     "data": {
      "text/plain": [
       "False"
      ]
     },
     "execution_count": 12,
     "metadata": {},
     "output_type": "execute_result"
    }
   ],
   "source": [
    "zero_exist = (business_dataset['Transaction_Amount'] == 0).any()\n",
    "zero_exist"
   ]
  },
  {
   "cell_type": "code",
   "execution_count": 13,
   "id": "f4a7b343",
   "metadata": {},
   "outputs": [],
   "source": [
    "business_dataset_mean_transaction = business_dataset['Transaction_Amount'].mean()"
   ]
  },
  {
   "cell_type": "code",
   "execution_count": 14,
   "id": "74c2a0a1",
   "metadata": {},
   "outputs": [],
   "source": [
    "business_dataset['Transaction_Amount'] = business_dataset['Transaction_Amount'].replace(0, business_dataset_mean_transaction)"
   ]
  },
  {
   "cell_type": "code",
   "execution_count": 15,
   "id": "6064c2a8",
   "metadata": {},
   "outputs": [
    {
     "data": {
      "text/plain": [
       "Transaction_Amount\n",
       "50.25    801\n",
       "17.72      7\n",
       "36.26      6\n",
       "9.90       6\n",
       "93.15      6\n",
       "        ... \n",
       "51.78      1\n",
       "25.19      1\n",
       "36.16      1\n",
       "59.01      1\n",
       "65.48      1\n",
       "Name: count, Length: 5156, dtype: int64"
      ]
     },
     "execution_count": 15,
     "metadata": {},
     "output_type": "execute_result"
    }
   ],
   "source": [
    "value_counts = business_dataset['Transaction_Amount'].value_counts()\n",
    "value_counts"
   ]
  },
  {
   "cell_type": "code",
   "execution_count": 16,
   "id": "74c374fb",
   "metadata": {},
   "outputs": [
    {
     "data": {
      "text/plain": [
       "Transaction_Amount\n",
       "50.25    0.100125\n",
       "17.72    0.000875\n",
       "36.26    0.000750\n",
       "9.90     0.000750\n",
       "93.15    0.000750\n",
       "           ...   \n",
       "51.78    0.000125\n",
       "25.19    0.000125\n",
       "36.16    0.000125\n",
       "59.01    0.000125\n",
       "65.48    0.000125\n",
       "Name: count, Length: 5156, dtype: float64"
      ]
     },
     "execution_count": 16,
     "metadata": {},
     "output_type": "execute_result"
    }
   ],
   "source": [
    "relative_frequencies = value_counts/len(business_dataset)    #length\n",
    "relative_frequencies"
   ]
  },
  {
   "cell_type": "markdown",
   "id": "5f06f807",
   "metadata": {},
   "source": [
    "### Product_Category_Preference"
   ]
  },
  {
   "cell_type": "code",
   "execution_count": 17,
   "id": "6af8a3a8",
   "metadata": {},
   "outputs": [
    {
     "data": {
      "text/plain": [
       "Product_Category_Preference\n",
       "Gold        3162\n",
       "Platinum    2783\n",
       "Basic       2055\n",
       "Name: count, dtype: int64"
      ]
     },
     "execution_count": 17,
     "metadata": {},
     "output_type": "execute_result"
    }
   ],
   "source": [
    "value_counts1 = business_dataset['Product_Category_Preference'].value_counts()\n",
    "value_counts1"
   ]
  },
  {
   "cell_type": "code",
   "execution_count": 18,
   "id": "fbb35e63",
   "metadata": {},
   "outputs": [
    {
     "data": {
      "text/plain": [
       "Product_Category_Preference\n",
       "Gold        0.395250\n",
       "Platinum    0.347875\n",
       "Basic       0.256875\n",
       "Name: count, dtype: float64"
      ]
     },
     "execution_count": 18,
     "metadata": {},
     "output_type": "execute_result"
    }
   ],
   "source": [
    "relative_frequencies1 = value_counts1/len(business_dataset)   \n",
    "relative_frequencies1"
   ]
  },
  {
   "cell_type": "code",
   "execution_count": 19,
   "id": "2ddb11cf",
   "metadata": {},
   "outputs": [],
   "source": [
    "subtable1 = pd.DataFrame({'Product_Category_Preference': value_counts1.index,\n",
    "                        'Frequency': value_counts1.values,\n",
    "                        'Relative Frequency': relative_frequencies1.values})"
   ]
  },
  {
   "cell_type": "code",
   "execution_count": 20,
   "id": "2ca825cf",
   "metadata": {
    "scrolled": true
   },
   "outputs": [
    {
     "data": {
      "text/html": [
       "<div>\n",
       "<style scoped>\n",
       "    .dataframe tbody tr th:only-of-type {\n",
       "        vertical-align: middle;\n",
       "    }\n",
       "\n",
       "    .dataframe tbody tr th {\n",
       "        vertical-align: top;\n",
       "    }\n",
       "\n",
       "    .dataframe thead th {\n",
       "        text-align: right;\n",
       "    }\n",
       "</style>\n",
       "<table border=\"1\" class=\"dataframe\">\n",
       "  <thead>\n",
       "    <tr style=\"text-align: right;\">\n",
       "      <th></th>\n",
       "      <th>Product_Category_Preference</th>\n",
       "      <th>Frequency</th>\n",
       "      <th>Relative Frequency</th>\n",
       "    </tr>\n",
       "  </thead>\n",
       "  <tbody>\n",
       "    <tr>\n",
       "      <th>0</th>\n",
       "      <td>Gold</td>\n",
       "      <td>3162</td>\n",
       "      <td>0.395250</td>\n",
       "    </tr>\n",
       "    <tr>\n",
       "      <th>1</th>\n",
       "      <td>Platinum</td>\n",
       "      <td>2783</td>\n",
       "      <td>0.347875</td>\n",
       "    </tr>\n",
       "    <tr>\n",
       "      <th>2</th>\n",
       "      <td>Basic</td>\n",
       "      <td>2055</td>\n",
       "      <td>0.256875</td>\n",
       "    </tr>\n",
       "  </tbody>\n",
       "</table>\n",
       "</div>"
      ],
      "text/plain": [
       "  Product_Category_Preference  Frequency  Relative Frequency\n",
       "0                        Gold       3162            0.395250\n",
       "1                    Platinum       2783            0.347875\n",
       "2                       Basic       2055            0.256875"
      ]
     },
     "execution_count": 20,
     "metadata": {},
     "output_type": "execute_result"
    }
   ],
   "source": [
    "subtable1"
   ]
  },
  {
   "cell_type": "code",
   "execution_count": 21,
   "id": "b6d78ed1",
   "metadata": {},
   "outputs": [],
   "source": [
    "#sns.pairplot(business_dataset, hue='Product_Category_Preference')\n",
    "#plt.suptitle('Figure 1: Pairplot of cross-referenced')\n",
    "#plt.show()"
   ]
  },
  {
   "cell_type": "markdown",
   "id": "dc53307d",
   "metadata": {},
   "source": [
    "### Customer_Segment_Group"
   ]
  },
  {
   "cell_type": "code",
   "execution_count": 22,
   "id": "6f85dade",
   "metadata": {},
   "outputs": [
    {
     "data": {
      "text/plain": [
       "Customer_Segment_Group\n",
       "B    2028\n",
       "A    1998\n",
       "D    1996\n",
       "C    1978\n",
       "Name: count, dtype: int64"
      ]
     },
     "execution_count": 22,
     "metadata": {},
     "output_type": "execute_result"
    }
   ],
   "source": [
    "value_counts_product_category = business_dataset['Customer_Segment_Group'].value_counts()\n",
    "value_counts_product_category"
   ]
  },
  {
   "cell_type": "code",
   "execution_count": 23,
   "id": "e119a9bd",
   "metadata": {
    "scrolled": true
   },
   "outputs": [
    {
     "data": {
      "text/plain": [
       "Customer_Segment_Group\n",
       "B    0.25350\n",
       "A    0.24975\n",
       "D    0.24950\n",
       "C    0.24725\n",
       "Name: count, dtype: float64"
      ]
     },
     "execution_count": 23,
     "metadata": {},
     "output_type": "execute_result"
    }
   ],
   "source": [
    "relative_frequencies_product_category = value_counts_product_category/len(business_dataset) \n",
    "relative_frequencies_product_category"
   ]
  },
  {
   "cell_type": "code",
   "execution_count": 24,
   "id": "9ca3fd40",
   "metadata": {},
   "outputs": [],
   "source": [
    "subtable_product = pd.DataFrame({'Customer_Segment_Group': value_counts_product_category.index,\n",
    "                        'Frequency': value_counts_product_category.values,\n",
    "                        'Relative Frequency': relative_frequencies_product_category.values})"
   ]
  },
  {
   "cell_type": "code",
   "execution_count": 25,
   "id": "ccc5bb69",
   "metadata": {},
   "outputs": [
    {
     "data": {
      "text/html": [
       "<div>\n",
       "<style scoped>\n",
       "    .dataframe tbody tr th:only-of-type {\n",
       "        vertical-align: middle;\n",
       "    }\n",
       "\n",
       "    .dataframe tbody tr th {\n",
       "        vertical-align: top;\n",
       "    }\n",
       "\n",
       "    .dataframe thead th {\n",
       "        text-align: right;\n",
       "    }\n",
       "</style>\n",
       "<table border=\"1\" class=\"dataframe\">\n",
       "  <thead>\n",
       "    <tr style=\"text-align: right;\">\n",
       "      <th></th>\n",
       "      <th>Customer_Segment_Group</th>\n",
       "      <th>Frequency</th>\n",
       "      <th>Relative Frequency</th>\n",
       "    </tr>\n",
       "  </thead>\n",
       "  <tbody>\n",
       "    <tr>\n",
       "      <th>0</th>\n",
       "      <td>B</td>\n",
       "      <td>2028</td>\n",
       "      <td>0.25350</td>\n",
       "    </tr>\n",
       "    <tr>\n",
       "      <th>1</th>\n",
       "      <td>A</td>\n",
       "      <td>1998</td>\n",
       "      <td>0.24975</td>\n",
       "    </tr>\n",
       "    <tr>\n",
       "      <th>2</th>\n",
       "      <td>D</td>\n",
       "      <td>1996</td>\n",
       "      <td>0.24950</td>\n",
       "    </tr>\n",
       "    <tr>\n",
       "      <th>3</th>\n",
       "      <td>C</td>\n",
       "      <td>1978</td>\n",
       "      <td>0.24725</td>\n",
       "    </tr>\n",
       "  </tbody>\n",
       "</table>\n",
       "</div>"
      ],
      "text/plain": [
       "  Customer_Segment_Group  Frequency  Relative Frequency\n",
       "0                      B       2028             0.25350\n",
       "1                      A       1998             0.24975\n",
       "2                      D       1996             0.24950\n",
       "3                      C       1978             0.24725"
      ]
     },
     "execution_count": 25,
     "metadata": {},
     "output_type": "execute_result"
    }
   ],
   "source": [
    "subtable_product"
   ]
  },
  {
   "cell_type": "code",
   "execution_count": 26,
   "id": "2dbcc561",
   "metadata": {},
   "outputs": [
    {
     "data": {
      "image/png": "[encoded data removed]",
      "text/plain": [
       "<Figure size 600x600 with 1 Axes>"
      ]
     },
     "metadata": {},
     "output_type": "display_data"
    }
   ],
   "source": [
    "category_counts = business_dataset['Customer_Segment_Group'].value_counts()\n",
    "colors = ['pink', 'grey', 'green', 'orange'] \n",
    "\n",
    "plt.figure(figsize=(6, 6))\n",
    "plt.pie(category_counts, labels=category_counts.index, autopct='%1.1f%%', colors=colors)\n",
    "\n",
    "plt.title('Figure 0: Pie Chart for Category Counts')\n",
    "\n",
    "plt.show()"
   ]
  },
  {
   "cell_type": "markdown",
   "id": "ddeb11f3",
   "metadata": {},
   "source": [
    "## Income Level"
   ]
  },
  {
   "cell_type": "code",
   "execution_count": 27,
   "id": "d79b36c1",
   "metadata": {},
   "outputs": [
    {
     "data": {
      "text/plain": [
       "Income_Level\n",
       "Low       2720\n",
       "Medium    2666\n",
       "High      2614\n",
       "Name: count, dtype: int64"
      ]
     },
     "execution_count": 27,
     "metadata": {},
     "output_type": "execute_result"
    }
   ],
   "source": [
    "value_counts_segment = business_dataset['Income_Level'].value_counts()\n",
    "value_counts_segment"
   ]
  },
  {
   "cell_type": "code",
   "execution_count": 28,
   "id": "acbf8b84",
   "metadata": {},
   "outputs": [
    {
     "data": {
      "text/plain": [
       "Income_Level\n",
       "Low       0.34000\n",
       "Medium    0.33325\n",
       "High      0.32675\n",
       "Name: count, dtype: float64"
      ]
     },
     "execution_count": 28,
     "metadata": {},
     "output_type": "execute_result"
    }
   ],
   "source": [
    "relative_frequencies_segment = value_counts_segment/len(business_dataset)    #length\n",
    "relative_frequencies_segment"
   ]
  },
  {
   "cell_type": "code",
   "execution_count": 29,
   "id": "23da881e",
   "metadata": {},
   "outputs": [],
   "source": [
    "subtable_Segment = pd.DataFrame({'Income_Level': value_counts_segment.index,\n",
    "                        'Frequency': value_counts_segment.values,\n",
    "                        'Relative Frequency': relative_frequencies_segment.values})"
   ]
  },
  {
   "cell_type": "code",
   "execution_count": 30,
   "id": "a87cd1f4",
   "metadata": {},
   "outputs": [
    {
     "data": {
      "text/html": [
       "<div>\n",
       "<style scoped>\n",
       "    .dataframe tbody tr th:only-of-type {\n",
       "        vertical-align: middle;\n",
       "    }\n",
       "\n",
       "    .dataframe tbody tr th {\n",
       "        vertical-align: top;\n",
       "    }\n",
       "\n",
       "    .dataframe thead th {\n",
       "        text-align: right;\n",
       "    }\n",
       "</style>\n",
       "<table border=\"1\" class=\"dataframe\">\n",
       "  <thead>\n",
       "    <tr style=\"text-align: right;\">\n",
       "      <th></th>\n",
       "      <th>Income_Level</th>\n",
       "      <th>Frequency</th>\n",
       "      <th>Relative Frequency</th>\n",
       "    </tr>\n",
       "  </thead>\n",
       "  <tbody>\n",
       "    <tr>\n",
       "      <th>0</th>\n",
       "      <td>Low</td>\n",
       "      <td>2720</td>\n",
       "      <td>0.34000</td>\n",
       "    </tr>\n",
       "    <tr>\n",
       "      <th>1</th>\n",
       "      <td>Medium</td>\n",
       "      <td>2666</td>\n",
       "      <td>0.33325</td>\n",
       "    </tr>\n",
       "    <tr>\n",
       "      <th>2</th>\n",
       "      <td>High</td>\n",
       "      <td>2614</td>\n",
       "      <td>0.32675</td>\n",
       "    </tr>\n",
       "  </tbody>\n",
       "</table>\n",
       "</div>"
      ],
      "text/plain": [
       "  Income_Level  Frequency  Relative Frequency\n",
       "0          Low       2720             0.34000\n",
       "1       Medium       2666             0.33325\n",
       "2         High       2614             0.32675"
      ]
     },
     "execution_count": 30,
     "metadata": {},
     "output_type": "execute_result"
    }
   ],
   "source": [
    "subtable_Segment"
   ]
  },
  {
   "cell_type": "code",
   "execution_count": 31,
   "id": "7276c6fe",
   "metadata": {},
   "outputs": [
    {
     "data": {
      "text/plain": [
       "array([['Low'],\n",
       "       ['Medium'],\n",
       "       ['High']], dtype='<U6')"
      ]
     },
     "execution_count": 31,
     "metadata": {},
     "output_type": "execute_result"
    }
   ],
   "source": [
    "from sklearn.preprocessing import LabelEncoder\n",
    "from numpy import asarray\n",
    "data = asarray([['Low'], ['Medium'], ['High']])\n",
    "data"
   ]
  },
  {
   "cell_type": "code",
   "execution_count": 32,
   "id": "334c9008",
   "metadata": {},
   "outputs": [],
   "source": [
    "encoder = LabelEncoder()"
   ]
  },
  {
   "cell_type": "code",
   "execution_count": 33,
   "id": "749a3bc7",
   "metadata": {},
   "outputs": [
    {
     "name": "stderr",
     "output_type": "stream",
     "text": [
      "C:\\Users\\Admin\\anaconda3\\Lib\\site-packages\\sklearn\\preprocessing\\_label.py:114: DataConversionWarning: A column-vector y was passed when a 1d array was expected. Please change the shape of y to (n_samples, ), for example using ravel().\n",
      "  y = column_or_1d(y, warn=True)\n"
     ]
    },
    {
     "data": {
      "text/plain": [
       "array([1, 2, 0], dtype=int64)"
      ]
     },
     "execution_count": 33,
     "metadata": {},
     "output_type": "execute_result"
    }
   ],
   "source": [
    "result=encoder.fit_transform(data)\n",
    "result"
   ]
  },
  {
   "cell_type": "code",
   "execution_count": 35,
   "id": "f2be8769",
   "metadata": {},
   "outputs": [
    {
     "data": {
      "text/plain": [
       "array([[0., 1., 0.],\n",
       "       [0., 0., 1.],\n",
       "       [1., 0., 0.]])"
      ]
     },
     "execution_count": 35,
     "metadata": {},
     "output_type": "execute_result"
    }
   ],
   "source": [
    "from sklearn.preprocessing import OneHotEncoder\n",
    "encoder = OneHotEncoder(sparse_output =False)\n",
    "result = encoder.fit_transform(data)\n",
    "result"
   ]
  },
  {
   "cell_type": "code",
   "execution_count": 36,
   "id": "a46ef13a",
   "metadata": {
    "scrolled": false
   },
   "outputs": [
    {
     "data": {
      "image/png": "[encoded data removed]",
      "text/plain": [
       "<Figure size 1000x500 with 1 Axes>"
      ]
     },
     "metadata": {},
     "output_type": "display_data"
    }
   ],
   "source": [
    "business_dataset.Income_Level.value_counts().nlargest(10).plot(kind=\"bar\", figsize=(10,5), color='grey')\n",
    "plt.title(\"Income_Level\")\n",
    "plt.ylabel(\"Total\")\n",
    "plt.xlabel(\"Figure 2: Income_Leve\");"
   ]
  },
  {
   "cell_type": "code",
   "execution_count": 37,
   "id": "aa556a73",
   "metadata": {},
   "outputs": [
    {
     "data": {
      "text/plain": [
       "[Text(0.5, 0, 'Income_Level'),\n",
       " Text(0, 0.5, 'Counts'),\n",
       " Text(0.5, 1.0, 'Figure 3: Income Level Histogram')]"
      ]
     },
     "execution_count": 37,
     "metadata": {},
     "output_type": "execute_result"
    },
    {
     "data": {
      "image/png": "[encoded data removed]",
      "text/plain": [
       "<Figure size 640x480 with 1 Axes>"
      ]
     },
     "metadata": {},
     "output_type": "display_data"
    }
   ],
   "source": [
    "ax = sns.histplot(business_dataset.Income_Level, kde = True, color='grey')\n",
    "ax.set(xlabel = 'Income_Level', ylabel = 'Counts', title = 'Figure 3: Income Level Histogram')"
   ]
  },
  {
   "cell_type": "markdown",
   "id": "b7a0f4c5",
   "metadata": {},
   "source": [
    "### High Value Purchase Count"
   ]
  },
  {
   "cell_type": "code",
   "execution_count": 38,
   "id": "3b0c4f02",
   "metadata": {},
   "outputs": [
    {
     "data": {
      "text/html": [
       "<div>\n",
       "<style scoped>\n",
       "    .dataframe tbody tr th:only-of-type {\n",
       "        vertical-align: middle;\n",
       "    }\n",
       "\n",
       "    .dataframe tbody tr th {\n",
       "        vertical-align: top;\n",
       "    }\n",
       "\n",
       "    .dataframe thead th {\n",
       "        text-align: right;\n",
       "    }\n",
       "</style>\n",
       "<table border=\"1\" class=\"dataframe\">\n",
       "  <thead>\n",
       "    <tr style=\"text-align: right;\">\n",
       "      <th></th>\n",
       "      <th>Transaction_Amount</th>\n",
       "      <th>High_Value_Purchase_Count</th>\n",
       "    </tr>\n",
       "  </thead>\n",
       "  <tbody>\n",
       "    <tr>\n",
       "      <th>count</th>\n",
       "      <td>8000.000000</td>\n",
       "      <td>8000.000000</td>\n",
       "    </tr>\n",
       "    <tr>\n",
       "      <th>mean</th>\n",
       "      <td>50.281659</td>\n",
       "      <td>57.124342</td>\n",
       "    </tr>\n",
       "    <tr>\n",
       "      <th>std</th>\n",
       "      <td>27.280464</td>\n",
       "      <td>85.944626</td>\n",
       "    </tr>\n",
       "    <tr>\n",
       "      <th>min</th>\n",
       "      <td>0.010000</td>\n",
       "      <td>0.000000</td>\n",
       "    </tr>\n",
       "    <tr>\n",
       "      <th>25%</th>\n",
       "      <td>28.267500</td>\n",
       "      <td>25.565000</td>\n",
       "    </tr>\n",
       "    <tr>\n",
       "      <th>50%</th>\n",
       "      <td>50.250000</td>\n",
       "      <td>50.765000</td>\n",
       "    </tr>\n",
       "    <tr>\n",
       "      <th>75%</th>\n",
       "      <td>72.532500</td>\n",
       "      <td>75.650000</td>\n",
       "    </tr>\n",
       "    <tr>\n",
       "      <th>max</th>\n",
       "      <td>99.970000</td>\n",
       "      <td>1476.420000</td>\n",
       "    </tr>\n",
       "  </tbody>\n",
       "</table>\n",
       "</div>"
      ],
      "text/plain": [
       "       Transaction_Amount  High_Value_Purchase_Count\n",
       "count         8000.000000                8000.000000\n",
       "mean            50.281659                  57.124342\n",
       "std             27.280464                  85.944626\n",
       "min              0.010000                   0.000000\n",
       "25%             28.267500                  25.565000\n",
       "50%             50.250000                  50.765000\n",
       "75%             72.532500                  75.650000\n",
       "max             99.970000                1476.420000"
      ]
     },
     "execution_count": 38,
     "metadata": {},
     "output_type": "execute_result"
    }
   ],
   "source": [
    "bd_features=business_dataset[['Transaction_Amount', 'Product_Category_Preference', 'High_Value_Purchase_Count']]\n",
    "bd_features.describe()"
   ]
  },
  {
   "cell_type": "code",
   "execution_count": 39,
   "id": "117f71e0",
   "metadata": {},
   "outputs": [
    {
     "data": {
      "text/plain": [
       "High_Value_Purchase_Count\n",
       "28.48    6\n",
       "99.43    5\n",
       "83.97    5\n",
       "60.78    5\n",
       "9.71     5\n",
       "        ..\n",
       "30.36    1\n",
       "77.93    1\n",
       "6.65     1\n",
       "88.24    1\n",
       "19.22    1\n",
       "Name: count, Length: 5561, dtype: int64"
      ]
     },
     "execution_count": 39,
     "metadata": {},
     "output_type": "execute_result"
    }
   ],
   "source": [
    "value_counts2 = business_dataset['High_Value_Purchase_Count'].value_counts()\n",
    "value_counts2"
   ]
  },
  {
   "cell_type": "code",
   "execution_count": 40,
   "id": "1e95579e",
   "metadata": {},
   "outputs": [
    {
     "data": {
      "image/png": "[encoded data removed]",
      "text/plain": [
       "<Figure size 640x480 with 1 Axes>"
      ]
     },
     "metadata": {},
     "output_type": "display_data"
    }
   ],
   "source": [
    "color = 'grey'\n",
    "High_Value_Purchase_Count_outlier = business_dataset['High_Value_Purchase_Count']\n",
    "\n",
    "sns.boxplot(y=High_Value_Purchase_Count_outlier, color=color)\n",
    "plt.xlabel('Figure 4: High_Value_Purchase')\n",
    "\n",
    "plt.show()"
   ]
  },
  {
   "cell_type": "markdown",
   "id": "b4498163",
   "metadata": {},
   "source": [
    "#### As the Marketing_Email_Click_Rate\tis Continuous numerical data indicating the click rate on marketing emails, in percentage. and some of them are 120, I am assuming there are sparse data. then will be used minmax scaler.\n",
    "\n",
    "### It was tested three differrent scaler models to be able which one was the best one:\n",
    "#'minmaxScaler', 'standardized', 'l2_normalize'"
   ]
  },
  {
   "cell_type": "code",
   "execution_count": 41,
   "id": "21c5a91c",
   "metadata": {},
   "outputs": [],
   "source": [
    "import pandas as pd\n",
    "import seaborn as sns\n",
    "import sklearn.preprocessing as preproc\n",
    "from sklearn.preprocessing import MinMaxScaler"
   ]
  },
  {
   "cell_type": "code",
   "execution_count": 42,
   "id": "91d367df",
   "metadata": {},
   "outputs": [
    {
     "name": "stderr",
     "output_type": "stream",
     "text": [
      "C:\\Users\\Admin\\anaconda3\\Lib\\site-packages\\seaborn\\axisgrid.py:118: UserWarning: The figure layout has changed to tight\n",
      "  self._figure.tight_layout(*args, **kwargs)\n"
     ]
    },
    {
     "data": {
      "text/plain": [
       "<seaborn.axisgrid.FacetGrid at 0x20fba5d5450>"
      ]
     },
     "execution_count": 42,
     "metadata": {},
     "output_type": "execute_result"
    },
    {
     "data": {
      "image/png": "[encoded data removed]",
      "text/plain": [
       "<Figure size 500x500 with 1 Axes>"
      ]
     },
     "metadata": {},
     "output_type": "display_data"
    }
   ],
   "source": [
    "sns.displot(data=business_dataset, x =\"High_Value_Purchase_Count\")"
   ]
  },
  {
   "cell_type": "code",
   "execution_count": 43,
   "id": "ff1bdf41",
   "metadata": {},
   "outputs": [
    {
     "name": "stderr",
     "output_type": "stream",
     "text": [
      "C:\\Users\\Admin\\AppData\\Local\\Temp\\ipykernel_18408\\27759913.py:1: ParserWarning: Falling back to the 'python' engine because the 'c' engine does not support regex separators (separators > 1 char and different from '\\s+' are interpreted as regex); you can avoid this warning by specifying engine='python'.\n",
      "  df = pd.read_csv(\"CA1_business_dataset.csv\", delimiter = \". \")\n"
     ]
    }
   ],
   "source": [
    "df = pd.read_csv(\"CA1_business_dataset.csv\", delimiter = \". \")"
   ]
  },
  {
   "cell_type": "code",
   "execution_count": 44,
   "id": "7357de5a",
   "metadata": {},
   "outputs": [],
   "source": [
    "business_dataset[\"minmax\"]=preproc.minmax_scale(business_dataset[\"High_Value_Purchase_Count\"])"
   ]
  },
  {
   "cell_type": "code",
   "execution_count": 45,
   "id": "d16c908b",
   "metadata": {},
   "outputs": [
    {
     "name": "stderr",
     "output_type": "stream",
     "text": [
      "C:\\Users\\Admin\\anaconda3\\Lib\\site-packages\\seaborn\\axisgrid.py:118: UserWarning: The figure layout has changed to tight\n",
      "  self._figure.tight_layout(*args, **kwargs)\n"
     ]
    },
    {
     "data": {
      "text/plain": [
       "<seaborn.axisgrid.FacetGrid at 0x20fba481490>"
      ]
     },
     "execution_count": 45,
     "metadata": {},
     "output_type": "execute_result"
    },
    {
     "data": {
      "image/png": "[encoded data removed]",
      "text/plain": [
       "<Figure size 500x500 with 1 Axes>"
      ]
     },
     "metadata": {},
     "output_type": "display_data"
    }
   ],
   "source": [
    "sns.displot(data=business_dataset, x = \"minmax\")"
   ]
  },
  {
   "cell_type": "code",
   "execution_count": 46,
   "id": "b00bc7bb",
   "metadata": {},
   "outputs": [],
   "source": [
    "business_dataset[\"standardized\"]=preproc.StandardScaler().fit_transform(business_dataset[[\"High_Value_Purchase_Count\"]])"
   ]
  },
  {
   "cell_type": "code",
   "execution_count": 47,
   "id": "ff2a21d1",
   "metadata": {},
   "outputs": [
    {
     "data": {
      "text/plain": [
       "0      -0.640736\n",
       "1       0.275958\n",
       "2      -0.212410\n",
       "3      -0.286299\n",
       "4      -0.327491\n",
       "          ...   \n",
       "7995    0.265602\n",
       "7996   -0.441060\n",
       "7997    0.152034\n",
       "7998   -0.659237\n",
       "7999   -0.577901\n",
       "Name: standardized, Length: 8000, dtype: float64"
      ]
     },
     "execution_count": 47,
     "metadata": {},
     "output_type": "execute_result"
    }
   ],
   "source": [
    "business_dataset[\"standardized\"]"
   ]
  },
  {
   "cell_type": "code",
   "execution_count": 48,
   "id": "63c61a88",
   "metadata": {},
   "outputs": [
    {
     "data": {
      "text/html": [
       "<div>\n",
       "<style scoped>\n",
       "    .dataframe tbody tr th:only-of-type {\n",
       "        vertical-align: middle;\n",
       "    }\n",
       "\n",
       "    .dataframe tbody tr th {\n",
       "        vertical-align: top;\n",
       "    }\n",
       "\n",
       "    .dataframe thead th {\n",
       "        text-align: right;\n",
       "    }\n",
       "</style>\n",
       "<table border=\"1\" class=\"dataframe\">\n",
       "  <thead>\n",
       "    <tr style=\"text-align: right;\">\n",
       "      <th></th>\n",
       "      <th>Customer_Satisfaction_Score</th>\n",
       "      <th>Response Time</th>\n",
       "      <th>Daily User Logins</th>\n",
       "      <th>Average Session Duration</th>\n",
       "      <th>Survey_Response_Rate</th>\n",
       "      <th>Transaction_Amount</th>\n",
       "      <th>Product_Rating</th>\n",
       "      <th>Preferred Communication Channel</th>\n",
       "      <th>Membership Status</th>\n",
       "      <th>Product_Category_Preference</th>\n",
       "      <th>High_Value_Purchase_Count</th>\n",
       "      <th>Customer Support Calls</th>\n",
       "      <th>Website_Click_Through_Rate</th>\n",
       "      <th>Newsletter Open Rate</th>\n",
       "      <th>Social_Media_Engagement_Score</th>\n",
       "      <th>Referral Count</th>\n",
       "      <th>Account Age</th>\n",
       "      <th>Feedback_Score</th>\n",
       "      <th>Product_Return_Rate</th>\n",
       "      <th>Marketing_Email_Click_Rate</th>\n",
       "      <th>Subscription_Status</th>\n",
       "      <th>Product_Upsell_Success</th>\n",
       "      <th>Customer_Segment_Group</th>\n",
       "      <th>Interest_in_New_Product</th>\n",
       "      <th>Income_Level</th>\n",
       "      <th>minmax</th>\n",
       "      <th>standardized</th>\n",
       "    </tr>\n",
       "  </thead>\n",
       "  <tbody>\n",
       "    <tr>\n",
       "      <th>0</th>\n",
       "      <td>37</td>\n",
       "      <td>95.07</td>\n",
       "      <td>73</td>\n",
       "      <td>59.87</td>\n",
       "      <td>15.60</td>\n",
       "      <td>15.60</td>\n",
       "      <td>6</td>\n",
       "      <td>Email</td>\n",
       "      <td>Yes</td>\n",
       "      <td>Basic</td>\n",
       "      <td>2.06</td>\n",
       "      <td>96.99</td>\n",
       "      <td>83</td>\n",
       "      <td>21.2</td>\n",
       "      <td>18.18</td>\n",
       "      <td>18</td>\n",
       "      <td>30</td>\n",
       "      <td>52</td>\n",
       "      <td>Yes</td>\n",
       "      <td>29.12</td>\n",
       "      <td>1</td>\n",
       "      <td>1</td>\n",
       "      <td>C</td>\n",
       "      <td>No</td>\n",
       "      <td>High</td>\n",
       "      <td>0.001395</td>\n",
       "      <td>-0.640736</td>\n",
       "    </tr>\n",
       "    <tr>\n",
       "      <th>1</th>\n",
       "      <td>79</td>\n",
       "      <td>19.97</td>\n",
       "      <td>51</td>\n",
       "      <td>59.24</td>\n",
       "      <td>4.65</td>\n",
       "      <td>60.75</td>\n",
       "      <td>17</td>\n",
       "      <td>Phone</td>\n",
       "      <td>Yes</td>\n",
       "      <td>Gold</td>\n",
       "      <td>80.84</td>\n",
       "      <td>30.46</td>\n",
       "      <td>10</td>\n",
       "      <td>68.4</td>\n",
       "      <td>44.02</td>\n",
       "      <td>12</td>\n",
       "      <td>50</td>\n",
       "      <td>3</td>\n",
       "      <td>No</td>\n",
       "      <td>25.88</td>\n",
       "      <td>1</td>\n",
       "      <td>1</td>\n",
       "      <td>C</td>\n",
       "      <td>No</td>\n",
       "      <td>Low</td>\n",
       "      <td>0.054754</td>\n",
       "      <td>0.275958</td>\n",
       "    </tr>\n",
       "    <tr>\n",
       "      <th>2</th>\n",
       "      <td>97</td>\n",
       "      <td>77.51</td>\n",
       "      <td>94</td>\n",
       "      <td>89.48</td>\n",
       "      <td>59.79</td>\n",
       "      <td>92.19</td>\n",
       "      <td>9</td>\n",
       "      <td>SMS</td>\n",
       "      <td>Yes</td>\n",
       "      <td>Platinum</td>\n",
       "      <td>38.87</td>\n",
       "      <td>27.13</td>\n",
       "      <td>83</td>\n",
       "      <td>35.7</td>\n",
       "      <td>28.09</td>\n",
       "      <td>54</td>\n",
       "      <td>14</td>\n",
       "      <td>80</td>\n",
       "      <td>Yes</td>\n",
       "      <td>98.69</td>\n",
       "      <td>1</td>\n",
       "      <td>1</td>\n",
       "      <td>C</td>\n",
       "      <td>No</td>\n",
       "      <td>Low</td>\n",
       "      <td>0.026327</td>\n",
       "      <td>-0.212410</td>\n",
       "    </tr>\n",
       "    <tr>\n",
       "      <th>3</th>\n",
       "      <td>73</td>\n",
       "      <td>77.13</td>\n",
       "      <td>7</td>\n",
       "      <td>35.85</td>\n",
       "      <td>11.59</td>\n",
       "      <td>86.31</td>\n",
       "      <td>62</td>\n",
       "      <td>Email</td>\n",
       "      <td>Yes</td>\n",
       "      <td>Platinum</td>\n",
       "      <td>32.52</td>\n",
       "      <td>72.96</td>\n",
       "      <td>64</td>\n",
       "      <td>88.7</td>\n",
       "      <td>47.22</td>\n",
       "      <td>12</td>\n",
       "      <td>71</td>\n",
       "      <td>76</td>\n",
       "      <td>No</td>\n",
       "      <td>77.10</td>\n",
       "      <td>0</td>\n",
       "      <td>1</td>\n",
       "      <td>C</td>\n",
       "      <td>No</td>\n",
       "      <td>Low</td>\n",
       "      <td>0.022026</td>\n",
       "      <td>-0.286299</td>\n",
       "    </tr>\n",
       "    <tr>\n",
       "      <th>4</th>\n",
       "      <td>3</td>\n",
       "      <td>63.64</td>\n",
       "      <td>31</td>\n",
       "      <td>50.86</td>\n",
       "      <td>90.76</td>\n",
       "      <td>24.93</td>\n",
       "      <td>41</td>\n",
       "      <td>Phone</td>\n",
       "      <td>Yes</td>\n",
       "      <td>Platinum</td>\n",
       "      <td>28.98</td>\n",
       "      <td>16.12</td>\n",
       "      <td>93</td>\n",
       "      <td>80.8</td>\n",
       "      <td>63.34</td>\n",
       "      <td>87</td>\n",
       "      <td>80</td>\n",
       "      <td>19</td>\n",
       "      <td>No</td>\n",
       "      <td>53.93</td>\n",
       "      <td>1</td>\n",
       "      <td>0</td>\n",
       "      <td>D</td>\n",
       "      <td>Yes</td>\n",
       "      <td>Medium</td>\n",
       "      <td>0.019629</td>\n",
       "      <td>-0.327491</td>\n",
       "    </tr>\n",
       "    <tr>\n",
       "      <th>...</th>\n",
       "      <td>...</td>\n",
       "      <td>...</td>\n",
       "      <td>...</td>\n",
       "      <td>...</td>\n",
       "      <td>...</td>\n",
       "      <td>...</td>\n",
       "      <td>...</td>\n",
       "      <td>...</td>\n",
       "      <td>...</td>\n",
       "      <td>...</td>\n",
       "      <td>...</td>\n",
       "      <td>...</td>\n",
       "      <td>...</td>\n",
       "      <td>...</td>\n",
       "      <td>...</td>\n",
       "      <td>...</td>\n",
       "      <td>...</td>\n",
       "      <td>...</td>\n",
       "      <td>...</td>\n",
       "      <td>...</td>\n",
       "      <td>...</td>\n",
       "      <td>...</td>\n",
       "      <td>...</td>\n",
       "      <td>...</td>\n",
       "      <td>...</td>\n",
       "      <td>...</td>\n",
       "      <td>...</td>\n",
       "    </tr>\n",
       "    <tr>\n",
       "      <th>7995</th>\n",
       "      <td>31</td>\n",
       "      <td>4.00</td>\n",
       "      <td>2</td>\n",
       "      <td>21.03</td>\n",
       "      <td>72.98</td>\n",
       "      <td>57.18</td>\n",
       "      <td>12</td>\n",
       "      <td>Email</td>\n",
       "      <td>Yes</td>\n",
       "      <td>Gold</td>\n",
       "      <td>79.95</td>\n",
       "      <td>49.90</td>\n",
       "      <td>19</td>\n",
       "      <td>45.6</td>\n",
       "      <td>47.11</td>\n",
       "      <td>66</td>\n",
       "      <td>37</td>\n",
       "      <td>69</td>\n",
       "      <td>No</td>\n",
       "      <td>67.56</td>\n",
       "      <td>0</td>\n",
       "      <td>0</td>\n",
       "      <td>A</td>\n",
       "      <td>Yes</td>\n",
       "      <td>Low</td>\n",
       "      <td>0.054151</td>\n",
       "      <td>0.265602</td>\n",
       "    </tr>\n",
       "    <tr>\n",
       "      <th>7996</th>\n",
       "      <td>54</td>\n",
       "      <td>1.15</td>\n",
       "      <td>84</td>\n",
       "      <td>13.64</td>\n",
       "      <td>74.77</td>\n",
       "      <td>97.67</td>\n",
       "      <td>28</td>\n",
       "      <td>Phone</td>\n",
       "      <td>Yes</td>\n",
       "      <td>Basic</td>\n",
       "      <td>19.22</td>\n",
       "      <td>90.83</td>\n",
       "      <td>59</td>\n",
       "      <td>79.2</td>\n",
       "      <td>12.81</td>\n",
       "      <td>44</td>\n",
       "      <td>18</td>\n",
       "      <td>35</td>\n",
       "      <td>No</td>\n",
       "      <td>27.26</td>\n",
       "      <td>0</td>\n",
       "      <td>0</td>\n",
       "      <td>B</td>\n",
       "      <td>No</td>\n",
       "      <td>Low</td>\n",
       "      <td>0.013018</td>\n",
       "      <td>-0.441060</td>\n",
       "    </tr>\n",
       "    <tr>\n",
       "      <th>7997</th>\n",
       "      <td>90</td>\n",
       "      <td>41.24</td>\n",
       "      <td>21</td>\n",
       "      <td>68.26</td>\n",
       "      <td>85.86</td>\n",
       "      <td>78.26</td>\n",
       "      <td>56</td>\n",
       "      <td>SMS</td>\n",
       "      <td>Yes</td>\n",
       "      <td>Gold</td>\n",
       "      <td>70.19</td>\n",
       "      <td>94.71</td>\n",
       "      <td>77</td>\n",
       "      <td>53.8</td>\n",
       "      <td>61.17</td>\n",
       "      <td>20</td>\n",
       "      <td>18</td>\n",
       "      <td>17</td>\n",
       "      <td>No</td>\n",
       "      <td>4.18</td>\n",
       "      <td>0</td>\n",
       "      <td>1</td>\n",
       "      <td>C</td>\n",
       "      <td>No</td>\n",
       "      <td>Low</td>\n",
       "      <td>0.047541</td>\n",
       "      <td>0.152034</td>\n",
       "    </tr>\n",
       "    <tr>\n",
       "      <th>7998</th>\n",
       "      <td>20</td>\n",
       "      <td>49.44</td>\n",
       "      <td>89</td>\n",
       "      <td>58.79</td>\n",
       "      <td>1.92</td>\n",
       "      <td>65.48</td>\n",
       "      <td>60</td>\n",
       "      <td>Email</td>\n",
       "      <td>Yes</td>\n",
       "      <td>Platinum</td>\n",
       "      <td>0.47</td>\n",
       "      <td>4.78</td>\n",
       "      <td>1</td>\n",
       "      <td>82.0</td>\n",
       "      <td>91.58</td>\n",
       "      <td>2</td>\n",
       "      <td>52</td>\n",
       "      <td>17</td>\n",
       "      <td>No</td>\n",
       "      <td>51.50</td>\n",
       "      <td>0</td>\n",
       "      <td>0</td>\n",
       "      <td>D</td>\n",
       "      <td>Yes</td>\n",
       "      <td>Low</td>\n",
       "      <td>0.000318</td>\n",
       "      <td>-0.659237</td>\n",
       "    </tr>\n",
       "    <tr>\n",
       "      <th>7999</th>\n",
       "      <td>15</td>\n",
       "      <td>68.79</td>\n",
       "      <td>8</td>\n",
       "      <td>90.39</td>\n",
       "      <td>13.26</td>\n",
       "      <td>62.57</td>\n",
       "      <td>100</td>\n",
       "      <td>Phone</td>\n",
       "      <td>Yes</td>\n",
       "      <td>Basic</td>\n",
       "      <td>7.46</td>\n",
       "      <td>47.01</td>\n",
       "      <td>47</td>\n",
       "      <td>38.2</td>\n",
       "      <td>84.36</td>\n",
       "      <td>90</td>\n",
       "      <td>84</td>\n",
       "      <td>25</td>\n",
       "      <td>No</td>\n",
       "      <td>4.56</td>\n",
       "      <td>0</td>\n",
       "      <td>0</td>\n",
       "      <td>D</td>\n",
       "      <td>No</td>\n",
       "      <td>High</td>\n",
       "      <td>0.005053</td>\n",
       "      <td>-0.577901</td>\n",
       "    </tr>\n",
       "  </tbody>\n",
       "</table>\n",
       "<p>8000 rows × 27 columns</p>\n",
       "</div>"
      ],
      "text/plain": [
       "      Customer_Satisfaction_Score  Response Time  Daily User Logins  \\\n",
       "0                              37          95.07                 73   \n",
       "1                              79          19.97                 51   \n",
       "2                              97          77.51                 94   \n",
       "3                              73          77.13                  7   \n",
       "4                               3          63.64                 31   \n",
       "...                           ...            ...                ...   \n",
       "7995                           31           4.00                  2   \n",
       "7996                           54           1.15                 84   \n",
       "7997                           90          41.24                 21   \n",
       "7998                           20          49.44                 89   \n",
       "7999                           15          68.79                  8   \n",
       "\n",
       "      Average Session Duration  Survey_Response_Rate  Transaction_Amount  \\\n",
       "0                        59.87                 15.60               15.60   \n",
       "1                        59.24                  4.65               60.75   \n",
       "2                        89.48                 59.79               92.19   \n",
       "3                        35.85                 11.59               86.31   \n",
       "4                        50.86                 90.76               24.93   \n",
       "...                        ...                   ...                 ...   \n",
       "7995                     21.03                 72.98               57.18   \n",
       "7996                     13.64                 74.77               97.67   \n",
       "7997                     68.26                 85.86               78.26   \n",
       "7998                     58.79                  1.92               65.48   \n",
       "7999                     90.39                 13.26               62.57   \n",
       "\n",
       "      Product_Rating Preferred Communication Channel Membership Status  \\\n",
       "0                  6                           Email               Yes   \n",
       "1                 17                           Phone               Yes   \n",
       "2                  9                             SMS               Yes   \n",
       "3                 62                           Email               Yes   \n",
       "4                 41                           Phone               Yes   \n",
       "...              ...                             ...               ...   \n",
       "7995              12                           Email               Yes   \n",
       "7996              28                           Phone               Yes   \n",
       "7997              56                             SMS               Yes   \n",
       "7998              60                           Email               Yes   \n",
       "7999             100                           Phone               Yes   \n",
       "\n",
       "     Product_Category_Preference  High_Value_Purchase_Count  \\\n",
       "0                          Basic                       2.06   \n",
       "1                           Gold                      80.84   \n",
       "2                       Platinum                      38.87   \n",
       "3                       Platinum                      32.52   \n",
       "4                       Platinum                      28.98   \n",
       "...                          ...                        ...   \n",
       "7995                        Gold                      79.95   \n",
       "7996                       Basic                      19.22   \n",
       "7997                        Gold                      70.19   \n",
       "7998                    Platinum                       0.47   \n",
       "7999                       Basic                       7.46   \n",
       "\n",
       "      Customer Support Calls  Website_Click_Through_Rate  \\\n",
       "0                      96.99                          83   \n",
       "1                      30.46                          10   \n",
       "2                      27.13                          83   \n",
       "3                      72.96                          64   \n",
       "4                      16.12                          93   \n",
       "...                      ...                         ...   \n",
       "7995                   49.90                          19   \n",
       "7996                   90.83                          59   \n",
       "7997                   94.71                          77   \n",
       "7998                    4.78                           1   \n",
       "7999                   47.01                          47   \n",
       "\n",
       "      Newsletter Open Rate  Social_Media_Engagement_Score  Referral Count  \\\n",
       "0                     21.2                          18.18              18   \n",
       "1                     68.4                          44.02              12   \n",
       "2                     35.7                          28.09              54   \n",
       "3                     88.7                          47.22              12   \n",
       "4                     80.8                          63.34              87   \n",
       "...                    ...                            ...             ...   \n",
       "7995                  45.6                          47.11              66   \n",
       "7996                  79.2                          12.81              44   \n",
       "7997                  53.8                          61.17              20   \n",
       "7998                  82.0                          91.58               2   \n",
       "7999                  38.2                          84.36              90   \n",
       "\n",
       "      Account Age  Feedback_Score Product_Return_Rate  \\\n",
       "0              30              52                 Yes   \n",
       "1              50               3                  No   \n",
       "2              14              80                 Yes   \n",
       "3              71              76                  No   \n",
       "4              80              19                  No   \n",
       "...           ...             ...                 ...   \n",
       "7995           37              69                  No   \n",
       "7996           18              35                  No   \n",
       "7997           18              17                  No   \n",
       "7998           52              17                  No   \n",
       "7999           84              25                  No   \n",
       "\n",
       "      Marketing_Email_Click_Rate  Subscription_Status  Product_Upsell_Success  \\\n",
       "0                          29.12                    1                       1   \n",
       "1                          25.88                    1                       1   \n",
       "2                          98.69                    1                       1   \n",
       "3                          77.10                    0                       1   \n",
       "4                          53.93                    1                       0   \n",
       "...                          ...                  ...                     ...   \n",
       "7995                       67.56                    0                       0   \n",
       "7996                       27.26                    0                       0   \n",
       "7997                        4.18                    0                       1   \n",
       "7998                       51.50                    0                       0   \n",
       "7999                        4.56                    0                       0   \n",
       "\n",
       "     Customer_Segment_Group Interest_in_New_Product Income_Level    minmax  \\\n",
       "0                         C                      No         High  0.001395   \n",
       "1                         C                      No          Low  0.054754   \n",
       "2                         C                      No          Low  0.026327   \n",
       "3                         C                      No          Low  0.022026   \n",
       "4                         D                     Yes       Medium  0.019629   \n",
       "...                     ...                     ...          ...       ...   \n",
       "7995                      A                     Yes          Low  0.054151   \n",
       "7996                      B                      No          Low  0.013018   \n",
       "7997                      C                      No          Low  0.047541   \n",
       "7998                      D                     Yes          Low  0.000318   \n",
       "7999                      D                      No         High  0.005053   \n",
       "\n",
       "      standardized  \n",
       "0        -0.640736  \n",
       "1         0.275958  \n",
       "2        -0.212410  \n",
       "3        -0.286299  \n",
       "4        -0.327491  \n",
       "...            ...  \n",
       "7995      0.265602  \n",
       "7996     -0.441060  \n",
       "7997      0.152034  \n",
       "7998     -0.659237  \n",
       "7999     -0.577901  \n",
       "\n",
       "[8000 rows x 27 columns]"
      ]
     },
     "execution_count": 48,
     "metadata": {},
     "output_type": "execute_result"
    }
   ],
   "source": [
    "business_dataset"
   ]
  },
  {
   "cell_type": "code",
   "execution_count": 49,
   "id": "d08bcda1",
   "metadata": {},
   "outputs": [],
   "source": [
    "business_dataset[\"l2_normalize\"]=preproc.normalize(business_dataset[[\"High_Value_Purchase_Count\"]], axis=0)"
   ]
  },
  {
   "cell_type": "code",
   "execution_count": 50,
   "id": "4b91ee4c",
   "metadata": {},
   "outputs": [
    {
     "data": {
      "text/plain": [
       "0       0.000223\n",
       "1       0.008759\n",
       "2       0.004211\n",
       "3       0.003523\n",
       "4       0.003140\n",
       "          ...   \n",
       "7995    0.008662\n",
       "7996    0.002082\n",
       "7997    0.007605\n",
       "7998    0.000051\n",
       "7999    0.000808\n",
       "Name: l2_normalize, Length: 8000, dtype: float64"
      ]
     },
     "execution_count": 50,
     "metadata": {},
     "output_type": "execute_result"
    }
   ],
   "source": [
    "business_dataset[\"l2_normalize\"]"
   ]
  },
  {
   "cell_type": "code",
   "execution_count": 51,
   "id": "af8cb817",
   "metadata": {
    "scrolled": false
   },
   "outputs": [
    {
     "data": {
      "text/html": [
       "<div>\n",
       "<style scoped>\n",
       "    .dataframe tbody tr th:only-of-type {\n",
       "        vertical-align: middle;\n",
       "    }\n",
       "\n",
       "    .dataframe tbody tr th {\n",
       "        vertical-align: top;\n",
       "    }\n",
       "\n",
       "    .dataframe thead th {\n",
       "        text-align: right;\n",
       "    }\n",
       "</style>\n",
       "<table border=\"1\" class=\"dataframe\">\n",
       "  <thead>\n",
       "    <tr style=\"text-align: right;\">\n",
       "      <th></th>\n",
       "      <th>Customer_Satisfaction_Score</th>\n",
       "      <th>Response Time</th>\n",
       "      <th>Daily User Logins</th>\n",
       "      <th>Average Session Duration</th>\n",
       "      <th>Survey_Response_Rate</th>\n",
       "      <th>Transaction_Amount</th>\n",
       "      <th>Product_Rating</th>\n",
       "      <th>Preferred Communication Channel</th>\n",
       "      <th>Membership Status</th>\n",
       "      <th>Product_Category_Preference</th>\n",
       "      <th>High_Value_Purchase_Count</th>\n",
       "      <th>Customer Support Calls</th>\n",
       "      <th>Website_Click_Through_Rate</th>\n",
       "      <th>Newsletter Open Rate</th>\n",
       "      <th>Social_Media_Engagement_Score</th>\n",
       "      <th>Referral Count</th>\n",
       "      <th>Account Age</th>\n",
       "      <th>Feedback_Score</th>\n",
       "      <th>Product_Return_Rate</th>\n",
       "      <th>Marketing_Email_Click_Rate</th>\n",
       "      <th>Subscription_Status</th>\n",
       "      <th>Product_Upsell_Success</th>\n",
       "      <th>Customer_Segment_Group</th>\n",
       "      <th>Interest_in_New_Product</th>\n",
       "      <th>Income_Level</th>\n",
       "      <th>minmax</th>\n",
       "      <th>standardized</th>\n",
       "      <th>l2_normalize</th>\n",
       "    </tr>\n",
       "  </thead>\n",
       "  <tbody>\n",
       "    <tr>\n",
       "      <th>0</th>\n",
       "      <td>37</td>\n",
       "      <td>95.07</td>\n",
       "      <td>73</td>\n",
       "      <td>59.87</td>\n",
       "      <td>15.60</td>\n",
       "      <td>15.60</td>\n",
       "      <td>6</td>\n",
       "      <td>Email</td>\n",
       "      <td>Yes</td>\n",
       "      <td>Basic</td>\n",
       "      <td>2.06</td>\n",
       "      <td>96.99</td>\n",
       "      <td>83</td>\n",
       "      <td>21.2</td>\n",
       "      <td>18.18</td>\n",
       "      <td>18</td>\n",
       "      <td>30</td>\n",
       "      <td>52</td>\n",
       "      <td>Yes</td>\n",
       "      <td>29.12</td>\n",
       "      <td>1</td>\n",
       "      <td>1</td>\n",
       "      <td>C</td>\n",
       "      <td>No</td>\n",
       "      <td>High</td>\n",
       "      <td>0.001395</td>\n",
       "      <td>-0.640736</td>\n",
       "      <td>0.000223</td>\n",
       "    </tr>\n",
       "    <tr>\n",
       "      <th>1</th>\n",
       "      <td>79</td>\n",
       "      <td>19.97</td>\n",
       "      <td>51</td>\n",
       "      <td>59.24</td>\n",
       "      <td>4.65</td>\n",
       "      <td>60.75</td>\n",
       "      <td>17</td>\n",
       "      <td>Phone</td>\n",
       "      <td>Yes</td>\n",
       "      <td>Gold</td>\n",
       "      <td>80.84</td>\n",
       "      <td>30.46</td>\n",
       "      <td>10</td>\n",
       "      <td>68.4</td>\n",
       "      <td>44.02</td>\n",
       "      <td>12</td>\n",
       "      <td>50</td>\n",
       "      <td>3</td>\n",
       "      <td>No</td>\n",
       "      <td>25.88</td>\n",
       "      <td>1</td>\n",
       "      <td>1</td>\n",
       "      <td>C</td>\n",
       "      <td>No</td>\n",
       "      <td>Low</td>\n",
       "      <td>0.054754</td>\n",
       "      <td>0.275958</td>\n",
       "      <td>0.008759</td>\n",
       "    </tr>\n",
       "    <tr>\n",
       "      <th>2</th>\n",
       "      <td>97</td>\n",
       "      <td>77.51</td>\n",
       "      <td>94</td>\n",
       "      <td>89.48</td>\n",
       "      <td>59.79</td>\n",
       "      <td>92.19</td>\n",
       "      <td>9</td>\n",
       "      <td>SMS</td>\n",
       "      <td>Yes</td>\n",
       "      <td>Platinum</td>\n",
       "      <td>38.87</td>\n",
       "      <td>27.13</td>\n",
       "      <td>83</td>\n",
       "      <td>35.7</td>\n",
       "      <td>28.09</td>\n",
       "      <td>54</td>\n",
       "      <td>14</td>\n",
       "      <td>80</td>\n",
       "      <td>Yes</td>\n",
       "      <td>98.69</td>\n",
       "      <td>1</td>\n",
       "      <td>1</td>\n",
       "      <td>C</td>\n",
       "      <td>No</td>\n",
       "      <td>Low</td>\n",
       "      <td>0.026327</td>\n",
       "      <td>-0.212410</td>\n",
       "      <td>0.004211</td>\n",
       "    </tr>\n",
       "    <tr>\n",
       "      <th>3</th>\n",
       "      <td>73</td>\n",
       "      <td>77.13</td>\n",
       "      <td>7</td>\n",
       "      <td>35.85</td>\n",
       "      <td>11.59</td>\n",
       "      <td>86.31</td>\n",
       "      <td>62</td>\n",
       "      <td>Email</td>\n",
       "      <td>Yes</td>\n",
       "      <td>Platinum</td>\n",
       "      <td>32.52</td>\n",
       "      <td>72.96</td>\n",
       "      <td>64</td>\n",
       "      <td>88.7</td>\n",
       "      <td>47.22</td>\n",
       "      <td>12</td>\n",
       "      <td>71</td>\n",
       "      <td>76</td>\n",
       "      <td>No</td>\n",
       "      <td>77.10</td>\n",
       "      <td>0</td>\n",
       "      <td>1</td>\n",
       "      <td>C</td>\n",
       "      <td>No</td>\n",
       "      <td>Low</td>\n",
       "      <td>0.022026</td>\n",
       "      <td>-0.286299</td>\n",
       "      <td>0.003523</td>\n",
       "    </tr>\n",
       "    <tr>\n",
       "      <th>4</th>\n",
       "      <td>3</td>\n",
       "      <td>63.64</td>\n",
       "      <td>31</td>\n",
       "      <td>50.86</td>\n",
       "      <td>90.76</td>\n",
       "      <td>24.93</td>\n",
       "      <td>41</td>\n",
       "      <td>Phone</td>\n",
       "      <td>Yes</td>\n",
       "      <td>Platinum</td>\n",
       "      <td>28.98</td>\n",
       "      <td>16.12</td>\n",
       "      <td>93</td>\n",
       "      <td>80.8</td>\n",
       "      <td>63.34</td>\n",
       "      <td>87</td>\n",
       "      <td>80</td>\n",
       "      <td>19</td>\n",
       "      <td>No</td>\n",
       "      <td>53.93</td>\n",
       "      <td>1</td>\n",
       "      <td>0</td>\n",
       "      <td>D</td>\n",
       "      <td>Yes</td>\n",
       "      <td>Medium</td>\n",
       "      <td>0.019629</td>\n",
       "      <td>-0.327491</td>\n",
       "      <td>0.003140</td>\n",
       "    </tr>\n",
       "  </tbody>\n",
       "</table>\n",
       "</div>"
      ],
      "text/plain": [
       "   Customer_Satisfaction_Score  Response Time  Daily User Logins  \\\n",
       "0                           37          95.07                 73   \n",
       "1                           79          19.97                 51   \n",
       "2                           97          77.51                 94   \n",
       "3                           73          77.13                  7   \n",
       "4                            3          63.64                 31   \n",
       "\n",
       "   Average Session Duration  Survey_Response_Rate  Transaction_Amount  \\\n",
       "0                     59.87                 15.60               15.60   \n",
       "1                     59.24                  4.65               60.75   \n",
       "2                     89.48                 59.79               92.19   \n",
       "3                     35.85                 11.59               86.31   \n",
       "4                     50.86                 90.76               24.93   \n",
       "\n",
       "   Product_Rating Preferred Communication Channel Membership Status  \\\n",
       "0               6                           Email               Yes   \n",
       "1              17                           Phone               Yes   \n",
       "2               9                             SMS               Yes   \n",
       "3              62                           Email               Yes   \n",
       "4              41                           Phone               Yes   \n",
       "\n",
       "  Product_Category_Preference  High_Value_Purchase_Count  \\\n",
       "0                       Basic                       2.06   \n",
       "1                        Gold                      80.84   \n",
       "2                    Platinum                      38.87   \n",
       "3                    Platinum                      32.52   \n",
       "4                    Platinum                      28.98   \n",
       "\n",
       "   Customer Support Calls  Website_Click_Through_Rate  Newsletter Open Rate  \\\n",
       "0                   96.99                          83                  21.2   \n",
       "1                   30.46                          10                  68.4   \n",
       "2                   27.13                          83                  35.7   \n",
       "3                   72.96                          64                  88.7   \n",
       "4                   16.12                          93                  80.8   \n",
       "\n",
       "   Social_Media_Engagement_Score  Referral Count  Account Age  Feedback_Score  \\\n",
       "0                          18.18              18           30              52   \n",
       "1                          44.02              12           50               3   \n",
       "2                          28.09              54           14              80   \n",
       "3                          47.22              12           71              76   \n",
       "4                          63.34              87           80              19   \n",
       "\n",
       "  Product_Return_Rate  Marketing_Email_Click_Rate  Subscription_Status  \\\n",
       "0                 Yes                       29.12                    1   \n",
       "1                  No                       25.88                    1   \n",
       "2                 Yes                       98.69                    1   \n",
       "3                  No                       77.10                    0   \n",
       "4                  No                       53.93                    1   \n",
       "\n",
       "   Product_Upsell_Success Customer_Segment_Group Interest_in_New_Product  \\\n",
       "0                       1                      C                      No   \n",
       "1                       1                      C                      No   \n",
       "2                       1                      C                      No   \n",
       "3                       1                      C                      No   \n",
       "4                       0                      D                     Yes   \n",
       "\n",
       "  Income_Level    minmax  standardized  l2_normalize  \n",
       "0         High  0.001395     -0.640736      0.000223  \n",
       "1          Low  0.054754      0.275958      0.008759  \n",
       "2          Low  0.026327     -0.212410      0.004211  \n",
       "3          Low  0.022026     -0.286299      0.003523  \n",
       "4       Medium  0.019629     -0.327491      0.003140  "
      ]
     },
     "execution_count": 51,
     "metadata": {},
     "output_type": "execute_result"
    }
   ],
   "source": [
    "business_dataset.head()"
   ]
  },
  {
   "cell_type": "code",
   "execution_count": 52,
   "id": "562dad69",
   "metadata": {
    "scrolled": true
   },
   "outputs": [
    {
     "data": {
      "text/html": [
       "<div>\n",
       "<style scoped>\n",
       "    .dataframe tbody tr th:only-of-type {\n",
       "        vertical-align: middle;\n",
       "    }\n",
       "\n",
       "    .dataframe tbody tr th {\n",
       "        vertical-align: top;\n",
       "    }\n",
       "\n",
       "    .dataframe thead th {\n",
       "        text-align: right;\n",
       "    }\n",
       "</style>\n",
       "<table border=\"1\" class=\"dataframe\">\n",
       "  <thead>\n",
       "    <tr style=\"text-align: right;\">\n",
       "      <th></th>\n",
       "      <th>minmax</th>\n",
       "      <th>standardized</th>\n",
       "      <th>l2_normalize</th>\n",
       "    </tr>\n",
       "  </thead>\n",
       "  <tbody>\n",
       "    <tr>\n",
       "      <th>count</th>\n",
       "      <td>8000.000000</td>\n",
       "      <td>8.000000e+03</td>\n",
       "      <td>8000.000000</td>\n",
       "    </tr>\n",
       "    <tr>\n",
       "      <th>mean</th>\n",
       "      <td>0.038691</td>\n",
       "      <td>3.108624e-17</td>\n",
       "      <td>0.006189</td>\n",
       "    </tr>\n",
       "    <tr>\n",
       "      <th>std</th>\n",
       "      <td>0.058212</td>\n",
       "      <td>1.000063e+00</td>\n",
       "      <td>0.009312</td>\n",
       "    </tr>\n",
       "    <tr>\n",
       "      <th>min</th>\n",
       "      <td>0.000000</td>\n",
       "      <td>-6.647061e-01</td>\n",
       "      <td>0.000000</td>\n",
       "    </tr>\n",
       "    <tr>\n",
       "      <th>25%</th>\n",
       "      <td>0.017316</td>\n",
       "      <td>-3.672285e-01</td>\n",
       "      <td>0.002770</td>\n",
       "    </tr>\n",
       "    <tr>\n",
       "      <th>50%</th>\n",
       "      <td>0.034384</td>\n",
       "      <td>-7.399811e-02</td>\n",
       "      <td>0.005500</td>\n",
       "    </tr>\n",
       "    <tr>\n",
       "      <th>75%</th>\n",
       "      <td>0.051239</td>\n",
       "      <td>2.155669e-01</td>\n",
       "      <td>0.008196</td>\n",
       "    </tr>\n",
       "    <tr>\n",
       "      <th>max</th>\n",
       "      <td>1.000000</td>\n",
       "      <td>1.651510e+01</td>\n",
       "      <td>0.159962</td>\n",
       "    </tr>\n",
       "  </tbody>\n",
       "</table>\n",
       "</div>"
      ],
      "text/plain": [
       "            minmax  standardized  l2_normalize\n",
       "count  8000.000000  8.000000e+03   8000.000000\n",
       "mean      0.038691  3.108624e-17      0.006189\n",
       "std       0.058212  1.000063e+00      0.009312\n",
       "min       0.000000 -6.647061e-01      0.000000\n",
       "25%       0.017316 -3.672285e-01      0.002770\n",
       "50%       0.034384 -7.399811e-02      0.005500\n",
       "75%       0.051239  2.155669e-01      0.008196\n",
       "max       1.000000  1.651510e+01      0.159962"
      ]
     },
     "execution_count": 52,
     "metadata": {},
     "output_type": "execute_result"
    }
   ],
   "source": [
    "bd_features=business_dataset[['minmax', 'standardized', 'l2_normalize']]\n",
    "bd_features.describe()"
   ]
  },
  {
   "cell_type": "code",
   "execution_count": 53,
   "id": "efd71075",
   "metadata": {},
   "outputs": [
    {
     "name": "stdout",
     "output_type": "stream",
     "text": [
      "High_Value_Purchase_Count\n",
      "28.48    6\n",
      "99.43    5\n",
      "83.97    5\n",
      "60.78    5\n",
      "9.71     5\n",
      "55.77    5\n",
      "71.79    5\n",
      "86.20    5\n",
      "16.86    4\n",
      "92.69    4\n",
      "Name: count, dtype: int64\n"
     ]
    }
   ],
   "source": [
    "top_10_modes = business_dataset['High_Value_Purchase_Count'].value_counts().head(10)\n",
    "\n",
    "print(top_10_modes)"
   ]
  },
  {
   "cell_type": "code",
   "execution_count": 54,
   "id": "bd497607",
   "metadata": {},
   "outputs": [
    {
     "data": {
      "text/plain": [
       "High_Value_Purchase_Count\n",
       "28.48    0.000750\n",
       "99.43    0.000625\n",
       "83.97    0.000625\n",
       "60.78    0.000625\n",
       "9.71     0.000625\n",
       "           ...   \n",
       "30.36    0.000125\n",
       "77.93    0.000125\n",
       "6.65     0.000125\n",
       "88.24    0.000125\n",
       "19.22    0.000125\n",
       "Name: count, Length: 5561, dtype: float64"
      ]
     },
     "execution_count": 54,
     "metadata": {},
     "output_type": "execute_result"
    }
   ],
   "source": [
    "relative_frequencies2 = value_counts2/len(business_dataset)   \n",
    "relative_frequencies2"
   ]
  },
  {
   "cell_type": "code",
   "execution_count": 55,
   "id": "32d4c47f",
   "metadata": {},
   "outputs": [],
   "source": [
    "subtable2 = pd.DataFrame({'High_Value_Purchase_Count': value_counts2.index,\n",
    "                        'Frequency': value_counts2.values,\n",
    "                        'Relative Frequency': relative_frequencies2.values})"
   ]
  },
  {
   "cell_type": "code",
   "execution_count": 56,
   "id": "c58de68a",
   "metadata": {},
   "outputs": [
    {
     "data": {
      "text/html": [
       "<div>\n",
       "<style scoped>\n",
       "    .dataframe tbody tr th:only-of-type {\n",
       "        vertical-align: middle;\n",
       "    }\n",
       "\n",
       "    .dataframe tbody tr th {\n",
       "        vertical-align: top;\n",
       "    }\n",
       "\n",
       "    .dataframe thead th {\n",
       "        text-align: right;\n",
       "    }\n",
       "</style>\n",
       "<table border=\"1\" class=\"dataframe\">\n",
       "  <thead>\n",
       "    <tr style=\"text-align: right;\">\n",
       "      <th></th>\n",
       "      <th>High_Value_Purchase_Count</th>\n",
       "      <th>Frequency</th>\n",
       "      <th>Relative Frequency</th>\n",
       "    </tr>\n",
       "  </thead>\n",
       "  <tbody>\n",
       "    <tr>\n",
       "      <th>0</th>\n",
       "      <td>28.48</td>\n",
       "      <td>6</td>\n",
       "      <td>0.000750</td>\n",
       "    </tr>\n",
       "    <tr>\n",
       "      <th>1</th>\n",
       "      <td>99.43</td>\n",
       "      <td>5</td>\n",
       "      <td>0.000625</td>\n",
       "    </tr>\n",
       "    <tr>\n",
       "      <th>2</th>\n",
       "      <td>83.97</td>\n",
       "      <td>5</td>\n",
       "      <td>0.000625</td>\n",
       "    </tr>\n",
       "    <tr>\n",
       "      <th>3</th>\n",
       "      <td>60.78</td>\n",
       "      <td>5</td>\n",
       "      <td>0.000625</td>\n",
       "    </tr>\n",
       "    <tr>\n",
       "      <th>4</th>\n",
       "      <td>9.71</td>\n",
       "      <td>5</td>\n",
       "      <td>0.000625</td>\n",
       "    </tr>\n",
       "    <tr>\n",
       "      <th>...</th>\n",
       "      <td>...</td>\n",
       "      <td>...</td>\n",
       "      <td>...</td>\n",
       "    </tr>\n",
       "    <tr>\n",
       "      <th>5556</th>\n",
       "      <td>30.36</td>\n",
       "      <td>1</td>\n",
       "      <td>0.000125</td>\n",
       "    </tr>\n",
       "    <tr>\n",
       "      <th>5557</th>\n",
       "      <td>77.93</td>\n",
       "      <td>1</td>\n",
       "      <td>0.000125</td>\n",
       "    </tr>\n",
       "    <tr>\n",
       "      <th>5558</th>\n",
       "      <td>6.65</td>\n",
       "      <td>1</td>\n",
       "      <td>0.000125</td>\n",
       "    </tr>\n",
       "    <tr>\n",
       "      <th>5559</th>\n",
       "      <td>88.24</td>\n",
       "      <td>1</td>\n",
       "      <td>0.000125</td>\n",
       "    </tr>\n",
       "    <tr>\n",
       "      <th>5560</th>\n",
       "      <td>19.22</td>\n",
       "      <td>1</td>\n",
       "      <td>0.000125</td>\n",
       "    </tr>\n",
       "  </tbody>\n",
       "</table>\n",
       "<p>5561 rows × 3 columns</p>\n",
       "</div>"
      ],
      "text/plain": [
       "      High_Value_Purchase_Count  Frequency  Relative Frequency\n",
       "0                         28.48          6            0.000750\n",
       "1                         99.43          5            0.000625\n",
       "2                         83.97          5            0.000625\n",
       "3                         60.78          5            0.000625\n",
       "4                          9.71          5            0.000625\n",
       "...                         ...        ...                 ...\n",
       "5556                      30.36          1            0.000125\n",
       "5557                      77.93          1            0.000125\n",
       "5558                       6.65          1            0.000125\n",
       "5559                      88.24          1            0.000125\n",
       "5560                      19.22          1            0.000125\n",
       "\n",
       "[5561 rows x 3 columns]"
      ]
     },
     "execution_count": 56,
     "metadata": {},
     "output_type": "execute_result"
    }
   ],
   "source": [
    "subtable2"
   ]
  },
  {
   "cell_type": "code",
   "execution_count": 57,
   "id": "7c43f4d2",
   "metadata": {},
   "outputs": [
    {
     "data": {
      "text/plain": [
       "minmax\n",
       "0.019290    6\n",
       "0.067345    5\n",
       "0.056874    5\n",
       "0.041167    5\n",
       "0.006577    5\n",
       "           ..\n",
       "0.020563    1\n",
       "0.052783    1\n",
       "0.004504    1\n",
       "0.059766    1\n",
       "0.013018    1\n",
       "Name: count, Length: 5561, dtype: int64"
      ]
     },
     "execution_count": 57,
     "metadata": {},
     "output_type": "execute_result"
    }
   ],
   "source": [
    "value_counts_minmax = business_dataset['minmax'].value_counts()\n",
    "value_counts_minmax"
   ]
  },
  {
   "cell_type": "code",
   "execution_count": 58,
   "id": "a24ed719",
   "metadata": {},
   "outputs": [
    {
     "data": {
      "text/plain": [
       "minmax\n",
       "0.019290    0.000750\n",
       "0.067345    0.000625\n",
       "0.056874    0.000625\n",
       "0.041167    0.000625\n",
       "0.006577    0.000625\n",
       "              ...   \n",
       "0.020563    0.000125\n",
       "0.052783    0.000125\n",
       "0.004504    0.000125\n",
       "0.059766    0.000125\n",
       "0.013018    0.000125\n",
       "Name: count, Length: 5561, dtype: float64"
      ]
     },
     "execution_count": 58,
     "metadata": {},
     "output_type": "execute_result"
    }
   ],
   "source": [
    "relative_frequencies_minmax = value_counts_minmax/len(business_dataset)  \n",
    "relative_frequencies_minmax"
   ]
  },
  {
   "cell_type": "code",
   "execution_count": 59,
   "id": "f12401d2",
   "metadata": {},
   "outputs": [],
   "source": [
    "subtable_minmax = pd.DataFrame({'High_Value_Purchase_Count': value_counts_minmax.index,\n",
    "                        'Frequency': value_counts_minmax.values,\n",
    "                        'Relative Frequency': relative_frequencies_minmax.values})"
   ]
  },
  {
   "cell_type": "code",
   "execution_count": 60,
   "id": "697c219b",
   "metadata": {},
   "outputs": [
    {
     "data": {
      "text/html": [
       "<div>\n",
       "<style scoped>\n",
       "    .dataframe tbody tr th:only-of-type {\n",
       "        vertical-align: middle;\n",
       "    }\n",
       "\n",
       "    .dataframe tbody tr th {\n",
       "        vertical-align: top;\n",
       "    }\n",
       "\n",
       "    .dataframe thead th {\n",
       "        text-align: right;\n",
       "    }\n",
       "</style>\n",
       "<table border=\"1\" class=\"dataframe\">\n",
       "  <thead>\n",
       "    <tr style=\"text-align: right;\">\n",
       "      <th></th>\n",
       "      <th>High_Value_Purchase_Count</th>\n",
       "      <th>Frequency</th>\n",
       "      <th>Relative Frequency</th>\n",
       "    </tr>\n",
       "  </thead>\n",
       "  <tbody>\n",
       "    <tr>\n",
       "      <th>0</th>\n",
       "      <td>0.019290</td>\n",
       "      <td>6</td>\n",
       "      <td>0.000750</td>\n",
       "    </tr>\n",
       "    <tr>\n",
       "      <th>1</th>\n",
       "      <td>0.067345</td>\n",
       "      <td>5</td>\n",
       "      <td>0.000625</td>\n",
       "    </tr>\n",
       "    <tr>\n",
       "      <th>2</th>\n",
       "      <td>0.056874</td>\n",
       "      <td>5</td>\n",
       "      <td>0.000625</td>\n",
       "    </tr>\n",
       "    <tr>\n",
       "      <th>3</th>\n",
       "      <td>0.041167</td>\n",
       "      <td>5</td>\n",
       "      <td>0.000625</td>\n",
       "    </tr>\n",
       "    <tr>\n",
       "      <th>4</th>\n",
       "      <td>0.006577</td>\n",
       "      <td>5</td>\n",
       "      <td>0.000625</td>\n",
       "    </tr>\n",
       "    <tr>\n",
       "      <th>...</th>\n",
       "      <td>...</td>\n",
       "      <td>...</td>\n",
       "      <td>...</td>\n",
       "    </tr>\n",
       "    <tr>\n",
       "      <th>5556</th>\n",
       "      <td>0.020563</td>\n",
       "      <td>1</td>\n",
       "      <td>0.000125</td>\n",
       "    </tr>\n",
       "    <tr>\n",
       "      <th>5557</th>\n",
       "      <td>0.052783</td>\n",
       "      <td>1</td>\n",
       "      <td>0.000125</td>\n",
       "    </tr>\n",
       "    <tr>\n",
       "      <th>5558</th>\n",
       "      <td>0.004504</td>\n",
       "      <td>1</td>\n",
       "      <td>0.000125</td>\n",
       "    </tr>\n",
       "    <tr>\n",
       "      <th>5559</th>\n",
       "      <td>0.059766</td>\n",
       "      <td>1</td>\n",
       "      <td>0.000125</td>\n",
       "    </tr>\n",
       "    <tr>\n",
       "      <th>5560</th>\n",
       "      <td>0.013018</td>\n",
       "      <td>1</td>\n",
       "      <td>0.000125</td>\n",
       "    </tr>\n",
       "  </tbody>\n",
       "</table>\n",
       "<p>5561 rows × 3 columns</p>\n",
       "</div>"
      ],
      "text/plain": [
       "      High_Value_Purchase_Count  Frequency  Relative Frequency\n",
       "0                      0.019290          6            0.000750\n",
       "1                      0.067345          5            0.000625\n",
       "2                      0.056874          5            0.000625\n",
       "3                      0.041167          5            0.000625\n",
       "4                      0.006577          5            0.000625\n",
       "...                         ...        ...                 ...\n",
       "5556                   0.020563          1            0.000125\n",
       "5557                   0.052783          1            0.000125\n",
       "5558                   0.004504          1            0.000125\n",
       "5559                   0.059766          1            0.000125\n",
       "5560                   0.013018          1            0.000125\n",
       "\n",
       "[5561 rows x 3 columns]"
      ]
     },
     "execution_count": 60,
     "metadata": {},
     "output_type": "execute_result"
    }
   ],
   "source": [
    "subtable_minmax"
   ]
  },
  {
   "cell_type": "code",
   "execution_count": 61,
   "id": "89826ef8",
   "metadata": {},
   "outputs": [
    {
     "data": {
      "image/png": "[encoded data removed]",
      "text/plain": [
       "<Figure size 640x480 with 1 Axes>"
      ]
     },
     "metadata": {},
     "output_type": "display_data"
    }
   ],
   "source": [
    "color = 'grey'\n",
    "min_max_no_outliers = business_dataset['minmax']\n",
    "sns.boxplot(y=min_max_no_outliers, color=color)\n",
    "plt.ylabel('minmax_count')\n",
    "plt.xlabel('Figure 5: minmax')\n",
    "plt.show()"
   ]
  },
  {
   "cell_type": "code",
   "execution_count": 62,
   "id": "69dc3495",
   "metadata": {},
   "outputs": [
    {
     "data": {
      "image/png": "[encoded data removed]",
      "text/plain": [
       "<Figure size 800x600 with 1 Axes>"
      ]
     },
     "metadata": {},
     "output_type": "display_data"
    }
   ],
   "source": [
    "plt.figure(figsize=(8, 6))\n",
    "plt.scatter(business_dataset['minmax'], range(len(business_dataset)), alpha=0.5, color='grey') \n",
    "plt.title('Scatter Plot of High_Value_Purchase_Count')\n",
    "plt.xlabel('Figure 6: High_Value_Purchase_Count') \n",
    "plt.ylabel('Index')\n",
    "plt.grid(True)\n",
    "plt.show()"
   ]
  },
  {
   "cell_type": "code",
   "execution_count": 63,
   "id": "31674b01",
   "metadata": {},
   "outputs": [
    {
     "data": {
      "text/plain": [
       "array(['Basic', 'Gold', 'Platinum'], dtype=object)"
      ]
     },
     "execution_count": 63,
     "metadata": {},
     "output_type": "execute_result"
    }
   ],
   "source": [
    "business_dataset['Product_Category_Preference'].unique()"
   ]
  },
  {
   "cell_type": "code",
   "execution_count": 64,
   "id": "4720ce9f",
   "metadata": {},
   "outputs": [],
   "source": [
    "total_sales_by_product_category = business_dataset.groupby('Product_Category_Preference')['Transaction_Amount'].sum()"
   ]
  },
  {
   "cell_type": "code",
   "execution_count": 65,
   "id": "acb7ef9d",
   "metadata": {},
   "outputs": [
    {
     "data": {
      "image/png": "[encoded data removed]",
      "text/plain": [
       "<Figure size 400x400 with 1 Axes>"
      ]
     },
     "metadata": {},
     "output_type": "display_data"
    }
   ],
   "source": [
    "colors1 = ['grey', 'pink', 'orange',]\n",
    "\n",
    "plt.figure(figsize=(4, 4))\n",
    "plt.pie(total_sales_by_product_category, labels=total_sales_by_product_category.index, autopct='%1.1f%%', colors=colors1)\n",
    "plt.title('Figure 7: Proportion by Product Category')\n",
    "plt.show()"
   ]
  },
  {
   "cell_type": "code",
   "execution_count": 66,
   "id": "f64d16d1",
   "metadata": {},
   "outputs": [
    {
     "data": {
      "image/png": "[encoded data removed]",
      "text/plain": [
       "<Figure size 640x480 with 1 Axes>"
      ]
     },
     "metadata": {},
     "output_type": "display_data"
    }
   ],
   "source": [
    "palette = ['grey', 'pink', 'orange',]\n",
    "\n",
    "sns.boxplot(x = 'Product_Category_Preference', y = 'Transaction_Amount', data = business_dataset, hue = 'Product_Category_Preference', palette=palette)\n",
    "plt.title('Figure 8: Product_Category_Preference and Transaction_Amount', fontsize = 14)\n",
    "plt.legend([], [],frameon = False)\n",
    "plt.show()"
   ]
  },
  {
   "cell_type": "code",
   "execution_count": 67,
   "id": "b5887718",
   "metadata": {},
   "outputs": [
    {
     "data": {
      "text/plain": [
       "[Text(0.5, 0, 'Transaction_Amount'),\n",
       " Text(0, 0.5, 'Product_Category_Preference'),\n",
       " Text(0.5, 1.0, 'Figure 9: Transaction_Amount Histogram')]"
      ]
     },
     "execution_count": 67,
     "metadata": {},
     "output_type": "execute_result"
    },
    {
     "data": {
      "image/png": "[encoded data removed]",
      "text/plain": [
       "<Figure size 640x480 with 1 Axes>"
      ]
     },
     "metadata": {},
     "output_type": "display_data"
    }
   ],
   "source": [
    "ax = sns.histplot(business_dataset.Product_Category_Preference, kde = True, color = 'grey')\n",
    "ax.set(xlabel = 'Transaction_Amount', ylabel = 'Product_Category_Preference', title = 'Figure 9: Transaction_Amount Histogram')"
   ]
  },
  {
   "cell_type": "code",
   "execution_count": 68,
   "id": "f29f306d",
   "metadata": {},
   "outputs": [
    {
     "data": {
      "image/png": "[encoded data removed]",
      "text/plain": [
       "<Figure size 800x600 with 1 Axes>"
      ]
     },
     "metadata": {},
     "output_type": "display_data"
    }
   ],
   "source": [
    "plt.figure(figsize=(8, 6))\n",
    "plt.scatter(business_dataset['Transaction_Amount'], business_dataset['High_Value_Purchase_Count'], alpha=0.5, c='grey')\n",
    "plt.title('Scatter Plot High_Value_Purchase_Count and Transaction_Amount')\n",
    "plt.xlabel('Figure 10: Transaction_Amount')\n",
    "plt.ylabel('High_Value_Purchase_Count')\n",
    "plt.grid(True)\n",
    "plt.show()"
   ]
  },
  {
   "cell_type": "code",
   "execution_count": 69,
   "id": "75bed0ca",
   "metadata": {},
   "outputs": [
    {
     "data": {
      "text/plain": [
       "[Text(0.5, 0, 'Amount'),\n",
       " Text(0, 0.5, 'Transactions'),\n",
       " Text(0.5, 1.0, ' Figure 11: Sales Histogram')]"
      ]
     },
     "execution_count": 69,
     "metadata": {},
     "output_type": "execute_result"
    },
    {
     "data": {
      "image/png": "[encoded data removed]",
      "text/plain": [
       "<Figure size 640x480 with 1 Axes>"
      ]
     },
     "metadata": {},
     "output_type": "display_data"
    }
   ],
   "source": [
    "ax = sns.histplot(business_dataset['Transaction_Amount'], kde=True, color ='grey')\n",
    "ax.set(xlabel='Amount', ylabel='Transactions', title =' Figure 11: Sales Histogram')"
   ]
  },
  {
   "cell_type": "code",
   "execution_count": 70,
   "id": "3bffe415",
   "metadata": {},
   "outputs": [
    {
     "data": {
      "text/plain": [
       "Text(0.5, 0, 'Figure 12: Transaction_Amount')"
      ]
     },
     "execution_count": 70,
     "metadata": {},
     "output_type": "execute_result"
    },
    {
     "data": {
      "image/png": "[encoded data removed]",
      "text/plain": [
       "<Figure size 640x480 with 1 Axes>"
      ]
     },
     "metadata": {},
     "output_type": "display_data"
    }
   ],
   "source": [
    "color3 = 'grey'\n",
    "\n",
    "sns.boxplot(data=business_dataset, x='Transaction_Amount', palette=[color3])\n",
    "plt.xlabel('Figure 12: Transaction_Amount')"
   ]
  },
  {
   "cell_type": "markdown",
   "id": "bc34e1dc",
   "metadata": {},
   "source": [
    "## Campaign Response Rate:\n"
   ]
  },
  {
   "cell_type": "markdown",
   "id": "c74b808a",
   "metadata": {},
   "source": [
    "#### Now, we gonna look at on representing by Marketing Email Click Rate(Numerical), Social Media Engagement Score(continuous numerical), Product Upsell Success(binary numerical), Interest in New Product (Binary categorical)."
   ]
  },
  {
   "cell_type": "code",
   "execution_count": 71,
   "id": "15cdb75a",
   "metadata": {},
   "outputs": [
    {
     "data": {
      "text/html": [
       "<div>\n",
       "<style scoped>\n",
       "    .dataframe tbody tr th:only-of-type {\n",
       "        vertical-align: middle;\n",
       "    }\n",
       "\n",
       "    .dataframe tbody tr th {\n",
       "        vertical-align: top;\n",
       "    }\n",
       "\n",
       "    .dataframe thead th {\n",
       "        text-align: right;\n",
       "    }\n",
       "</style>\n",
       "<table border=\"1\" class=\"dataframe\">\n",
       "  <thead>\n",
       "    <tr style=\"text-align: right;\">\n",
       "      <th></th>\n",
       "      <th>Marketing_Email_Click_Rate</th>\n",
       "      <th>Social_Media_Engagement_Score</th>\n",
       "      <th>Product_Upsell_Success</th>\n",
       "    </tr>\n",
       "  </thead>\n",
       "  <tbody>\n",
       "    <tr>\n",
       "      <th>count</th>\n",
       "      <td>8000.000000</td>\n",
       "      <td>8000.000000</td>\n",
       "      <td>8000.000000</td>\n",
       "    </tr>\n",
       "    <tr>\n",
       "      <th>mean</th>\n",
       "      <td>49.413815</td>\n",
       "      <td>50.521145</td>\n",
       "      <td>0.497125</td>\n",
       "    </tr>\n",
       "    <tr>\n",
       "      <th>std</th>\n",
       "      <td>28.729436</td>\n",
       "      <td>28.759969</td>\n",
       "      <td>0.500023</td>\n",
       "    </tr>\n",
       "    <tr>\n",
       "      <th>min</th>\n",
       "      <td>0.010000</td>\n",
       "      <td>0.000000</td>\n",
       "      <td>0.000000</td>\n",
       "    </tr>\n",
       "    <tr>\n",
       "      <th>25%</th>\n",
       "      <td>24.425000</td>\n",
       "      <td>25.430000</td>\n",
       "      <td>0.000000</td>\n",
       "    </tr>\n",
       "    <tr>\n",
       "      <th>50%</th>\n",
       "      <td>49.345000</td>\n",
       "      <td>50.705000</td>\n",
       "      <td>0.000000</td>\n",
       "    </tr>\n",
       "    <tr>\n",
       "      <th>75%</th>\n",
       "      <td>73.675000</td>\n",
       "      <td>75.480000</td>\n",
       "      <td>1.000000</td>\n",
       "    </tr>\n",
       "    <tr>\n",
       "      <th>max</th>\n",
       "      <td>99.970000</td>\n",
       "      <td>100.000000</td>\n",
       "      <td>1.000000</td>\n",
       "    </tr>\n",
       "  </tbody>\n",
       "</table>\n",
       "</div>"
      ],
      "text/plain": [
       "       Marketing_Email_Click_Rate  Social_Media_Engagement_Score  \\\n",
       "count                 8000.000000                    8000.000000   \n",
       "mean                    49.413815                      50.521145   \n",
       "std                     28.729436                      28.759969   \n",
       "min                      0.010000                       0.000000   \n",
       "25%                     24.425000                      25.430000   \n",
       "50%                     49.345000                      50.705000   \n",
       "75%                     73.675000                      75.480000   \n",
       "max                     99.970000                     100.000000   \n",
       "\n",
       "       Product_Upsell_Success  \n",
       "count             8000.000000  \n",
       "mean                 0.497125  \n",
       "std                  0.500023  \n",
       "min                  0.000000  \n",
       "25%                  0.000000  \n",
       "50%                  0.000000  \n",
       "75%                  1.000000  \n",
       "max                  1.000000  "
      ]
     },
     "execution_count": 71,
     "metadata": {},
     "output_type": "execute_result"
    }
   ],
   "source": [
    "bd_features=business_dataset[['Marketing_Email_Click_Rate', 'Social_Media_Engagement_Score', 'Product_Upsell_Success', 'Interest_in_New_Product']]\n",
    "bd_features.describe()"
   ]
  },
  {
   "cell_type": "code",
   "execution_count": 72,
   "id": "e782441d",
   "metadata": {},
   "outputs": [
    {
     "data": {
      "text/plain": [
       "Marketing_Email_Click_Rate\n",
       "28.48    6\n",
       "13.19    6\n",
       "85.91    5\n",
       "14.82    5\n",
       "54.81    5\n",
       "        ..\n",
       "6.86     1\n",
       "85.66    1\n",
       "81.37    1\n",
       "60.47    1\n",
       "4.56     1\n",
       "Name: count, Length: 5552, dtype: int64"
      ]
     },
     "execution_count": 72,
     "metadata": {},
     "output_type": "execute_result"
    }
   ],
   "source": [
    "value_counts3 = business_dataset['Marketing_Email_Click_Rate'].value_counts()\n",
    "value_counts3"
   ]
  },
  {
   "cell_type": "code",
   "execution_count": 73,
   "id": "71599251",
   "metadata": {},
   "outputs": [
    {
     "data": {
      "text/plain": [
       "Marketing_Email_Click_Rate\n",
       "28.48    0.000750\n",
       "13.19    0.000750\n",
       "85.91    0.000625\n",
       "14.82    0.000625\n",
       "54.81    0.000625\n",
       "           ...   \n",
       "6.86     0.000125\n",
       "85.66    0.000125\n",
       "81.37    0.000125\n",
       "60.47    0.000125\n",
       "4.56     0.000125\n",
       "Name: count, Length: 5552, dtype: float64"
      ]
     },
     "execution_count": 73,
     "metadata": {},
     "output_type": "execute_result"
    }
   ],
   "source": [
    "relative_frequencies3 = value_counts3/len(business_dataset)\n",
    "relative_frequencies3"
   ]
  },
  {
   "cell_type": "code",
   "execution_count": 74,
   "id": "ac1e21d8",
   "metadata": {},
   "outputs": [],
   "source": [
    "subtable3 = pd.DataFrame({'Marketing_Email_Click_Rate': value_counts3.index,\n",
    "                        'Frequency': value_counts3.values,\n",
    "                        'Relative Frequency': relative_frequencies3.values})"
   ]
  },
  {
   "cell_type": "code",
   "execution_count": 75,
   "id": "b53abb2e",
   "metadata": {},
   "outputs": [
    {
     "data": {
      "text/html": [
       "<div>\n",
       "<style scoped>\n",
       "    .dataframe tbody tr th:only-of-type {\n",
       "        vertical-align: middle;\n",
       "    }\n",
       "\n",
       "    .dataframe tbody tr th {\n",
       "        vertical-align: top;\n",
       "    }\n",
       "\n",
       "    .dataframe thead th {\n",
       "        text-align: right;\n",
       "    }\n",
       "</style>\n",
       "<table border=\"1\" class=\"dataframe\">\n",
       "  <thead>\n",
       "    <tr style=\"text-align: right;\">\n",
       "      <th></th>\n",
       "      <th>Marketing_Email_Click_Rate</th>\n",
       "      <th>Frequency</th>\n",
       "      <th>Relative Frequency</th>\n",
       "    </tr>\n",
       "  </thead>\n",
       "  <tbody>\n",
       "    <tr>\n",
       "      <th>0</th>\n",
       "      <td>28.48</td>\n",
       "      <td>6</td>\n",
       "      <td>0.000750</td>\n",
       "    </tr>\n",
       "    <tr>\n",
       "      <th>1</th>\n",
       "      <td>13.19</td>\n",
       "      <td>6</td>\n",
       "      <td>0.000750</td>\n",
       "    </tr>\n",
       "    <tr>\n",
       "      <th>2</th>\n",
       "      <td>85.91</td>\n",
       "      <td>5</td>\n",
       "      <td>0.000625</td>\n",
       "    </tr>\n",
       "    <tr>\n",
       "      <th>3</th>\n",
       "      <td>14.82</td>\n",
       "      <td>5</td>\n",
       "      <td>0.000625</td>\n",
       "    </tr>\n",
       "    <tr>\n",
       "      <th>4</th>\n",
       "      <td>54.81</td>\n",
       "      <td>5</td>\n",
       "      <td>0.000625</td>\n",
       "    </tr>\n",
       "    <tr>\n",
       "      <th>...</th>\n",
       "      <td>...</td>\n",
       "      <td>...</td>\n",
       "      <td>...</td>\n",
       "    </tr>\n",
       "    <tr>\n",
       "      <th>5547</th>\n",
       "      <td>6.86</td>\n",
       "      <td>1</td>\n",
       "      <td>0.000125</td>\n",
       "    </tr>\n",
       "    <tr>\n",
       "      <th>5548</th>\n",
       "      <td>85.66</td>\n",
       "      <td>1</td>\n",
       "      <td>0.000125</td>\n",
       "    </tr>\n",
       "    <tr>\n",
       "      <th>5549</th>\n",
       "      <td>81.37</td>\n",
       "      <td>1</td>\n",
       "      <td>0.000125</td>\n",
       "    </tr>\n",
       "    <tr>\n",
       "      <th>5550</th>\n",
       "      <td>60.47</td>\n",
       "      <td>1</td>\n",
       "      <td>0.000125</td>\n",
       "    </tr>\n",
       "    <tr>\n",
       "      <th>5551</th>\n",
       "      <td>4.56</td>\n",
       "      <td>1</td>\n",
       "      <td>0.000125</td>\n",
       "    </tr>\n",
       "  </tbody>\n",
       "</table>\n",
       "<p>5552 rows × 3 columns</p>\n",
       "</div>"
      ],
      "text/plain": [
       "      Marketing_Email_Click_Rate  Frequency  Relative Frequency\n",
       "0                          28.48          6            0.000750\n",
       "1                          13.19          6            0.000750\n",
       "2                          85.91          5            0.000625\n",
       "3                          14.82          5            0.000625\n",
       "4                          54.81          5            0.000625\n",
       "...                          ...        ...                 ...\n",
       "5547                        6.86          1            0.000125\n",
       "5548                       85.66          1            0.000125\n",
       "5549                       81.37          1            0.000125\n",
       "5550                       60.47          1            0.000125\n",
       "5551                        4.56          1            0.000125\n",
       "\n",
       "[5552 rows x 3 columns]"
      ]
     },
     "execution_count": 75,
     "metadata": {},
     "output_type": "execute_result"
    }
   ],
   "source": [
    "subtable3"
   ]
  },
  {
   "cell_type": "markdown",
   "id": "df52f0d5",
   "metadata": {},
   "source": [
    "### Social Media Engagement Score"
   ]
  },
  {
   "cell_type": "code",
   "execution_count": 76,
   "id": "210ee56b",
   "metadata": {},
   "outputs": [
    {
     "data": {
      "text/plain": [
       "Social_Media_Engagement_Score\n",
       "69.13    6\n",
       "7.01     5\n",
       "62.13    5\n",
       "11.01    5\n",
       "7.37     5\n",
       "        ..\n",
       "22.56    1\n",
       "51.61    1\n",
       "23.10    1\n",
       "62.49    1\n",
       "12.81    1\n",
       "Name: count, Length: 5507, dtype: int64"
      ]
     },
     "execution_count": 76,
     "metadata": {},
     "output_type": "execute_result"
    }
   ],
   "source": [
    "value_counts4 = business_dataset['Social_Media_Engagement_Score'].value_counts()\n",
    "value_counts4"
   ]
  },
  {
   "cell_type": "code",
   "execution_count": 77,
   "id": "d5459dcb",
   "metadata": {},
   "outputs": [
    {
     "data": {
      "text/plain": [
       "Social_Media_Engagement_Score\n",
       "69.13    0.000750\n",
       "7.01     0.000625\n",
       "62.13    0.000625\n",
       "11.01    0.000625\n",
       "7.37     0.000625\n",
       "           ...   \n",
       "22.56    0.000125\n",
       "51.61    0.000125\n",
       "23.10    0.000125\n",
       "62.49    0.000125\n",
       "12.81    0.000125\n",
       "Name: count, Length: 5507, dtype: float64"
      ]
     },
     "execution_count": 77,
     "metadata": {},
     "output_type": "execute_result"
    }
   ],
   "source": [
    "relative_frequencies4 = value_counts4/len(business_dataset)\n",
    "relative_frequencies4"
   ]
  },
  {
   "cell_type": "code",
   "execution_count": 78,
   "id": "526878d4",
   "metadata": {},
   "outputs": [],
   "source": [
    "subtable4 = pd.DataFrame({'Social_Media_Engagement_Score': value_counts4.index,\n",
    "                        'Frequency': value_counts4.values,\n",
    "                        'Relative Frequency': relative_frequencies4.values})"
   ]
  },
  {
   "cell_type": "code",
   "execution_count": 79,
   "id": "37f77947",
   "metadata": {},
   "outputs": [
    {
     "data": {
      "text/html": [
       "<div>\n",
       "<style scoped>\n",
       "    .dataframe tbody tr th:only-of-type {\n",
       "        vertical-align: middle;\n",
       "    }\n",
       "\n",
       "    .dataframe tbody tr th {\n",
       "        vertical-align: top;\n",
       "    }\n",
       "\n",
       "    .dataframe thead th {\n",
       "        text-align: right;\n",
       "    }\n",
       "</style>\n",
       "<table border=\"1\" class=\"dataframe\">\n",
       "  <thead>\n",
       "    <tr style=\"text-align: right;\">\n",
       "      <th></th>\n",
       "      <th>Social_Media_Engagement_Score</th>\n",
       "      <th>Frequency</th>\n",
       "      <th>Relative Frequency</th>\n",
       "    </tr>\n",
       "  </thead>\n",
       "  <tbody>\n",
       "    <tr>\n",
       "      <th>0</th>\n",
       "      <td>69.13</td>\n",
       "      <td>6</td>\n",
       "      <td>0.000750</td>\n",
       "    </tr>\n",
       "    <tr>\n",
       "      <th>1</th>\n",
       "      <td>7.01</td>\n",
       "      <td>5</td>\n",
       "      <td>0.000625</td>\n",
       "    </tr>\n",
       "    <tr>\n",
       "      <th>2</th>\n",
       "      <td>62.13</td>\n",
       "      <td>5</td>\n",
       "      <td>0.000625</td>\n",
       "    </tr>\n",
       "    <tr>\n",
       "      <th>3</th>\n",
       "      <td>11.01</td>\n",
       "      <td>5</td>\n",
       "      <td>0.000625</td>\n",
       "    </tr>\n",
       "    <tr>\n",
       "      <th>4</th>\n",
       "      <td>7.37</td>\n",
       "      <td>5</td>\n",
       "      <td>0.000625</td>\n",
       "    </tr>\n",
       "    <tr>\n",
       "      <th>...</th>\n",
       "      <td>...</td>\n",
       "      <td>...</td>\n",
       "      <td>...</td>\n",
       "    </tr>\n",
       "    <tr>\n",
       "      <th>5502</th>\n",
       "      <td>22.56</td>\n",
       "      <td>1</td>\n",
       "      <td>0.000125</td>\n",
       "    </tr>\n",
       "    <tr>\n",
       "      <th>5503</th>\n",
       "      <td>51.61</td>\n",
       "      <td>1</td>\n",
       "      <td>0.000125</td>\n",
       "    </tr>\n",
       "    <tr>\n",
       "      <th>5504</th>\n",
       "      <td>23.10</td>\n",
       "      <td>1</td>\n",
       "      <td>0.000125</td>\n",
       "    </tr>\n",
       "    <tr>\n",
       "      <th>5505</th>\n",
       "      <td>62.49</td>\n",
       "      <td>1</td>\n",
       "      <td>0.000125</td>\n",
       "    </tr>\n",
       "    <tr>\n",
       "      <th>5506</th>\n",
       "      <td>12.81</td>\n",
       "      <td>1</td>\n",
       "      <td>0.000125</td>\n",
       "    </tr>\n",
       "  </tbody>\n",
       "</table>\n",
       "<p>5507 rows × 3 columns</p>\n",
       "</div>"
      ],
      "text/plain": [
       "      Social_Media_Engagement_Score  Frequency  Relative Frequency\n",
       "0                             69.13          6            0.000750\n",
       "1                              7.01          5            0.000625\n",
       "2                             62.13          5            0.000625\n",
       "3                             11.01          5            0.000625\n",
       "4                              7.37          5            0.000625\n",
       "...                             ...        ...                 ...\n",
       "5502                          22.56          1            0.000125\n",
       "5503                          51.61          1            0.000125\n",
       "5504                          23.10          1            0.000125\n",
       "5505                          62.49          1            0.000125\n",
       "5506                          12.81          1            0.000125\n",
       "\n",
       "[5507 rows x 3 columns]"
      ]
     },
     "execution_count": 79,
     "metadata": {},
     "output_type": "execute_result"
    }
   ],
   "source": [
    "subtable4"
   ]
  },
  {
   "cell_type": "code",
   "execution_count": 80,
   "id": "24728070",
   "metadata": {},
   "outputs": [
    {
     "data": {
      "image/png": "[encoded data removed]",
      "text/plain": [
       "<Figure size 640x480 with 1 Axes>"
      ]
     },
     "metadata": {},
     "output_type": "display_data"
    }
   ],
   "source": [
    "color3 = ['pink', 'grey']\n",
    "\n",
    "sns.boxplot(x = 'Product_Upsell_Success', y = 'Social_Media_Engagement_Score', data = business_dataset, hue = 'Product_Upsell_Success', palette=color3)\n",
    "plt.title('Figure 13: Product_Upsell_Success and Social_Media_Engagement_Score', fontsize = 14)\n",
    "plt.legend([], [],frameon = False)\n",
    "plt.show()"
   ]
  },
  {
   "cell_type": "code",
   "execution_count": 81,
   "id": "13e70ee0",
   "metadata": {},
   "outputs": [
    {
     "data": {
      "image/png": "[encoded data removed]",
      "text/plain": [
       "<Figure size 640x480 with 1 Axes>"
      ]
     },
     "metadata": {},
     "output_type": "display_data"
    }
   ],
   "source": [
    "color3 = ['pink', 'grey']\n",
    "\n",
    "sns.boxplot(x = 'Product_Upsell_Success', y = 'Marketing_Email_Click_Rate', data = business_dataset, hue = 'Product_Upsell_Success', palette=color3)\n",
    "plt.title('Figure 14: Product_Upsell_Success x Marketing_Email_Click_Rate', fontsize = 14)\n",
    "plt.legend([], [],frameon = False)\n",
    "plt.show()"
   ]
  },
  {
   "cell_type": "markdown",
   "id": "adbae9c5",
   "metadata": {},
   "source": [
    "### Product Upsell Success\n",
    "#### Upselling é uma estratégia de vendas na qual o vendedor sugere ao cliente a compra de produtos ou serviços adicionais, geralmente de maior valor ou com maior margem de lucro, em conjunto com o produto ou serviço original que o cliente já está interessado em adquiri"
   ]
  },
  {
   "cell_type": "code",
   "execution_count": 82,
   "id": "46dfe426",
   "metadata": {},
   "outputs": [
    {
     "data": {
      "text/plain": [
       "Product_Upsell_Success\n",
       "0    4023\n",
       "1    3977\n",
       "Name: count, dtype: int64"
      ]
     },
     "execution_count": 82,
     "metadata": {},
     "output_type": "execute_result"
    }
   ],
   "source": [
    "value_counts5 = business_dataset['Product_Upsell_Success'].value_counts()\n",
    "value_counts5"
   ]
  },
  {
   "cell_type": "code",
   "execution_count": 83,
   "id": "7378f08a",
   "metadata": {},
   "outputs": [
    {
     "data": {
      "text/plain": [
       "Product_Upsell_Success\n",
       "0    0.502875\n",
       "1    0.497125\n",
       "Name: count, dtype: float64"
      ]
     },
     "execution_count": 83,
     "metadata": {},
     "output_type": "execute_result"
    }
   ],
   "source": [
    "relative_frequencies5 = value_counts5/len(business_dataset) \n",
    "relative_frequencies5"
   ]
  },
  {
   "cell_type": "code",
   "execution_count": 84,
   "id": "9563a110",
   "metadata": {},
   "outputs": [],
   "source": [
    "subtable5 = pd.DataFrame({'Product_Upsell_Success': value_counts5.index,\n",
    "                        'Frequency': value_counts5.values,\n",
    "                        'Relative Frequency': relative_frequencies5.values})"
   ]
  },
  {
   "cell_type": "code",
   "execution_count": 85,
   "id": "e857315d",
   "metadata": {},
   "outputs": [
    {
     "data": {
      "text/html": [
       "<div>\n",
       "<style scoped>\n",
       "    .dataframe tbody tr th:only-of-type {\n",
       "        vertical-align: middle;\n",
       "    }\n",
       "\n",
       "    .dataframe tbody tr th {\n",
       "        vertical-align: top;\n",
       "    }\n",
       "\n",
       "    .dataframe thead th {\n",
       "        text-align: right;\n",
       "    }\n",
       "</style>\n",
       "<table border=\"1\" class=\"dataframe\">\n",
       "  <thead>\n",
       "    <tr style=\"text-align: right;\">\n",
       "      <th></th>\n",
       "      <th>Product_Upsell_Success</th>\n",
       "      <th>Frequency</th>\n",
       "      <th>Relative Frequency</th>\n",
       "    </tr>\n",
       "  </thead>\n",
       "  <tbody>\n",
       "    <tr>\n",
       "      <th>0</th>\n",
       "      <td>0</td>\n",
       "      <td>4023</td>\n",
       "      <td>0.502875</td>\n",
       "    </tr>\n",
       "    <tr>\n",
       "      <th>1</th>\n",
       "      <td>1</td>\n",
       "      <td>3977</td>\n",
       "      <td>0.497125</td>\n",
       "    </tr>\n",
       "  </tbody>\n",
       "</table>\n",
       "</div>"
      ],
      "text/plain": [
       "   Product_Upsell_Success  Frequency  Relative Frequency\n",
       "0                       0       4023            0.502875\n",
       "1                       1       3977            0.497125"
      ]
     },
     "execution_count": 85,
     "metadata": {},
     "output_type": "execute_result"
    }
   ],
   "source": [
    "subtable5"
   ]
  },
  {
   "cell_type": "code",
   "execution_count": 86,
   "id": "4559e390",
   "metadata": {},
   "outputs": [
    {
     "data": {
      "text/plain": [
       "Text(0.5, 1.0, 'Figure 15: Product_Upsell_Success')"
      ]
     },
     "execution_count": 86,
     "metadata": {},
     "output_type": "execute_result"
    },
    {
     "data": {
      "image/png": "[encoded data removed]",
      "text/plain": [
       "<Figure size 500x500 with 1 Axes>"
      ]
     },
     "metadata": {},
     "output_type": "display_data"
    }
   ],
   "source": [
    "colors = ['pink', 'grey']\n",
    "\n",
    "plt.figure(figsize = (5, 5))\n",
    "plt.pie(value_counts5, labels = value_counts5.index, autopct = '%1.2f%%', startangle = 140, colors=colors)\n",
    "plt.title('Figure 15: Product_Upsell_Success')"
   ]
  },
  {
   "cell_type": "markdown",
   "id": "59275b73",
   "metadata": {},
   "source": [
    "###  Interest in New Product"
   ]
  },
  {
   "cell_type": "code",
   "execution_count": 87,
   "id": "523951e8",
   "metadata": {},
   "outputs": [
    {
     "data": {
      "text/plain": [
       "Interest_in_New_Product\n",
       "Yes    4049\n",
       "No     3951\n",
       "Name: count, dtype: int64"
      ]
     },
     "execution_count": 87,
     "metadata": {},
     "output_type": "execute_result"
    }
   ],
   "source": [
    "value_counts6 = business_dataset['Interest_in_New_Product'].value_counts()\n",
    "value_counts6"
   ]
  },
  {
   "cell_type": "code",
   "execution_count": 88,
   "id": "d0d75ba3",
   "metadata": {},
   "outputs": [
    {
     "data": {
      "text/plain": [
       "Interest_in_New_Product\n",
       "Yes    0.506125\n",
       "No     0.493875\n",
       "Name: count, dtype: float64"
      ]
     },
     "execution_count": 88,
     "metadata": {},
     "output_type": "execute_result"
    }
   ],
   "source": [
    "relative_frequencies6 = value_counts6/len(business_dataset) \n",
    "relative_frequencies6"
   ]
  },
  {
   "cell_type": "code",
   "execution_count": 89,
   "id": "569ca47a",
   "metadata": {},
   "outputs": [],
   "source": [
    "subtable6 = pd.DataFrame({'Interest_in_New_Product': value_counts6.index,\n",
    "                        'Frequency': value_counts6.values,\n",
    "                        'Relative Frequency': relative_frequencies6.values})"
   ]
  },
  {
   "cell_type": "code",
   "execution_count": 90,
   "id": "b3521428",
   "metadata": {
    "scrolled": true
   },
   "outputs": [
    {
     "data": {
      "text/html": [
       "<div>\n",
       "<style scoped>\n",
       "    .dataframe tbody tr th:only-of-type {\n",
       "        vertical-align: middle;\n",
       "    }\n",
       "\n",
       "    .dataframe tbody tr th {\n",
       "        vertical-align: top;\n",
       "    }\n",
       "\n",
       "    .dataframe thead th {\n",
       "        text-align: right;\n",
       "    }\n",
       "</style>\n",
       "<table border=\"1\" class=\"dataframe\">\n",
       "  <thead>\n",
       "    <tr style=\"text-align: right;\">\n",
       "      <th></th>\n",
       "      <th>Interest_in_New_Product</th>\n",
       "      <th>Frequency</th>\n",
       "      <th>Relative Frequency</th>\n",
       "    </tr>\n",
       "  </thead>\n",
       "  <tbody>\n",
       "    <tr>\n",
       "      <th>0</th>\n",
       "      <td>Yes</td>\n",
       "      <td>4049</td>\n",
       "      <td>0.506125</td>\n",
       "    </tr>\n",
       "    <tr>\n",
       "      <th>1</th>\n",
       "      <td>No</td>\n",
       "      <td>3951</td>\n",
       "      <td>0.493875</td>\n",
       "    </tr>\n",
       "  </tbody>\n",
       "</table>\n",
       "</div>"
      ],
      "text/plain": [
       "  Interest_in_New_Product  Frequency  Relative Frequency\n",
       "0                     Yes       4049            0.506125\n",
       "1                      No       3951            0.493875"
      ]
     },
     "execution_count": 90,
     "metadata": {},
     "output_type": "execute_result"
    }
   ],
   "source": [
    "subtable6"
   ]
  },
  {
   "cell_type": "code",
   "execution_count": 91,
   "id": "3f33b3fa",
   "metadata": {},
   "outputs": [
    {
     "data": {
      "text/plain": [
       "Text(0.5, 1.0, 'Figure 16: Percentage who has Interest in New Product')"
      ]
     },
     "execution_count": 91,
     "metadata": {},
     "output_type": "execute_result"
    },
    {
     "data": {
      "image/png": "[encoded data removed]",
      "text/plain": [
       "<Figure size 500x500 with 1 Axes>"
      ]
     },
     "metadata": {},
     "output_type": "display_data"
    }
   ],
   "source": [
    "colors = ['pink', 'grey']\n",
    "\n",
    "plt.figure(figsize = (5, 5))\n",
    "plt.pie(value_counts6, labels = value_counts6.index, autopct = '%1.2f%%', startangle = 140, colors=colors)\n",
    "plt.title('Figure 16: Percentage who has Interest in New Product')"
   ]
  },
  {
   "cell_type": "markdown",
   "id": "7d7c1776",
   "metadata": {},
   "source": [
    "## Customer Feedback Score:\n",
    "Product Rating and Customer Satisfaction Score"
   ]
  },
  {
   "cell_type": "markdown",
   "id": "e93ce647",
   "metadata": {},
   "source": [
    "As the Product Rating has missing values as described on the Data Dictionary, its beeing considerated the zero as those missing values. However the zero will be transformed through the mean of the variable, on this case 50.01.    Then after realised this point it has been transformed the scale of 1 to 100 in 1 to 5 considering 1, 2 , 3, 4 and 5."
   ]
  },
  {
   "cell_type": "code",
   "execution_count": 92,
   "id": "54ab90c6",
   "metadata": {},
   "outputs": [
    {
     "name": "stdout",
     "output_type": "stream",
     "text": [
      "       Product_Rating  Customer_Satisfaction_Score\n",
      "count     8000.000000                  8000.000000\n",
      "mean        50.019625                    50.212000\n",
      "std         27.319000                    28.984204\n",
      "min          0.000000                     0.000000\n",
      "25%         28.000000                    25.000000\n",
      "50%         50.000000                    51.000000\n",
      "75%         72.000000                    76.000000\n",
      "max        100.000000                   100.000000\n"
     ]
    }
   ],
   "source": [
    "columns = ['Product_Rating', 'Customer_Satisfaction_Score'] \n",
    "description_multiple_columns = business_dataset[columns].describe()\n",
    "\n",
    "print(description_multiple_columns)"
   ]
  },
  {
   "cell_type": "code",
   "execution_count": 93,
   "id": "a956b343",
   "metadata": {},
   "outputs": [
    {
     "data": {
      "text/plain": [
       "array([  6,  17,   9,  62,  41,  22,  50,  10,  94,  34,  52,  76,   3,\n",
       "        70,   1,  91,  13,  21,  90,  28,  26,  32,  54,  93,  45,   4,\n",
       "        67,  82,  83,  69,  60,  77,  40,  16,  68,  20,  71,  72,  84,\n",
       "        12,  58,  61,  39,   7,  35,  55,  98,  64,  96,  66,  87,  56,\n",
       "        80,  57,  46,  86,  14,   5,  44,  88,  85,  89,  47,  73,  23,\n",
       "        42,  29,  18,  37,  74,  43,  99,  27,  97,  33,  81,  51,  36,\n",
       "       100,  48,  95,  30,  31,  25,  79,  19,   8,  15,  24,  78,  53,\n",
       "        11,  49,  63,   2,  38,   0,  59,  65,  75,  92], dtype=int64)"
      ]
     },
     "execution_count": 93,
     "metadata": {},
     "output_type": "execute_result"
    }
   ],
   "source": [
    "business_dataset['Product_Rating'].unique()"
   ]
  },
  {
   "cell_type": "code",
   "execution_count": 94,
   "id": "642ff190",
   "metadata": {},
   "outputs": [
    {
     "data": {
      "text/plain": [
       "Product_Rating\n",
       "50     877\n",
       "7       92\n",
       "22      90\n",
       "23      89\n",
       "89      88\n",
       "      ... \n",
       "68      54\n",
       "96      52\n",
       "24      48\n",
       "100     38\n",
       "0       33\n",
       "Name: count, Length: 101, dtype: int64"
      ]
     },
     "execution_count": 94,
     "metadata": {},
     "output_type": "execute_result"
    }
   ],
   "source": [
    "business_dataset_counts = business_dataset['Product_Rating'].value_counts()\n",
    "business_dataset_counts"
   ]
  },
  {
   "cell_type": "markdown",
   "id": "50bc3890",
   "metadata": {},
   "source": [
    "#### Define the mean for then replace the zeros one below:"
   ]
  },
  {
   "cell_type": "code",
   "execution_count": 95,
   "id": "d2969be7",
   "metadata": {},
   "outputs": [],
   "source": [
    "business_dataset_median_product = business_dataset['Product_Rating'].median()"
   ]
  },
  {
   "cell_type": "code",
   "execution_count": 96,
   "id": "04ddc8ef",
   "metadata": {},
   "outputs": [],
   "source": [
    "business_dataset['Product_Rating'] = business_dataset['Product_Rating'].replace(0, business_dataset_median_product)"
   ]
  },
  {
   "cell_type": "code",
   "execution_count": 97,
   "id": "1ae3f822",
   "metadata": {},
   "outputs": [],
   "source": [
    "#tranforming 1-100 in 1 to 5 scale.\n",
    "def transform_rating(rating):\n",
    "    if rating <= 20:\n",
    "        return 1\n",
    "    elif rating <= 40:\n",
    "        return 2\n",
    "    elif rating <= 60:\n",
    "        return 3\n",
    "    elif rating <= 80:\n",
    "        return 4\n",
    "    else:\n",
    "        return 5\n",
    "business_dataset['Product_Rating'] = business_dataset['Product_Rating'].apply(transform_rating)"
   ]
  },
  {
   "cell_type": "code",
   "execution_count": 98,
   "id": "9af091ad",
   "metadata": {},
   "outputs": [
    {
     "data": {
      "text/plain": [
       "array([1, 4, 3, 2, 5], dtype=int64)"
      ]
     },
     "execution_count": 98,
     "metadata": {},
     "output_type": "execute_result"
    }
   ],
   "source": [
    "business_dataset['Product_Rating'].unique()"
   ]
  },
  {
   "cell_type": "code",
   "execution_count": 99,
   "id": "49ec982d",
   "metadata": {
    "scrolled": true
   },
   "outputs": [
    {
     "data": {
      "text/plain": [
       "Product_Rating\n",
       "3    2295\n",
       "2    1438\n",
       "4    1432\n",
       "1    1424\n",
       "5    1411\n",
       "Name: count, dtype: int64"
      ]
     },
     "execution_count": 99,
     "metadata": {},
     "output_type": "execute_result"
    }
   ],
   "source": [
    "business_dataset_counts_product = business_dataset['Product_Rating'].value_counts()\n",
    "business_dataset_counts_product"
   ]
  },
  {
   "cell_type": "code",
   "execution_count": 100,
   "id": "51556ad8",
   "metadata": {},
   "outputs": [
    {
     "data": {
      "text/plain": [
       "Product_Rating\n",
       "3    0.286875\n",
       "2    0.179750\n",
       "4    0.179000\n",
       "1    0.178000\n",
       "5    0.176375\n",
       "Name: count, dtype: float64"
      ]
     },
     "execution_count": 100,
     "metadata": {},
     "output_type": "execute_result"
    }
   ],
   "source": [
    "relative_frequencies_products = business_dataset_counts_product/len(business_dataset)  \n",
    "relative_frequencies_products"
   ]
  },
  {
   "cell_type": "code",
   "execution_count": 101,
   "id": "025061af",
   "metadata": {},
   "outputs": [],
   "source": [
    "subtable_products = pd.DataFrame({'Product_Rating': business_dataset_counts_product.index,\n",
    "                        'Frequency': business_dataset_counts_product.values,\n",
    "                        'Relative Frequency': relative_frequencies_products.values})"
   ]
  },
  {
   "cell_type": "code",
   "execution_count": 102,
   "id": "2485e7c4",
   "metadata": {},
   "outputs": [
    {
     "data": {
      "text/html": [
       "<div>\n",
       "<style scoped>\n",
       "    .dataframe tbody tr th:only-of-type {\n",
       "        vertical-align: middle;\n",
       "    }\n",
       "\n",
       "    .dataframe tbody tr th {\n",
       "        vertical-align: top;\n",
       "    }\n",
       "\n",
       "    .dataframe thead th {\n",
       "        text-align: right;\n",
       "    }\n",
       "</style>\n",
       "<table border=\"1\" class=\"dataframe\">\n",
       "  <thead>\n",
       "    <tr style=\"text-align: right;\">\n",
       "      <th></th>\n",
       "      <th>Product_Rating</th>\n",
       "      <th>Frequency</th>\n",
       "      <th>Relative Frequency</th>\n",
       "    </tr>\n",
       "  </thead>\n",
       "  <tbody>\n",
       "    <tr>\n",
       "      <th>0</th>\n",
       "      <td>3</td>\n",
       "      <td>2295</td>\n",
       "      <td>0.286875</td>\n",
       "    </tr>\n",
       "    <tr>\n",
       "      <th>1</th>\n",
       "      <td>2</td>\n",
       "      <td>1438</td>\n",
       "      <td>0.179750</td>\n",
       "    </tr>\n",
       "    <tr>\n",
       "      <th>2</th>\n",
       "      <td>4</td>\n",
       "      <td>1432</td>\n",
       "      <td>0.179000</td>\n",
       "    </tr>\n",
       "    <tr>\n",
       "      <th>3</th>\n",
       "      <td>1</td>\n",
       "      <td>1424</td>\n",
       "      <td>0.178000</td>\n",
       "    </tr>\n",
       "    <tr>\n",
       "      <th>4</th>\n",
       "      <td>5</td>\n",
       "      <td>1411</td>\n",
       "      <td>0.176375</td>\n",
       "    </tr>\n",
       "  </tbody>\n",
       "</table>\n",
       "</div>"
      ],
      "text/plain": [
       "   Product_Rating  Frequency  Relative Frequency\n",
       "0               3       2295            0.286875\n",
       "1               2       1438            0.179750\n",
       "2               4       1432            0.179000\n",
       "3               1       1424            0.178000\n",
       "4               5       1411            0.176375"
      ]
     },
     "execution_count": 102,
     "metadata": {},
     "output_type": "execute_result"
    }
   ],
   "source": [
    "subtable_products"
   ]
  },
  {
   "cell_type": "code",
   "execution_count": 103,
   "id": "65227569",
   "metadata": {},
   "outputs": [
    {
     "data": {
      "text/plain": [
       "False"
      ]
     },
     "execution_count": 103,
     "metadata": {},
     "output_type": "execute_result"
    }
   ],
   "source": [
    "business_dataset['Product_Rating'].isnull().values.any()"
   ]
  },
  {
   "cell_type": "code",
   "execution_count": 104,
   "id": "ee88544b",
   "metadata": {
    "scrolled": true
   },
   "outputs": [
    {
     "data": {
      "text/plain": [
       "False"
      ]
     },
     "execution_count": 104,
     "metadata": {},
     "output_type": "execute_result"
    }
   ],
   "source": [
    "zero_exist = (business_dataset['Product_Rating'] == 0).any()\n",
    "zero_exist"
   ]
  },
  {
   "cell_type": "code",
   "execution_count": 105,
   "id": "3875ab8d",
   "metadata": {
    "scrolled": false
   },
   "outputs": [
    {
     "data": {
      "image/png": "[encoded data removed]",
      "text/plain": [
       "<Figure size 640x480 with 1 Axes>"
      ]
     },
     "metadata": {},
     "output_type": "display_data"
    }
   ],
   "source": [
    "sns.boxplot(x = 'Product_Rating', y = 'Customer_Satisfaction_Score', data = business_dataset, hue = 'Product_Rating')\n",
    "plt.title('Figure 17: Product_Rating and Customer_Satisfaction_Score', fontsize = 16)\n",
    "plt.legend([], [],frameon = False)\n",
    "plt.show()"
   ]
  },
  {
   "cell_type": "code",
   "execution_count": 106,
   "id": "f3bb55eb",
   "metadata": {},
   "outputs": [
    {
     "data": {
      "text/plain": [
       "<matplotlib.legend.Legend at 0x20fbdf7be10>"
      ]
     },
     "execution_count": 106,
     "metadata": {},
     "output_type": "execute_result"
    },
    {
     "data": {
      "image/png": "[encoded data removed]",
      "text/plain": [
       "<Figure size 640x480 with 1 Axes>"
      ]
     },
     "metadata": {},
     "output_type": "display_data"
    }
   ],
   "source": [
    "sns.boxplot(x = 'Product_Rating', y = 'Transaction_Amount', data = business_dataset, hue = 'Product_Rating')\n",
    "plt.title('Figure 18: Product_Rating and Transaction_Amount', fontsize = 16)\n",
    "plt.legend([], [],frameon = False)"
   ]
  },
  {
   "cell_type": "code",
   "execution_count": 107,
   "id": "e69b9306",
   "metadata": {},
   "outputs": [
    {
     "data": {
      "image/png": "[encoded data removed]",
      "text/plain": [
       "<Figure size 800x400 with 1 Axes>"
      ]
     },
     "metadata": {},
     "output_type": "display_data"
    }
   ],
   "source": [
    "business_dataset['Product_Rating'].value_counts().sort_index().plot(kind=\"bar\", figsize=(8,4), color='grey')\n",
    "\n",
    "plt.title(\"Average Product Rating\")\n",
    "plt.ylabel(\"Count\")\n",
    "plt.xlabel(\"Figure 19: Product Rating\")\n",
    "plt.show()"
   ]
  },
  {
   "cell_type": "code",
   "execution_count": 108,
   "id": "2488188b",
   "metadata": {},
   "outputs": [
    {
     "data": {
      "text/plain": [
       "[Text(0.5, 0, 'Product Rating'),\n",
       " Text(0, 0.5, 'Count'),\n",
       " Text(0.5, 1.0, 'Figure 20: Product_Rating')]"
      ]
     },
     "execution_count": 108,
     "metadata": {},
     "output_type": "execute_result"
    },
    {
     "data": {
      "image/png": "[encoded data removed]",
      "text/plain": [
       "<Figure size 640x480 with 1 Axes>"
      ]
     },
     "metadata": {},
     "output_type": "display_data"
    }
   ],
   "source": [
    "ax = sns.histplot(business_dataset.Product_Rating, kde = True, color='grey')\n",
    "ax.set(xlabel = 'Product Rating', ylabel = 'Count', title = 'Figure 20: Product_Rating')"
   ]
  },
  {
   "cell_type": "code",
   "execution_count": 109,
   "id": "a95575cb",
   "metadata": {},
   "outputs": [],
   "source": [
    "import plotly.express as px\n",
    "Product_Rating_order = ['1', '2', '3', '4', '5']"
   ]
  },
  {
   "cell_type": "code",
   "execution_count": 110,
   "id": "1eb55d28",
   "metadata": {},
   "outputs": [
    {
     "data": {
      "image/png": "[encoded data removed]",
      "text/plain": [
       "<Figure size 700x500 with 1 Axes>"
      ]
     },
     "metadata": {},
     "output_type": "display_data"
    }
   ],
   "source": [
    "plt.figure(figsize=(7, 5))\n",
    "plt.boxplot(business_dataset['Product_Rating'])\n",
    "plt.title('Figure 21: Boxplot to Product_Rating')\n",
    "plt.ylabel('Product Rating Count')\n",
    "plt.xlabel('Product_Rating')\n",
    "plt.show()"
   ]
  },
  {
   "cell_type": "markdown",
   "id": "c8404e45",
   "metadata": {},
   "source": [
    "### Customer Satisfaction Score"
   ]
  },
  {
   "cell_type": "code",
   "execution_count": 111,
   "id": "2a4e3959",
   "metadata": {
    "scrolled": true
   },
   "outputs": [
    {
     "data": {
      "text/plain": [
       "Customer_Satisfaction_Score\n",
       "80     101\n",
       "32     100\n",
       "3       98\n",
       "30      97\n",
       "97      95\n",
       "      ... \n",
       "40      61\n",
       "66      61\n",
       "22      61\n",
       "0       44\n",
       "100     35\n",
       "Name: count, Length: 101, dtype: int64"
      ]
     },
     "execution_count": 111,
     "metadata": {},
     "output_type": "execute_result"
    }
   ],
   "source": [
    "business_dataset_counts = business_dataset['Customer_Satisfaction_Score'].value_counts()\n",
    "business_dataset_counts"
   ]
  },
  {
   "cell_type": "code",
   "execution_count": 112,
   "id": "e2f245f5",
   "metadata": {
    "scrolled": false
   },
   "outputs": [
    {
     "data": {
      "text/plain": [
       "array([ 37,  79,  97,  73,   3,  43,  91,  17,  64,  24,  29,  50,   5,\n",
       "        74,  32,  10,  55,  78,  99,  70,  47,  52,  95,   9,  98,  53,\n",
       "        84,  12,  15,  71,  92,   7,  16,  21,   2,  60,  26,  19,  87,\n",
       "         6,  54,  76,  80,  34,  67,  69,   4,  30,  96,  94,  46,  28,\n",
       "        90,  27,  83,  35,  63,  39,  85,  66,  48,  13,  61,  89,  82,\n",
       "        75,  62,  45,  14,  77,  93,   8,  42,  57,  58,  68, 100,  38,\n",
       "        31,  20,  25,   0,   1,  40,  23,  41,  36,  72,  65,  51,  33,\n",
       "        86,  81,  44,  49,  88,  18,  11,  59,  22,  56], dtype=int64)"
      ]
     },
     "execution_count": 112,
     "metadata": {},
     "output_type": "execute_result"
    }
   ],
   "source": [
    "business_dataset['Customer_Satisfaction_Score'].unique()"
   ]
  },
  {
   "cell_type": "code",
   "execution_count": 113,
   "id": "644a7905",
   "metadata": {},
   "outputs": [
    {
     "data": {
      "text/plain": [
       "False"
      ]
     },
     "execution_count": 113,
     "metadata": {},
     "output_type": "execute_result"
    }
   ],
   "source": [
    "business_dataset['Customer_Satisfaction_Score'].isnull().values.any()"
   ]
  },
  {
   "cell_type": "code",
   "execution_count": 114,
   "id": "5ec07861",
   "metadata": {},
   "outputs": [
    {
     "data": {
      "text/plain": [
       "Text(0.5, 0, 'Figure 22: Customer Satisfaction Score')"
      ]
     },
     "execution_count": 114,
     "metadata": {},
     "output_type": "execute_result"
    },
    {
     "data": {
      "image/png": "[encoded data removed]",
      "text/plain": [
       "<Figure size 640x480 with 1 Axes>"
      ]
     },
     "metadata": {},
     "output_type": "display_data"
    }
   ],
   "source": [
    "color3 = 'grey'\n",
    "sns.boxplot(data=business_dataset, x='Customer_Satisfaction_Score', palette=[color3])\n",
    "plt.xlabel('Figure 22: Customer Satisfaction Score')"
   ]
  },
  {
   "cell_type": "code",
   "execution_count": 115,
   "id": "4397c0af",
   "metadata": {
    "scrolled": false
   },
   "outputs": [
    {
     "data": {
      "image/png": "[encoded data removed]",
      "text/plain": [
       "<Figure size 800x400 with 1 Axes>"
      ]
     },
     "metadata": {},
     "output_type": "display_data"
    }
   ],
   "source": [
    "business_dataset.Customer_Satisfaction_Score.value_counts().nlargest(50).plot(kind=\"bar\", figsize=(8,4), color='pink')\n",
    "plt.title(\"Figure 23: Customer_Satisfaction_Score\")\n",
    "plt.ylabel(\"Count\")\n",
    "plt.xlabel(\"Satisfaction Score\");"
   ]
  },
  {
   "cell_type": "markdown",
   "id": "d43d0b3e",
   "metadata": {},
   "source": [
    "## Task 3 and 4:"
   ]
  },
  {
   "cell_type": "markdown",
   "id": "1f599894",
   "metadata": {},
   "source": [
    "#### The process of choosen was select just the categorical, because the continuous would be hard to understand a pattern of probability of customers who responded the new marketing initiatives based on historical data."
   ]
  },
  {
   "cell_type": "markdown",
   "id": "bd6c05e2",
   "metadata": {},
   "source": [
    "### Choosen through of the task 1:\n",
    "Product_Category_Preference, Customer_Segment_Group, Interest_in_New_Product, Product_Rating"
   ]
  },
  {
   "cell_type": "markdown",
   "id": "e2e91131",
   "metadata": {},
   "source": [
    "\n",
    "## Customer_Segment_Group x Product_Category_Preference"
   ]
  },
  {
   "cell_type": "markdown",
   "id": "d81357cf",
   "metadata": {},
   "source": [
    "It will be considerated for the questions below:\n",
    "\n",
    "k= % of the sample, n=sample size and p=probability"
   ]
  },
  {
   "cell_type": "code",
   "execution_count": 116,
   "id": "4bfacd60",
   "metadata": {},
   "outputs": [],
   "source": [
    "import statistics as stats\n",
    "from scipy.stats import binom"
   ]
  },
  {
   "cell_type": "code",
   "execution_count": 117,
   "id": "e7156693",
   "metadata": {},
   "outputs": [
    {
     "name": "stdout",
     "output_type": "stream",
     "text": [
      "Customer_Segment_Group         A    B    C    D\n",
      "Product_Category_Preference                    \n",
      "Basic                        500  543  515  497\n",
      "Gold                         839  765  774  784\n",
      "Platinum                     659  720  689  715\n"
     ]
    }
   ],
   "source": [
    "cross_tab = pd.crosstab(index=business_dataset['Product_Category_Preference'], columns=business_dataset['Customer_Segment_Group'])\n",
    "\n",
    "print(cross_tab)"
   ]
  },
  {
   "cell_type": "markdown",
   "id": "35b577f0",
   "metadata": {},
   "source": [
    "#### Segment 'B' interesting in Gold products:"
   ]
  },
  {
   "cell_type": "code",
   "execution_count": 118,
   "id": "2dfabfa6",
   "metadata": {},
   "outputs": [
    {
     "data": {
      "text/plain": [
       "0.38288288288288286"
      ]
     },
     "execution_count": 118,
     "metadata": {},
     "output_type": "execute_result"
    }
   ],
   "source": [
    "(765 / 1998)"
   ]
  },
  {
   "cell_type": "code",
   "execution_count": 119,
   "id": "9e815d64",
   "metadata": {},
   "outputs": [
    {
     "data": {
      "text/plain": [
       "0.6191795029338351"
      ]
     },
     "execution_count": 119,
     "metadata": {},
     "output_type": "execute_result"
    }
   ],
   "source": [
    "binom.cdf(k =40 , n = 102  , p = 0.3828) "
   ]
  },
  {
   "cell_type": "code",
   "execution_count": 120,
   "id": "36ce1199",
   "metadata": {},
   "outputs": [
    {
     "data": {
      "text/plain": [
       "0.9894822737181891"
      ]
     },
     "execution_count": 120,
     "metadata": {},
     "output_type": "execute_result"
    }
   ],
   "source": [
    "binom.cdf(k =50 , n = 102  , p = 0.3828) "
   ]
  },
  {
   "cell_type": "markdown",
   "id": "7a9e5939",
   "metadata": {},
   "source": [
    "## Customer_Segment_Group x Subscription_Status"
   ]
  },
  {
   "cell_type": "code",
   "execution_count": 121,
   "id": "e68b8504",
   "metadata": {},
   "outputs": [
    {
     "name": "stdout",
     "output_type": "stream",
     "text": [
      "Customer_Segment_Group     A     B     C     D\n",
      "Subscription_Status                           \n",
      "0                       1008  1079  1005   922\n",
      "1                        990   949   973  1074\n"
     ]
    }
   ],
   "source": [
    "cross_tab = pd.crosstab(index=business_dataset['Subscription_Status'], columns=business_dataset['Customer_Segment_Group'])\n",
    "\n",
    "print(cross_tab)"
   ]
  },
  {
   "cell_type": "markdown",
   "id": "e1524d42",
   "metadata": {},
   "source": [
    "#### Who are subscribed by segment A:"
   ]
  },
  {
   "cell_type": "code",
   "execution_count": 122,
   "id": "c56230ad",
   "metadata": {},
   "outputs": [
    {
     "data": {
      "text/plain": [
       "0.5045045045045045"
      ]
     },
     "execution_count": 122,
     "metadata": {},
     "output_type": "execute_result"
    }
   ],
   "source": [
    "(1008 / 1998)"
   ]
  },
  {
   "cell_type": "markdown",
   "id": "6e26aef4",
   "metadata": {},
   "source": [
    "#### Calculate probability between 50 and 60 inclusive, it was substract from P(x=<60) - P(x=<50):"
   ]
  },
  {
   "cell_type": "code",
   "execution_count": 123,
   "id": "20123e8e",
   "metadata": {},
   "outputs": [
    {
     "data": {
      "text/plain": [
       "0.5535104187863269"
      ]
     },
     "execution_count": 123,
     "metadata": {},
     "output_type": "execute_result"
    }
   ],
   "source": [
    "binom.cdf(k =60 , n = 100 , p = 0.5045) - binom.cdf(k =49 , n = 100 , p = 0.5045)"
   ]
  },
  {
   "cell_type": "markdown",
   "id": "3ce92431",
   "metadata": {},
   "source": [
    "#### Calculate probability between 50 and 70 inclusive, it was substract from P(x=<70) - P(x=<50):"
   ]
  },
  {
   "cell_type": "code",
   "execution_count": 124,
   "id": "16f29894",
   "metadata": {},
   "outputs": [
    {
     "data": {
      "text/plain": [
       "0.5753779630814447"
      ]
     },
     "execution_count": 124,
     "metadata": {},
     "output_type": "execute_result"
    }
   ],
   "source": [
    "binom.cdf(k =70 , n = 100 , p = 0.5045) - binom.cdf(k =49 , n = 100 , p = 0.5045)"
   ]
  },
  {
   "cell_type": "markdown",
   "id": "88b261e7",
   "metadata": {},
   "source": [
    "## Customer_Segment_Group x Interest_in_New_Product"
   ]
  },
  {
   "cell_type": "code",
   "execution_count": 125,
   "id": "a1b38904",
   "metadata": {},
   "outputs": [
    {
     "name": "stdout",
     "output_type": "stream",
     "text": [
      "Customer_Segment_Group      A     B     C     D\n",
      "Interest_in_New_Product                        \n",
      "No                        959   980  1017   995\n",
      "Yes                      1039  1048   961  1001\n"
     ]
    }
   ],
   "source": [
    "cross_tab = pd.crosstab(index=business_dataset['Interest_in_New_Product'], columns=business_dataset['Customer_Segment_Group'])\n",
    "\n",
    "print(cross_tab)"
   ]
  },
  {
   "cell_type": "markdown",
   "id": "b383c20e",
   "metadata": {},
   "source": [
    "#### Who has interesting on the product by the segment B:"
   ]
  },
  {
   "cell_type": "code",
   "execution_count": 126,
   "id": "04a46deb",
   "metadata": {},
   "outputs": [
    {
     "data": {
      "text/plain": [
       "0.5245245245245245"
      ]
     },
     "execution_count": 126,
     "metadata": {},
     "output_type": "execute_result"
    }
   ],
   "source": [
    "(1048 / 1998)"
   ]
  },
  {
   "cell_type": "markdown",
   "id": "a3988030",
   "metadata": {},
   "source": [
    "#### Calculate probability between 50 and 60 inclusive, it was substract from P(x=<60) - P(x=<49):"
   ]
  },
  {
   "cell_type": "code",
   "execution_count": 127,
   "id": "5c529425",
   "metadata": {},
   "outputs": [
    {
     "data": {
      "text/plain": [
       "0.7168895219792664"
      ]
     },
     "execution_count": 127,
     "metadata": {},
     "output_type": "execute_result"
    }
   ],
   "source": [
    "binom.cdf(k =60 , n = 102 , p = 0.52002) - binom.cdf(k =49 , n = 102 , p = 0.5245)"
   ]
  },
  {
   "cell_type": "markdown",
   "id": "ea3f9b3b",
   "metadata": {},
   "source": [
    "#### Calculate probability between 50 and 80 inclusive, it was substract from P(x=<80) - P(x=<49):"
   ]
  },
  {
   "cell_type": "code",
   "execution_count": 128,
   "id": "c8a2db4a",
   "metadata": {},
   "outputs": [
    {
     "data": {
      "text/plain": [
       "0.786178606929099"
      ]
     },
     "execution_count": 128,
     "metadata": {},
     "output_type": "execute_result"
    }
   ],
   "source": [
    "binom.cdf(k =80 , n = 102 , p = 0.52002) - binom.cdf(k =49 , n = 102 , p = 0.5245)"
   ]
  },
  {
   "cell_type": "markdown",
   "id": "7a61cce7",
   "metadata": {},
   "source": [
    "## Task 5:\n",
    "#### Customer_Satisfaction_Score"
   ]
  },
  {
   "cell_type": "markdown",
   "id": "6ea0cff3",
   "metadata": {},
   "source": [
    "Has been chosen the associate Customer_Satisfaction_Score with the High_Value_Purchase_Count, in this case the minmaxScaler, because there was a reduction in dimensionality due to outliers."
   ]
  },
  {
   "cell_type": "code",
   "execution_count": 130,
   "id": "f5f09cac",
   "metadata": {},
   "outputs": [
    {
     "data": {
      "text/html": [
       "<div>\n",
       "<style scoped>\n",
       "    .dataframe tbody tr th:only-of-type {\n",
       "        vertical-align: middle;\n",
       "    }\n",
       "\n",
       "    .dataframe tbody tr th {\n",
       "        vertical-align: top;\n",
       "    }\n",
       "\n",
       "    .dataframe thead th {\n",
       "        text-align: right;\n",
       "    }\n",
       "</style>\n",
       "<table border=\"1\" class=\"dataframe\">\n",
       "  <thead>\n",
       "    <tr style=\"text-align: right;\">\n",
       "      <th></th>\n",
       "      <th>minmax</th>\n",
       "      <th>Customer_Satisfaction_Score</th>\n",
       "    </tr>\n",
       "  </thead>\n",
       "  <tbody>\n",
       "    <tr>\n",
       "      <th>count</th>\n",
       "      <td>8000.000000</td>\n",
       "      <td>8000.000000</td>\n",
       "    </tr>\n",
       "    <tr>\n",
       "      <th>mean</th>\n",
       "      <td>0.038691</td>\n",
       "      <td>50.212000</td>\n",
       "    </tr>\n",
       "    <tr>\n",
       "      <th>std</th>\n",
       "      <td>0.058212</td>\n",
       "      <td>28.984204</td>\n",
       "    </tr>\n",
       "    <tr>\n",
       "      <th>min</th>\n",
       "      <td>0.000000</td>\n",
       "      <td>0.000000</td>\n",
       "    </tr>\n",
       "    <tr>\n",
       "      <th>25%</th>\n",
       "      <td>0.017316</td>\n",
       "      <td>25.000000</td>\n",
       "    </tr>\n",
       "    <tr>\n",
       "      <th>50%</th>\n",
       "      <td>0.034384</td>\n",
       "      <td>51.000000</td>\n",
       "    </tr>\n",
       "    <tr>\n",
       "      <th>75%</th>\n",
       "      <td>0.051239</td>\n",
       "      <td>76.000000</td>\n",
       "    </tr>\n",
       "    <tr>\n",
       "      <th>max</th>\n",
       "      <td>1.000000</td>\n",
       "      <td>100.000000</td>\n",
       "    </tr>\n",
       "  </tbody>\n",
       "</table>\n",
       "</div>"
      ],
      "text/plain": [
       "            minmax  Customer_Satisfaction_Score\n",
       "count  8000.000000                  8000.000000\n",
       "mean      0.038691                    50.212000\n",
       "std       0.058212                    28.984204\n",
       "min       0.000000                     0.000000\n",
       "25%       0.017316                    25.000000\n",
       "50%       0.034384                    51.000000\n",
       "75%       0.051239                    76.000000\n",
       "max       1.000000                   100.000000"
      ]
     },
     "execution_count": 130,
     "metadata": {},
     "output_type": "execute_result"
    }
   ],
   "source": [
    "bd_features=business_dataset[['minmax', 'Customer_Satisfaction_Score']]\n",
    "bd_features.describe()"
   ]
  },
  {
   "cell_type": "code",
   "execution_count": 131,
   "id": "66f3fd96",
   "metadata": {},
   "outputs": [],
   "source": [
    "from scipy.stats import norm"
   ]
  },
  {
   "cell_type": "markdown",
   "id": "34dd4cc9",
   "metadata": {},
   "source": [
    "µ = mu\n",
    "σ = sigma"
   ]
  },
  {
   "cell_type": "code",
   "execution_count": 135,
   "id": "a1c0e890",
   "metadata": {},
   "outputs": [],
   "source": [
    "mu = 50.212000            \n",
    "sigma = 28.984204         "
   ]
  },
  {
   "cell_type": "markdown",
   "id": "cf25cf14",
   "metadata": {},
   "source": [
    "#### Calculate the satisfaction score lower than 40 points --> P(x < 40):"
   ]
  },
  {
   "cell_type": "code",
   "execution_count": 136,
   "id": "789586c5",
   "metadata": {},
   "outputs": [
    {
     "data": {
      "text/plain": [
       "0.36229545545376285"
      ]
     },
     "execution_count": 136,
     "metadata": {},
     "output_type": "execute_result"
    }
   ],
   "source": [
    "norm.cdf(40, mu, sigma)"
   ]
  },
  {
   "cell_type": "markdown",
   "id": "0c3b66d9",
   "metadata": {},
   "source": [
    "#### We calculate the satisfaction score  greater than 40 points --> P(X > 40):"
   ]
  },
  {
   "cell_type": "code",
   "execution_count": 137,
   "id": "d33f498b",
   "metadata": {},
   "outputs": [
    {
     "data": {
      "text/plain": [
       "0.6377045445462372"
      ]
     },
     "execution_count": 137,
     "metadata": {},
     "output_type": "execute_result"
    }
   ],
   "source": [
    "norm.sf(40, mu, sigma)"
   ]
  },
  {
   "cell_type": "markdown",
   "id": "8d6b2dbf",
   "metadata": {},
   "source": [
    "#### Calculate between 50 and 80 points --> P(x<50) - P(x<80):"
   ]
  },
  {
   "cell_type": "code",
   "execution_count": 138,
   "id": "9051867e",
   "metadata": {},
   "outputs": [
    {
     "data": {
      "text/plain": [
       "0.35088006275948574"
      ]
     },
     "execution_count": 138,
     "metadata": {},
     "output_type": "execute_result"
    }
   ],
   "source": [
    "norm.cdf(80, mu, sigma) - norm.cdf(50, mu, sigma)"
   ]
  },
  {
   "cell_type": "code",
   "execution_count": 139,
   "id": "55f111c8",
   "metadata": {},
   "outputs": [],
   "source": [
    "import matplotlib.pyplot as plt"
   ]
  },
  {
   "cell_type": "code",
   "execution_count": 140,
   "id": "b099250b",
   "metadata": {},
   "outputs": [],
   "source": [
    "x = np.linspace(0, 100, 500)       \n",
    "\n",
    "pdf_values = norm.pdf(x, mu, sigma)"
   ]
  },
  {
   "cell_type": "code",
   "execution_count": 141,
   "id": "02f7ab21",
   "metadata": {},
   "outputs": [
    {
     "data": {
      "image/png": "[encoded data removed]",
      "text/plain": [
       "<Figure size 800x400 with 1 Axes>"
      ]
     },
     "metadata": {},
     "output_type": "display_data"
    }
   ],
   "source": [
    "plt.figure(figsize=(8,4))\n",
    "plt.plot(x, pdf_values, label = 'Customer_Satisfaction_Score', color = 'blue')\n",
    "\n",
    "\n",
    "plt.fill_between(x, pdf_values, where = (x<40), color = 'red', alpha = 0.05, label = 'X <40')\n",
    "\n",
    "plt.title('Customer_Satisfaction_Score')\n",
    "plt.xlabel('Figure 24: X<50')\n",
    "plt.ylabel('Probabilities of Customer_Satisfaction_Score')\n",
    "plt.grid(True)\n",
    "plt.show()"
   ]
  },
  {
   "cell_type": "code",
   "execution_count": null,
   "id": "e8238854",
   "metadata": {},
   "outputs": [],
   "source": []
  },
  {
   "cell_type": "code",
   "execution_count": null,
   "id": "8be66d7e",
   "metadata": {},
   "outputs": [],
   "source": []
  }
 ],
 "metadata": {
  "kernelspec": {
   "display_name": "Python 3 (ipykernel)",
   "language": "python",
   "name": "python3"
  },
  "language_info": {
   "codemirror_mode": {
    "name": "ipython",
    "version": 3
   },
   "file_extension": ".py",
   "mimetype": "text/x-python",
   "name": "python",
   "nbconvert_exporter": "python",
   "pygments_lexer": "ipython3",
   "version": "3.11.5"
  }
 },
 "nbformat": 4,
 "nbformat_minor": 5
}
